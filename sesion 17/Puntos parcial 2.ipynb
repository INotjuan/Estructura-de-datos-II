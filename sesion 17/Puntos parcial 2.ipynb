{
  "nbformat": 4,
  "nbformat_minor": 0,
  "metadata": {
    "colab": {
      "provenance": []
    },
    "kernelspec": {
      "name": "python3",
      "display_name": "Python 3"
    },
    "language_info": {
      "name": "python"
    }
  },
  "cells": [
    {
      "cell_type": "markdown",
      "source": [
        "# ==============================\n",
        "# PROGRAMA 1: CARRITO DE COMPRAS\n",
        "# =============================="
      ],
      "metadata": {
        "id": "NBkwjT7tWIJd"
      }
    },
    {
      "cell_type": "code",
      "execution_count": 1,
      "metadata": {
        "colab": {
          "base_uri": "https://localhost:8080/"
        },
        "id": "B1m2Igy4VpVr",
        "outputId": "3efd6403-8296-4e16-b36b-53e6f72f0113"
      },
      "outputs": [
        {
          "output_type": "stream",
          "name": "stdout",
          "text": [
            "Menu del Carrito\n",
            "Agregar al Carrito\n",
            "Eliminar Productos\n",
            "Ver Carrito\n",
            "Salir\n",
            "Elige una opcion:1\n",
            "Ingresa el nombre del producto:a\n",
            "a agregado al carrito\n",
            "Menu del Carrito\n",
            "Agregar al Carrito\n",
            "Eliminar Productos\n",
            "Ver Carrito\n",
            "Salir\n",
            "Elige una opcion:1\n",
            "Ingresa el nombre del producto:b\n",
            "b agregado al carrito\n",
            "Menu del Carrito\n",
            "Agregar al Carrito\n",
            "Eliminar Productos\n",
            "Ver Carrito\n",
            "Salir\n",
            "Elige una opcion:1\n",
            "Ingresa el nombre del producto:c\n",
            "c agregado al carrito\n",
            "Menu del Carrito\n",
            "Agregar al Carrito\n",
            "Eliminar Productos\n",
            "Ver Carrito\n",
            "Salir\n",
            "Elige una opcion:3\n",
            "Contenido del Carrito ['a', 'b', 'c']\n",
            "Menu del Carrito\n",
            "Agregar al Carrito\n",
            "Eliminar Productos\n",
            "Ver Carrito\n",
            "Salir\n",
            "Elige una opcion:2\n",
            "Ingresa el producto que quiere eliminar:a\n",
            "a eliminado del carrito\n",
            "Menu del Carrito\n",
            "Agregar al Carrito\n",
            "Eliminar Productos\n",
            "Ver Carrito\n",
            "Salir\n",
            "Elige una opcion:3\n",
            "Contenido del Carrito ['b', 'c']\n",
            "Menu del Carrito\n",
            "Agregar al Carrito\n",
            "Eliminar Productos\n",
            "Ver Carrito\n",
            "Salir\n",
            "Elige una opcion:4\n",
            "Saliendo del Progama\n"
          ]
        }
      ],
      "source": [
        "Carrito = []  # Lista vacía para almacenar productos\n",
        "\n",
        "while True:   # Bucle infinito hasta que el usuario salga\n",
        "  print(\"Menu del Carrito\")\n",
        "  print(\"Agregar al Carrito\")\n",
        "  print(\"Eliminar Productos\")\n",
        "  print(\"Ver Carrito\")\n",
        "  print(\"Salir\")\n",
        "\n",
        "  opc = input(\"Elige una opcion:\")  # Se pide opción al usuario\n",
        "\n",
        "  if opc == \"1\":   # Opción 1: Agregar producto\n",
        "    producto = input(\"Ingresa el nombre del producto:\")\n",
        "    Carrito.append(producto)  # Agregar a la lista\n",
        "    print(producto,\"agregado al carrito\")\n",
        "\n",
        "  elif opc == \"2\":  # Opción 2: Eliminar producto\n",
        "    producto = input(\"Ingresa el producto que quiere eliminar:\")\n",
        "    if producto in Carrito:       # Verifica si existe\n",
        "      Carrito.remove(producto)    # Lo elimina\n",
        "      print(producto,\"eliminado del carrito\")\n",
        "    else:\n",
        "      print(\"El producto no esta en el carrito\")\n",
        "\n",
        "  elif opc == \"3\":  # Opción 3: Ver el carrito\n",
        "    if Carrito:  # Si no está vacío\n",
        "      print(\"Contenido del Carrito\",Carrito)\n",
        "    else:\n",
        "      print(\"El carrito esta vacio\")\n",
        "\n",
        "  elif opc == \"4\":  # Opción 4: Salir del programa\n",
        "    print(\"Saliendo del Progama\")\n",
        "    break\n",
        "\n",
        "  else:  # Si la opción no es válida\n",
        "    print(\"Opcion invalida , intente de nuevo\")"
      ]
    },
    {
      "cell_type": "markdown",
      "source": [
        "# ==============================\n",
        "# PROGRAMA 2: REGISTRO DE USUARIOS\n",
        "# ==============================\n"
      ],
      "metadata": {
        "id": "msL1FmZ4WRMq"
      }
    },
    {
      "cell_type": "code",
      "source": [
        "}roles_validos = (\"admin\",\"editor\",\"visitante\")  # Roles permitidos\n",
        "usuarios = []  # Lista para almacenar usuarios y roles\n",
        "\n",
        "while True:\n",
        "  print(\"Registrate\")\n",
        "  nombre = input(\"ingresqa nombre del usuario (o salir para terminar el para terminar):\")\n",
        "  if nombre.lower()== \"salir\":  # Si escribe salir, se rompe el ciclo\n",
        "    break\n",
        "  rol = input(\"ingresar el rol(admin, editor, visitante):\")\n",
        "\n",
        "  if rol in roles_validos:   # Si el rol es válido\n",
        "    usuarios.append((nombre,rol))  # Se guarda como tupla\n",
        "    print(\"usuario\",nombre,\"con rol\",rol,\"registrado\")\n",
        "  else:\n",
        "    print(\"rol invalido,intentar de nuevo\")\n",
        "\n",
        "print(\"lista de usuarios registrados:\")\n",
        "for usuario in usuarios:\n",
        "  print(usuarios)  # ⚠️ Aquí imprime la lista completa varias veces"
      ],
      "metadata": {
        "colab": {
          "base_uri": "https://localhost:8080/"
        },
        "id": "oKdUxSe0WTU6",
        "outputId": "138adf05-4739-4442-8829-2d1cda6b549c"
      },
      "execution_count": 2,
      "outputs": [
        {
          "output_type": "stream",
          "name": "stdout",
          "text": [
            "Registrate\n",
            "ingresqa nombre del usuario (o salir para terminar el para terminar):juan\n",
            "ingresar el rol(admin, editor, visitante):editor\n",
            "usuario juan con rol editor registrado\n",
            "Registrate\n",
            "ingresqa nombre del usuario (o salir para terminar el para terminar):carolina\n",
            "ingresar el rol(admin, editor, visitante):admin\n",
            "usuario carolina con rol admin registrado\n",
            "Registrate\n",
            "ingresqa nombre del usuario (o salir para terminar el para terminar):laura\n",
            "ingresar el rol(admin, editor, visitante):visitante\n",
            "usuario laura con rol visitante registrado\n",
            "Registrate\n",
            "ingresqa nombre del usuario (o salir para terminar el para terminar):salir\n",
            "lista de usuarios registrados:\n",
            "[('juan', 'editor'), ('carolina', 'admin'), ('laura', 'visitante')]\n",
            "[('juan', 'editor'), ('carolina', 'admin'), ('laura', 'visitante')]\n",
            "[('juan', 'editor'), ('carolina', 'admin'), ('laura', 'visitante')]\n"
          ]
        }
      ]
    },
    {
      "cell_type": "markdown",
      "source": [
        "# ==============================\n",
        "# PROGRAMA 3: AGENDA DE CONTACTOS\n",
        "# =============================="
      ],
      "metadata": {
        "id": "sEFxDL9dWWXL"
      }
    },
    {
      "cell_type": "code",
      "source": [
        "Agenda = {}  # Diccionario vacío para almacenar contactos\n",
        "\n",
        "while True:\n",
        "  print(\"Menu de Agenda\")\n",
        "  print(\"1. Agregar Contacto\")\n",
        "  print(\"2. Buscar Contacto\")\n",
        "  print(\"3. Mostrar todos los contactos\")\n",
        "  print(\"4. Salir\")\n",
        "  opc = input(\"Elige una opcion:\")\n",
        "\n",
        "  if opc == \"1\":   # Agregar contacto\n",
        "    nombre = input(\"Ingresa el nombre del contacto:\")\n",
        "    telefono = input(\"Ingresa el telefono del contacto:\")\n",
        "    Agenda.update({nombre : telefono})  # Agregar al diccionario\n",
        "    print(\"contacto\",nombre,\"agendado\")\n",
        "\n",
        "  elif opc == \"2\":  # Buscar contacto\n",
        "    nombre = input(\"Nombre a buscar:\")\n",
        "    telefono = Agenda.get(nombre)  # Busca en el diccionario\n",
        "    if telefono:\n",
        "      print(nombre,telefono)\n",
        "    else:\n",
        "      print(\"contacto inexistente\")\n",
        "\n",
        "  elif opc == \"3\":  # Mostrar todos\n",
        "    if Agenda:\n",
        "      print(\"Lista de contactos:\")\n",
        "      for nombre,telefono in Agenda.items():\n",
        "        print(nombre,telefono)\n",
        "    else:\n",
        "      print(\"Agenda vacia\")\n",
        "\n",
        "  elif opc == \"4\":  # Salir\n",
        "    print(\"Saliendo del programa\")\n",
        "    break\n",
        "\n",
        "  else:\n",
        "    print(\"Opcion invalida, intente de nuevo\")"
      ],
      "metadata": {
        "colab": {
          "base_uri": "https://localhost:8080/"
        },
        "id": "7snzeSoMWYSp",
        "outputId": "dfbc1488-a30e-4836-c805-f424f439a548"
      },
      "execution_count": 3,
      "outputs": [
        {
          "output_type": "stream",
          "name": "stdout",
          "text": [
            "Menu de Agenda\n",
            "1. Agregar Contacto\n",
            "2. Buscar Contacto\n",
            "3. Mostrar todos los contactos\n",
            "4. Salir\n",
            "Elige una opcion:1\n",
            "Ingresa el nombre del contacto:juan\n",
            "Ingresa el telefono del contacto:1\n",
            "contacto juan agendado\n",
            "Menu de Agenda\n",
            "1. Agregar Contacto\n",
            "2. Buscar Contacto\n",
            "3. Mostrar todos los contactos\n",
            "4. Salir\n",
            "Elige una opcion:1\n",
            "Ingresa el nombre del contacto:carolina\n",
            "Ingresa el telefono del contacto:2\n",
            "contacto carolina agendado\n",
            "Menu de Agenda\n",
            "1. Agregar Contacto\n",
            "2. Buscar Contacto\n",
            "3. Mostrar todos los contactos\n",
            "4. Salir\n",
            "Elige una opcion:1\n",
            "Ingresa el nombre del contacto:laura\n",
            "Ingresa el telefono del contacto:3\n",
            "contacto laura agendado\n",
            "Menu de Agenda\n",
            "1. Agregar Contacto\n",
            "2. Buscar Contacto\n",
            "3. Mostrar todos los contactos\n",
            "4. Salir\n",
            "Elige una opcion:2\n",
            "Nombre a buscar:laura\n",
            "laura 3\n",
            "Menu de Agenda\n",
            "1. Agregar Contacto\n",
            "2. Buscar Contacto\n",
            "3. Mostrar todos los contactos\n",
            "4. Salir\n",
            "Elige una opcion:3\n",
            "Lista de contactos:\n",
            "juan 1\n",
            "carolina 2\n",
            "laura 3\n",
            "Menu de Agenda\n",
            "1. Agregar Contacto\n",
            "2. Buscar Contacto\n",
            "3. Mostrar todos los contactos\n",
            "4. Salir\n",
            "Elige una opcion:4\n",
            "Saliendo del programa\n"
          ]
        }
      ]
    },
    {
      "cell_type": "markdown",
      "source": [
        "# ==============================\n",
        "# PROGRAMA 4: VOTACIÓN DE COLORES\n",
        "# =============================="
      ],
      "metadata": {
        "id": "HrIq0yFxWaxK"
      }
    },
    {
      "cell_type": "code",
      "source": [
        "# Diccionario para contar votos por color\n",
        "votos = {\"rojo\": 0 ,\"azul\": 0 ,\"verde\": 0 ,\"amarillo\": 0}\n",
        "\n",
        "while True:\n",
        "  print(\"Votacion de colores Favoritos\")\n",
        "  print(\"colores disponibles:\", list(votos.keys()))\n",
        "  print(\"Escribe salir para terminar resultados\")\n",
        "\n",
        "  color = input(\"vota por un color:\").lower()  # Se pasa a minúscula\n",
        "\n",
        "  if color == \"salir\":\n",
        "    break\n",
        "\n",
        "  elif color in votos:   # ⚠️ Aquí hay un problema: las claves no están todas en minúsculas\n",
        "    votos[color] += 1\n",
        "    print(\"voto registrado por\",color)\n",
        "  else:\n",
        "    print(\"opcion invalida, intente de nuevo\")\n",
        "\n",
        "print(\"resultados de la votacion:\")\n",
        "for color,cantidad in votos.items():\n",
        "  print(color,votos,\"votos\")  # ⚠️ Aquí imprime todo el diccionario en lugar de la cantidad"
      ],
      "metadata": {
        "colab": {
          "base_uri": "https://localhost:8080/"
        },
        "id": "qN5zE0qKWcq5",
        "outputId": "32e74615-4db6-41bd-8bc3-17b17a624e96"
      },
      "execution_count": 5,
      "outputs": [
        {
          "output_type": "stream",
          "name": "stdout",
          "text": [
            "Votacion de colores Favoritos\n",
            "colores disponibles: ['rojo', 'azul', 'verde', 'amarillo']\n",
            "Escribe salir para terminar resultados\n",
            "vota por un color:rojo\n",
            "voto registrado por rojo\n",
            "Votacion de colores Favoritos\n",
            "colores disponibles: ['rojo', 'azul', 'verde', 'amarillo']\n",
            "Escribe salir para terminar resultados\n",
            "vota por un color:verde\n",
            "voto registrado por verde\n",
            "Votacion de colores Favoritos\n",
            "colores disponibles: ['rojo', 'azul', 'verde', 'amarillo']\n",
            "Escribe salir para terminar resultados\n",
            "vota por un color:azul\n",
            "voto registrado por azul\n",
            "Votacion de colores Favoritos\n",
            "colores disponibles: ['rojo', 'azul', 'verde', 'amarillo']\n",
            "Escribe salir para terminar resultados\n",
            "vota por un color:amarillo\n",
            "voto registrado por amarillo\n",
            "Votacion de colores Favoritos\n",
            "colores disponibles: ['rojo', 'azul', 'verde', 'amarillo']\n",
            "Escribe salir para terminar resultados\n",
            "vota por un color:azul\n",
            "voto registrado por azul\n",
            "Votacion de colores Favoritos\n",
            "colores disponibles: ['rojo', 'azul', 'verde', 'amarillo']\n",
            "Escribe salir para terminar resultados\n",
            "vota por un color:verde\n",
            "voto registrado por verde\n",
            "Votacion de colores Favoritos\n",
            "colores disponibles: ['rojo', 'azul', 'verde', 'amarillo']\n",
            "Escribe salir para terminar resultados\n",
            "vota por un color:verde\n",
            "voto registrado por verde\n",
            "Votacion de colores Favoritos\n",
            "colores disponibles: ['rojo', 'azul', 'verde', 'amarillo']\n",
            "Escribe salir para terminar resultados\n",
            "vota por un color:salir\n",
            "resultados de la votacion:\n",
            "rojo {'rojo': 1, 'azul': 2, 'verde': 3, 'amarillo': 1} votos\n",
            "azul {'rojo': 1, 'azul': 2, 'verde': 3, 'amarillo': 1} votos\n",
            "verde {'rojo': 1, 'azul': 2, 'verde': 3, 'amarillo': 1} votos\n",
            "amarillo {'rojo': 1, 'azul': 2, 'verde': 3, 'amarillo': 1} votos\n"
          ]
        }
      ]
    }
  ]
}