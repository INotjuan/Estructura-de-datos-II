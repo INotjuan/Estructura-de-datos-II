{
  "nbformat": 4,
  "nbformat_minor": 0,
  "metadata": {
    "colab": {
      "provenance": []
    },
    "kernelspec": {
      "name": "python3",
      "display_name": "Python 3"
    },
    "language_info": {
      "name": "python"
    }
  },
  "cells": [
    {
      "cell_type": "code",
      "source": [
        "edad = ['10', '20', '18', '8']\n",
        "\n",
        "edad = edad + [2,19,30]\n",
        "\n",
        "for edad in edad:\n",
        "    print(edad)"
      ],
      "metadata": {
        "colab": {
          "base_uri": "https://localhost:8080/"
        },
        "id": "P7oTapIN4NPx",
        "outputId": "2c8a4e04-2984-416f-d411-fbf4604f5957"
      },
      "execution_count": 90,
      "outputs": [
        {
          "output_type": "stream",
          "name": "stdout",
          "text": [
            "10\n",
            "20\n",
            "18\n",
            "8\n",
            "2\n",
            "19\n",
            "30\n"
          ]
        }
      ]
    },
    {
      "cell_type": "code",
      "source": [
        "edad = ['10', '20', '18', '8']\n",
        "\n",
        "edad.append(24)\n",
        "edad.append(15)\n",
        "\n",
        "for edad in edad:\n",
        "    print(edad)"
      ],
      "metadata": {
        "colab": {
          "base_uri": "https://localhost:8080/"
        },
        "id": "_A3kscl32YjD",
        "outputId": "6ebc0792-fa7e-43ca-9587-4132b5fe0eea"
      },
      "execution_count": 81,
      "outputs": [
        {
          "output_type": "stream",
          "name": "stdout",
          "text": [
            "10\n",
            "20\n",
            "18\n",
            "8\n",
            "24\n",
            "15\n"
          ]
        }
      ]
    },
    {
      "cell_type": "code",
      "source": [
        "edad = ['10', '20', '18', '8']\n",
        "\n",
        "indice = 0\n",
        "\n",
        "while indice < len(edad):\n",
        "    print(edad[indice])\n",
        "    indice += 1"
      ],
      "metadata": {
        "colab": {
          "base_uri": "https://localhost:8080/"
        },
        "id": "X2NJcne01Qj0",
        "outputId": "9bf17c32-f19e-44ab-cc7a-c3456ade87cb"
      },
      "execution_count": 82,
      "outputs": [
        {
          "output_type": "stream",
          "name": "stdout",
          "text": [
            "10\n",
            "20\n",
            "18\n",
            "8\n"
          ]
        }
      ]
    },
    {
      "cell_type": "code",
      "source": [
        "edad = ['10', '20', '18', '8']\n",
        "\n",
        "for edad in edad:\n",
        "    print(edad)\n",
        "\n"
      ],
      "metadata": {
        "colab": {
          "base_uri": "https://localhost:8080/"
        },
        "id": "mEwpuVl-z1Pr",
        "outputId": "43ce339f-54e7-4d46-cc17-cbaa7b01a46d"
      },
      "execution_count": 83,
      "outputs": [
        {
          "output_type": "stream",
          "name": "stdout",
          "text": [
            "10\n",
            "20\n",
            "18\n",
            "8\n"
          ]
        }
      ]
    },
    {
      "cell_type": "code",
      "source": [
        "edad = ['10', '20', '18', '8']\n",
        "\n",
        "for i in range(len(edad)):\n",
        "    print(edad[i])"
      ],
      "metadata": {
        "colab": {
          "base_uri": "https://localhost:8080/"
        },
        "id": "TWDIB4NG0fUf",
        "outputId": "ec0b40ec-6d0a-4057-a031-7f8c514de5f2"
      },
      "execution_count": 84,
      "outputs": [
        {
          "output_type": "stream",
          "name": "stdout",
          "text": [
            "10\n",
            "20\n",
            "18\n",
            "8\n"
          ]
        }
      ]
    },
    {
      "cell_type": "code",
      "source": [
        "Lista = ['ejemplo1', 'ejemplo2', 'ejemplo3']\n",
        "\n",
        "print(Lista[-1])"
      ],
      "metadata": {
        "colab": {
          "base_uri": "https://localhost:8080/"
        },
        "id": "4n67sDzdy5hb",
        "outputId": "ba627f6a-eff3-40b4-aaa4-8e8daef11796"
      },
      "execution_count": 85,
      "outputs": [
        {
          "output_type": "stream",
          "name": "stdout",
          "text": [
            "ejemplo3\n"
          ]
        }
      ]
    },
    {
      "cell_type": "code",
      "source": [
        "Lista = ['ejemplo1', 'ejemplo2', 'ejemplo3']\n",
        "\n",
        "print(Lista[2])"
      ],
      "metadata": {
        "colab": {
          "base_uri": "https://localhost:8080/"
        },
        "id": "bt-W08wWt_nH",
        "outputId": "7ee42ab0-57a9-45d8-d1dc-c80f48a15125"
      },
      "execution_count": 86,
      "outputs": [
        {
          "output_type": "stream",
          "name": "stdout",
          "text": [
            "ejemplo3\n"
          ]
        }
      ]
    },
    {
      "cell_type": "code",
      "execution_count": 87,
      "metadata": {
        "colab": {
          "base_uri": "https://localhost:8080/"
        },
        "id": "TKwuFni6q37f",
        "outputId": "757fc620-395a-44a8-baca-e66a3de1530b"
      },
      "outputs": [
        {
          "output_type": "stream",
          "name": "stdout",
          "text": [
            "Mis Cosas Favoritas ['Familia', 'Furbol']\n"
          ]
        }
      ],
      "source": [
        "mylist = [\"Familia\",\"Furbol\"]\n",
        "print(\"Mis Cosas Favoritas\", mylist)"
      ]
    },
    {
      "cell_type": "code",
      "source": [
        "print(\"mis cosas Favoritas\")\n",
        "for Item in mylist:\n",
        "    print(Item)"
      ],
      "metadata": {
        "colab": {
          "base_uri": "https://localhost:8080/"
        },
        "id": "VqU0j7IZtlyf",
        "outputId": "63fb23f5-a06a-4647-8239-f23b53715be8"
      },
      "execution_count": 88,
      "outputs": [
        {
          "output_type": "stream",
          "name": "stdout",
          "text": [
            "mis cosas Favoritas\n",
            "Familia\n",
            "Furbol\n"
          ]
        }
      ]
    }
  ]
}