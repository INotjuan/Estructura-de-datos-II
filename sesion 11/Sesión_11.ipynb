{
  "nbformat": 4,
  "nbformat_minor": 0,
  "metadata": {
    "colab": {
      "provenance": []
    },
    "kernelspec": {
      "name": "python3",
      "display_name": "Python 3"
    },
    "language_info": {
      "name": "python"
    }
  },
  "cells": [
    {
      "cell_type": "code",
      "execution_count": 22,
      "metadata": {
        "colab": {
          "base_uri": "https://localhost:8080/"
        },
        "id": "Ohk26Q3zqK1S",
        "outputId": "f535341e-613d-4db8-8c17-f2fd5f01ee79"
      },
      "outputs": [
        {
          "output_type": "stream",
          "name": "stdout",
          "text": [
            "{'Nombre': 'Carolina', 'Edad': 26, 'Documento': 1004671669}\n"
          ]
        }
      ],
      "source": [
        "d1={\n",
        "    \"Nombre\": \"Carolina\",\n",
        "    \"Edad\": 26,\n",
        "    \"Documento\": 1004671669\n",
        "}\n",
        "print(d1)"
      ]
    },
    {
      "cell_type": "code",
      "source": [
        "d2 = dict([\n",
        "    (\"Nombre\", \"Carolina\"),\n",
        "    (\"Edad\", 26),\n",
        "    (\"Documento\", 1004671669)\n",
        "])\n",
        "print(d2)"
      ],
      "metadata": {
        "colab": {
          "base_uri": "https://localhost:8080/"
        },
        "id": "k1Puv0MEqmLp",
        "outputId": "b34031b1-f095-4ece-91fa-2a7ecdf40117"
      },
      "execution_count": 23,
      "outputs": [
        {
          "output_type": "stream",
          "name": "stdout",
          "text": [
            "{'Nombre': 'Carolina', 'Edad': 26, 'Documento': 1004671669}\n"
          ]
        }
      ]
    },
    {
      "cell_type": "code",
      "source": [
        "d3 = dict(Nombre = \"Carolina\",\n",
        "          Edad = 26,\n",
        "          Documento = 1004671669)\n",
        "print(d3)"
      ],
      "metadata": {
        "colab": {
          "base_uri": "https://localhost:8080/"
        },
        "id": "PmWj7tvirIWY",
        "outputId": "bd198853-d2fb-4f14-c168-dc62c1c2160b"
      },
      "execution_count": 24,
      "outputs": [
        {
          "output_type": "stream",
          "name": "stdout",
          "text": [
            "{'Nombre': 'Carolina', 'Edad': 26, 'Documento': 1004671669}\n"
          ]
        }
      ]
    },
    {
      "cell_type": "code",
      "source": [
        "print(d1[\"Nombre\"])\n",
        "print(d1.get(\"Nombre\"))\n",
        "print(d1[\"Edad\"])\n",
        "print(d1.get(\"Edad\"))\n",
        "print(d1[\"Documento\"])\n",
        "print(d1.get(\"Documento\"))"
      ],
      "metadata": {
        "colab": {
          "base_uri": "https://localhost:8080/"
        },
        "id": "SgE_Oct4rUVQ",
        "outputId": "a86086a2-af85-4fa7-8acf-91fce8cba764"
      },
      "execution_count": 25,
      "outputs": [
        {
          "output_type": "stream",
          "name": "stdout",
          "text": [
            "Carolina\n",
            "Carolina\n",
            "26\n",
            "26\n",
            "1004671669\n",
            "1004671669\n"
          ]
        }
      ]
    },
    {
      "cell_type": "code",
      "source": [
        "d1[\"Nombre\"] = \"Laura\"\n",
        "print(d1)"
      ],
      "metadata": {
        "colab": {
          "base_uri": "https://localhost:8080/"
        },
        "id": "GLccHdQWs15I",
        "outputId": "cd3dc5d5-a71f-4882-ecbe-acc395633854"
      },
      "execution_count": 26,
      "outputs": [
        {
          "output_type": "stream",
          "name": "stdout",
          "text": [
            "{'Nombre': 'Laura', 'Edad': 26, 'Documento': 1004671669}\n"
          ]
        }
      ]
    },
    {
      "cell_type": "code",
      "source": [
        "d1[\"Direccion\"] = \"Calle 123\"\n",
        "print(d1)"
      ],
      "metadata": {
        "colab": {
          "base_uri": "https://localhost:8080/"
        },
        "id": "VZm2HHL3ujEZ",
        "outputId": "e0c44b9f-10d8-40ae-eef1-9d3faa843d20"
      },
      "execution_count": 27,
      "outputs": [
        {
          "output_type": "stream",
          "name": "stdout",
          "text": [
            "{'Nombre': 'Laura', 'Edad': 26, 'Documento': 1004671669, 'Direccion': 'Calle 123'}\n"
          ]
        }
      ]
    },
    {
      "cell_type": "code",
      "source": [
        "for x in d1:\n",
        "    print(x)"
      ],
      "metadata": {
        "colab": {
          "base_uri": "https://localhost:8080/"
        },
        "id": "MkI3hR61ulH4",
        "outputId": "44550962-7a6b-48e0-97a4-3496a839e061"
      },
      "execution_count": 28,
      "outputs": [
        {
          "output_type": "stream",
          "name": "stdout",
          "text": [
            "Nombre\n",
            "Edad\n",
            "Documento\n",
            "Direccion\n"
          ]
        }
      ]
    },
    {
      "cell_type": "code",
      "source": [
        "for x in d1:\n",
        "    print(d1[x])"
      ],
      "metadata": {
        "colab": {
          "base_uri": "https://localhost:8080/"
        },
        "id": "lEENgTknuofY",
        "outputId": "d2ae4825-df07-4f75-e782-84193acca8b2"
      },
      "execution_count": 29,
      "outputs": [
        {
          "output_type": "stream",
          "name": "stdout",
          "text": [
            "Laura\n",
            "26\n",
            "1004671669\n",
            "Calle 123\n"
          ]
        }
      ]
    },
    {
      "cell_type": "code",
      "source": [
        "for x, y in d1.items():\n",
        "    print(x, y)"
      ],
      "metadata": {
        "colab": {
          "base_uri": "https://localhost:8080/"
        },
        "id": "Mg1EaxKfupvw",
        "outputId": "0ab54ca7-1a58-46c2-fdc6-8b7875ee5be9"
      },
      "execution_count": 30,
      "outputs": [
        {
          "output_type": "stream",
          "name": "stdout",
          "text": [
            "Nombre Laura\n",
            "Edad 26\n",
            "Documento 1004671669\n",
            "Direccion Calle 123\n"
          ]
        }
      ]
    },
    {
      "cell_type": "code",
      "source": [
        "anidado1 ={\"a\": 1, \"b\": 2}\n",
        "anidado2 ={\"a\": 1, \"b\": 2}\n",
        "\n",
        "d = {\n",
        "    \"anidado1\" : anidado1,\n",
        "    \"anidado2\" : anidado2\n",
        "}\n",
        "\n",
        "print(d)"
      ],
      "metadata": {
        "colab": {
          "base_uri": "https://localhost:8080/"
        },
        "id": "1gxkfrAKusAQ",
        "outputId": "3e00a8fa-61ff-49fb-fb22-9be194e01420"
      },
      "execution_count": 35,
      "outputs": [
        {
          "output_type": "stream",
          "name": "stdout",
          "text": [
            "{'anidado1': {'a': 1, 'b': 2}, 'anidado2': {'a': 1, 'b': 2}}\n"
          ]
        }
      ]
    },
    {
      "cell_type": "code",
      "source": [
        "d = {\"a\":1, \"b\":2}\n",
        "\n",
        "d.clear()\n",
        "\n",
        "print(d)"
      ],
      "metadata": {
        "colab": {
          "base_uri": "https://localhost:8080/"
        },
        "id": "KDw5OIxmu2wH",
        "outputId": "3d05c6a9-1972-47d1-b40f-4363c5fc5059"
      },
      "execution_count": 36,
      "outputs": [
        {
          "output_type": "stream",
          "name": "stdout",
          "text": [
            "{}\n"
          ]
        }
      ]
    },
    {
      "cell_type": "code",
      "source": [
        "d = {\"a\": 1, \"b\": 2}\n",
        "print(d.get(\"a\"))\n",
        "print(d.get(\"c\"))"
      ],
      "metadata": {
        "colab": {
          "base_uri": "https://localhost:8080/"
        },
        "id": "TIYuEEErw21p",
        "outputId": "812e99a6-74da-45f4-f95d-b01ecd232ebc"
      },
      "execution_count": 39,
      "outputs": [
        {
          "output_type": "stream",
          "name": "stdout",
          "text": [
            "1\n",
            "None\n"
          ]
        }
      ]
    },
    {
      "cell_type": "code",
      "source": [
        "d = {\"a\": 1,\"b\": 2}\n",
        "it = d.items()\n",
        "print(it)\n",
        "print(list(it))\n",
        "print(list(it)[0][0])"
      ],
      "metadata": {
        "colab": {
          "base_uri": "https://localhost:8080/"
        },
        "id": "4NOf7FZSxFug",
        "outputId": "53235373-7889-4aff-8637-b3b77f7f9f47"
      },
      "execution_count": 42,
      "outputs": [
        {
          "output_type": "stream",
          "name": "stdout",
          "text": [
            "dict_items([('a', 1), ('b', 2)])\n",
            "[('a', 1), ('b', 2)]\n",
            "a\n"
          ]
        }
      ]
    },
    {
      "cell_type": "code",
      "source": [
        "d = {\"a\": 1, \"b\": 2}\n",
        "print(d.keys())\n",
        "print(list(d.keys()))"
      ],
      "metadata": {
        "colab": {
          "base_uri": "https://localhost:8080/"
        },
        "id": "GF_fWXyyyOJp",
        "outputId": "202b45a4-fcc4-43b3-e408-8600b29a862c"
      },
      "execution_count": 44,
      "outputs": [
        {
          "output_type": "stream",
          "name": "stdout",
          "text": [
            "dict_keys(['a', 'b'])\n",
            "['a', 'b']\n"
          ]
        }
      ]
    },
    {
      "cell_type": "code",
      "source": [
        "d = {\"a\": 1, \"b\": 2}\n",
        "print(list(d.values()))"
      ],
      "metadata": {
        "colab": {
          "base_uri": "https://localhost:8080/"
        },
        "id": "u9_2IgFJy4o_",
        "outputId": "92899960-aabc-4885-aa8f-eb7959abdf56"
      },
      "execution_count": 45,
      "outputs": [
        {
          "output_type": "stream",
          "name": "stdout",
          "text": [
            "[1, 2]\n"
          ]
        }
      ]
    },
    {
      "cell_type": "code",
      "source": [
        "d = {\"a\": 1, \"b\": 2}\n",
        "d.pop(\"a\")\n",
        "print(d)"
      ],
      "metadata": {
        "colab": {
          "base_uri": "https://localhost:8080/"
        },
        "id": "PuCKG1GNzUpM",
        "outputId": "278ad48a-c3b6-4a0a-ddb8-30f47722eec6"
      },
      "execution_count": 46,
      "outputs": [
        {
          "output_type": "stream",
          "name": "stdout",
          "text": [
            "{'b': 2}\n"
          ]
        }
      ]
    },
    {
      "cell_type": "code",
      "source": [
        "d = {\"a\": 1, \"b\": 2}\n",
        "d.pop(\"c\", 1)\n",
        "print(d)"
      ],
      "metadata": {
        "colab": {
          "base_uri": "https://localhost:8080/"
        },
        "id": "wp6oe2gvzqGf",
        "outputId": "aa37536d-544b-4f8b-c623-7a1a1fa1d3cc"
      },
      "execution_count": 47,
      "outputs": [
        {
          "output_type": "stream",
          "name": "stdout",
          "text": [
            "{'a': 1, 'b': 2}\n"
          ]
        }
      ]
    },
    {
      "cell_type": "code",
      "source": [
        "d = {\"a\":1, \"b\":2}\n",
        "d.popitem()\n",
        "print(d)"
      ],
      "metadata": {
        "colab": {
          "base_uri": "https://localhost:8080/"
        },
        "id": "8UYmwg4ezzOh",
        "outputId": "051a3ca5-24fb-4b3d-944c-9aa857fa247c"
      },
      "execution_count": 49,
      "outputs": [
        {
          "output_type": "stream",
          "name": "stdout",
          "text": [
            "{'a': 1}\n"
          ]
        }
      ]
    },
    {
      "cell_type": "code",
      "source": [
        "d1 = {\"a\":1, \"b\":2}\n",
        "d2 = {\"c\":0, \"d\":400}\n",
        "d1.update(d2)\n",
        "print(d1)"
      ],
      "metadata": {
        "colab": {
          "base_uri": "https://localhost:8080/"
        },
        "id": "57STjfbQ0XTG",
        "outputId": "9249c9a7-601c-4da8-c8ce-79a7964540ab"
      },
      "execution_count": 50,
      "outputs": [
        {
          "output_type": "stream",
          "name": "stdout",
          "text": [
            "{'a': 1, 'b': 2, 'c': 0, 'd': 400}\n"
          ]
        }
      ]
    }
  ]
}