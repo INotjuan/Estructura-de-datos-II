{
  "nbformat": 4,
  "nbformat_minor": 0,
  "metadata": {
    "colab": {
      "provenance": []
    },
    "kernelspec": {
      "name": "python3",
      "display_name": "Python 3"
    },
    "language_info": {
      "name": "python"
    }
  },
  "cells": [
    {
      "cell_type": "code",
      "execution_count": 1,
      "metadata": {
        "colab": {
          "base_uri": "https://localhost:8080/"
        },
        "id": "Xo6R10MvRVv6",
        "outputId": "13d72fb2-6948-4917-dc2f-3c4e77fd7585"
      },
      "outputs": [
        {
          "output_type": "stream",
          "name": "stdout",
          "text": [
            "{'Nombre': 'Carolina', 'Edad': 26, 'Documento': 1004671669}\n"
          ]
        }
      ],
      "source": [
        "# Creación de un diccionario de forma directa\n",
        "d1 = {\n",
        "    \"Nombre\": \"Carolina\",\n",
        "    \"Edad\": 26,\n",
        "    \"Documento\": 1004671669\n",
        "}\n",
        "print(d1)"
      ]
    },
    {
      "cell_type": "code",
      "source": [
        "# Creación de un diccionario usando la función dict() con lista de tuplas\n",
        "d2 = dict([\n",
        "    (\"Nombre\", \"Carolina\"),\n",
        "    (\"Edad\", 26),\n",
        "    (\"Documento\", 1004671669)\n",
        "])\n",
        "print(d2)"
      ],
      "metadata": {
        "colab": {
          "base_uri": "https://localhost:8080/"
        },
        "id": "CZhGU6mRRa7j",
        "outputId": "ae4d5def-07ad-4fde-a483-e164cb68fa3a"
      },
      "execution_count": 2,
      "outputs": [
        {
          "output_type": "stream",
          "name": "stdout",
          "text": [
            "{'Nombre': 'Carolina', 'Edad': 26, 'Documento': 1004671669}\n"
          ]
        }
      ]
    },
    {
      "cell_type": "code",
      "source": [
        "# Creación de un diccionario usando parámetros nombrados\n",
        "d3 = dict(Nombre=\"Carolina\",\n",
        "          Edad=26,\n",
        "          Documento=1004671669)\n",
        "print(d3)"
      ],
      "metadata": {
        "colab": {
          "base_uri": "https://localhost:8080/"
        },
        "id": "qlvVFxfJRd7M",
        "outputId": "f75b1651-bb02-4d92-d5d8-e806de6e5dba"
      },
      "execution_count": 3,
      "outputs": [
        {
          "output_type": "stream",
          "name": "stdout",
          "text": [
            "{'Nombre': 'Carolina', 'Edad': 26, 'Documento': 1004671669}\n"
          ]
        }
      ]
    },
    {
      "cell_type": "code",
      "source": [
        "# Acceso a valores usando la clave directamente\n",
        "print(d1[\"Nombre\"])\n",
        "print(d1[\"Edad\"])\n",
        "print(d1[\"Documento\"])\n",
        "\n",
        "# Acceso a valores usando el método get() (más seguro porque no lanza error si la clave no existe)\n",
        "print(d1.get(\"Nombre\"))\n",
        "print(d1.get(\"Edad\"))\n",
        "print(d1.get(\"Documento\"))\n",
        "\n",
        "# Modificación de un valor existente\n",
        "d1[\"Nombre\"] = \"Laura\"\n",
        "print(d1)\n",
        "# Agregar una nueva clave-valor al diccionario\n",
        "d1[\"Direccion\"] = \"Calle 123\"\n",
        "print(d1)"
      ],
      "metadata": {
        "colab": {
          "base_uri": "https://localhost:8080/"
        },
        "id": "kTINuh7eRi9L",
        "outputId": "20c5f0c4-2237-485e-acfa-d78cc5659045"
      },
      "execution_count": 5,
      "outputs": [
        {
          "output_type": "stream",
          "name": "stdout",
          "text": [
            "Laura\n",
            "26\n",
            "1004671669\n",
            "Laura\n",
            "26\n",
            "1004671669\n",
            "{'Nombre': 'Laura', 'Edad': 26, 'Documento': 1004671669}\n",
            "{'Nombre': 'Laura', 'Edad': 26, 'Documento': 1004671669, 'Direccion': 'Calle 123'}\n"
          ]
        }
      ]
    },
    {
      "cell_type": "code",
      "source": [
        "# Recorrer el diccionario imprimiendo las claves\n",
        "for x in d1:\n",
        "    print(x)\n"
      ],
      "metadata": {
        "colab": {
          "base_uri": "https://localhost:8080/"
        },
        "id": "uUUxcMjJRqcJ",
        "outputId": "48de55ac-effb-48b0-f725-2540a48999af"
      },
      "execution_count": 6,
      "outputs": [
        {
          "output_type": "stream",
          "name": "stdout",
          "text": [
            "Nombre\n",
            "Edad\n",
            "Documento\n",
            "Direccion\n"
          ]
        }
      ]
    },
    {
      "cell_type": "code",
      "source": [
        "# Recorrer el diccionario imprimiendo los valores\n",
        "for x in d1:\n",
        "    print(d1[x])"
      ],
      "metadata": {
        "colab": {
          "base_uri": "https://localhost:8080/"
        },
        "id": "1pOGhq13RsV5",
        "outputId": "cada57f1-f124-4e26-de07-a5a9b0ef238a"
      },
      "execution_count": 7,
      "outputs": [
        {
          "output_type": "stream",
          "name": "stdout",
          "text": [
            "Laura\n",
            "26\n",
            "1004671669\n",
            "Calle 123\n"
          ]
        }
      ]
    },
    {
      "cell_type": "code",
      "source": [
        "# Recorrer el diccionario imprimiendo clave y valor\n",
        "for x, y in d1.items():\n",
        "    print(x, y)"
      ],
      "metadata": {
        "colab": {
          "base_uri": "https://localhost:8080/"
        },
        "id": "vva2a0QdRuIq",
        "outputId": "7fc58192-e5c5-4c27-a4bc-895d0369a083"
      },
      "execution_count": 8,
      "outputs": [
        {
          "output_type": "stream",
          "name": "stdout",
          "text": [
            "Nombre Laura\n",
            "Edad 26\n",
            "Documento 1004671669\n",
            "Direccion Calle 123\n"
          ]
        }
      ]
    },
    {
      "cell_type": "code",
      "source": [
        "# Diccionarios anidados (diccionario dentro de otro diccionario)\n",
        "anidado1 = {\"a\": 1, \"b\": 2}\n",
        "anidado2 = {\"a\": 1, \"b\": 2}\n",
        "\n",
        "d = {\n",
        "    \"anidado1\": anidado1,\n",
        "    \"anidado2\": anidado2\n",
        "}\n",
        "print(d)"
      ],
      "metadata": {
        "colab": {
          "base_uri": "https://localhost:8080/"
        },
        "id": "bA2T1Pc1RwOp",
        "outputId": "02e3c732-a114-40fe-f1c4-6509f6eb93c8"
      },
      "execution_count": 9,
      "outputs": [
        {
          "output_type": "stream",
          "name": "stdout",
          "text": [
            "{'anidado1': {'a': 1, 'b': 2}, 'anidado2': {'a': 1, 'b': 2}}\n"
          ]
        }
      ]
    },
    {
      "cell_type": "code",
      "source": [
        "# Vaciar un diccionario con clear()\n",
        "d = {\"a\": 1, \"b\": 2}\n",
        "d.clear()\n",
        "print(d)"
      ],
      "metadata": {
        "colab": {
          "base_uri": "https://localhost:8080/"
        },
        "id": "InMFL_WBRy0_",
        "outputId": "80df88bf-3382-478b-9242-6c78887ffa46"
      },
      "execution_count": 10,
      "outputs": [
        {
          "output_type": "stream",
          "name": "stdout",
          "text": [
            "{}\n"
          ]
        }
      ]
    },
    {
      "cell_type": "code",
      "source": [
        "# Uso de get() cuando la clave existe y cuando no existe\n",
        "d = {\"a\": 1, \"b\": 2}\n",
        "print(d.get(\"a\"))   # Devuelve el valor 1\n",
        "print(d.get(\"c\"))   # Devuelve None (clave no existe)"
      ],
      "metadata": {
        "colab": {
          "base_uri": "https://localhost:8080/"
        },
        "id": "z9FfKPWlR2B_",
        "outputId": "5b5ad9ad-4fc4-46ec-f391-e3852649ecc7"
      },
      "execution_count": 11,
      "outputs": [
        {
          "output_type": "stream",
          "name": "stdout",
          "text": [
            "1\n",
            "None\n"
          ]
        }
      ]
    },
    {
      "cell_type": "code",
      "source": [
        "# items() devuelve una vista de pares clave-valor\n",
        "d = {\"a\": 1, \"b\": 2}\n",
        "it = d.items()\n",
        "print(it)              # Vista de los items\n",
        "print(list(it))        # Convertir a lista\n",
        "print(list(it)[0][0])  # Acceder a la primera clave\n"
      ],
      "metadata": {
        "colab": {
          "base_uri": "https://localhost:8080/"
        },
        "id": "3rer0RyVR30_",
        "outputId": "b6cf4c58-d221-48ab-d2e8-dc607c6822bf"
      },
      "execution_count": 12,
      "outputs": [
        {
          "output_type": "stream",
          "name": "stdout",
          "text": [
            "dict_items([('a', 1), ('b', 2)])\n",
            "[('a', 1), ('b', 2)]\n",
            "a\n"
          ]
        }
      ]
    },
    {
      "cell_type": "code",
      "source": [
        "# keys() devuelve las claves del diccionario\n",
        "d = {\"a\": 1, \"b\": 2}\n",
        "print(d.keys())        # Vista de claves\n",
        "print(list(d.keys()))  # Convertir a lista"
      ],
      "metadata": {
        "colab": {
          "base_uri": "https://localhost:8080/"
        },
        "id": "A6n287G2R5p2",
        "outputId": "df30e366-e1a4-46e4-d0be-420a4c7df2d8"
      },
      "execution_count": 13,
      "outputs": [
        {
          "output_type": "stream",
          "name": "stdout",
          "text": [
            "dict_keys(['a', 'b'])\n",
            "['a', 'b']\n"
          ]
        }
      ]
    },
    {
      "cell_type": "code",
      "source": [
        "# values() devuelve los valores del diccionario\n",
        "d = {\"a\": 1, \"b\": 2}\n",
        "print(list(d.values()))"
      ],
      "metadata": {
        "colab": {
          "base_uri": "https://localhost:8080/"
        },
        "id": "RDNcZSiBR7dX",
        "outputId": "7bfb051b-fdf7-4cfe-e5a3-ce2b2ae54fd8"
      },
      "execution_count": 14,
      "outputs": [
        {
          "output_type": "stream",
          "name": "stdout",
          "text": [
            "[1, 2]\n"
          ]
        }
      ]
    },
    {
      "cell_type": "code",
      "source": [
        "# pop() elimina una clave específica (si no existe, da error salvo que se dé un valor por defecto)\n",
        "d = {\"a\": 1, \"b\": 2}\n",
        "d.pop(\"a\")   # Elimina la clave \"a\"\n",
        "print(d)"
      ],
      "metadata": {
        "colab": {
          "base_uri": "https://localhost:8080/"
        },
        "id": "Anlhz_DUR-D3",
        "outputId": "84ca519c-36c9-4ee1-eadf-dbed069cd409"
      },
      "execution_count": 15,
      "outputs": [
        {
          "output_type": "stream",
          "name": "stdout",
          "text": [
            "{'b': 2}\n"
          ]
        }
      ]
    },
    {
      "cell_type": "code",
      "source": [
        "d = {\"a\": 1, \"b\": 2}\n",
        "d.pop(\"c\", 1)  # Intenta eliminar \"c\", pero como no existe devuelve 1 y no lanza error\n",
        "print(d)"
      ],
      "metadata": {
        "colab": {
          "base_uri": "https://localhost:8080/"
        },
        "id": "zK2Y586iR_8l",
        "outputId": "fc07f89f-3876-48b2-8a3b-7d30fa5d4a0d"
      },
      "execution_count": 16,
      "outputs": [
        {
          "output_type": "stream",
          "name": "stdout",
          "text": [
            "{'a': 1, 'b': 2}\n"
          ]
        }
      ]
    },
    {
      "cell_type": "code",
      "source": [
        "# popitem() elimina el último par agregado\n",
        "d = {\"a\": 1, \"b\": 2}\n",
        "d.popitem()\n",
        "print(d)"
      ],
      "metadata": {
        "colab": {
          "base_uri": "https://localhost:8080/"
        },
        "id": "PtF5UBHjSBks",
        "outputId": "f305447b-5bd1-4abc-f8dd-393d57b181dc"
      },
      "execution_count": 17,
      "outputs": [
        {
          "output_type": "stream",
          "name": "stdout",
          "text": [
            "{'a': 1}\n"
          ]
        }
      ]
    },
    {
      "cell_type": "code",
      "source": [
        "# update() fusiona diccionarios (sobrescribe claves repetidas)\n",
        "d1 = {\"a\": 1, \"b\": 2}\n",
        "d2 = {\"c\": 0, \"d\": 400}\n",
        "d1.update(d2)\n",
        "print(d1)"
      ],
      "metadata": {
        "colab": {
          "base_uri": "https://localhost:8080/"
        },
        "id": "AFBj0aFKSDnm",
        "outputId": "12496a42-6039-4949-89ce-b811e9f58dda"
      },
      "execution_count": 18,
      "outputs": [
        {
          "output_type": "stream",
          "name": "stdout",
          "text": [
            "{'a': 1, 'b': 2, 'c': 0, 'd': 400}\n"
          ]
        }
      ]
    }
  ]
}