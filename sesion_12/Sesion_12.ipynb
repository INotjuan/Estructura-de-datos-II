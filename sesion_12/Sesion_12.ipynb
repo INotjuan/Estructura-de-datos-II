{
  "nbformat": 4,
  "nbformat_minor": 0,
  "metadata": {
    "colab": {
      "provenance": []
    },
    "kernelspec": {
      "name": "python3",
      "display_name": "Python 3"
    },
    "language_info": {
      "name": "python"
    }
  },
  "cells": [
    {
      "cell_type": "code",
      "execution_count": 4,
      "metadata": {
        "colab": {
          "base_uri": "https://localhost:8080/"
        },
        "id": "Oz9mRC3DxGx1",
        "outputId": "b8585281-84f8-4582-95be-257ee536f9c7"
      },
      "outputs": [
        {
          "output_type": "stream",
          "name": "stdout",
          "text": [
            "(1, 2, 3, 'hola', True)\n"
          ]
        }
      ],
      "source": [
        "mi_tupla = (1,2,3,\"hola\", True)\n",
        "\n",
        "print(mi_tupla)"
      ]
    },
    {
      "cell_type": "code",
      "source": [
        "t = (1,1,2,3,3,3)\n",
        "print(t)"
      ],
      "metadata": {
        "colab": {
          "base_uri": "https://localhost:8080/"
        },
        "id": "7HABxSFHzBHq",
        "outputId": "2d8f1c90-d827-4b02-dfce-2e292a4bd3cb"
      },
      "execution_count": 5,
      "outputs": [
        {
          "output_type": "stream",
          "name": "stdout",
          "text": [
            "(1, 1, 2, 3, 3, 3)\n"
          ]
        }
      ]
    },
    {
      "cell_type": "code",
      "source": [
        "lista = [1,2,3]\n",
        "lista[0] = 10\n",
        "\n",
        "print(lista)"
      ],
      "metadata": {
        "colab": {
          "base_uri": "https://localhost:8080/"
        },
        "id": "Vqcn08dnznhT",
        "outputId": "cf2bf389-9e1c-446a-8ed0-519e733f5fbb"
      },
      "execution_count": 7,
      "outputs": [
        {
          "output_type": "stream",
          "name": "stdout",
          "text": [
            "[10, 2, 3]\n"
          ]
        }
      ]
    },
    {
      "cell_type": "code",
      "source": [
        "tupla=(1,2,3)\n",
        "tupla[0] = 10\n",
        "\n",
        "print(tupla)"
      ],
      "metadata": {
        "colab": {
          "base_uri": "https://localhost:8080/",
          "height": 193
        },
        "id": "eoBaPaFEz37u",
        "outputId": "b9500079-1409-45fa-e09e-60f2ad5b90cf"
      },
      "execution_count": 6,
      "outputs": [
        {
          "output_type": "error",
          "ename": "TypeError",
          "evalue": "'tuple' object does not support item assignment",
          "traceback": [
            "\u001b[0;31m---------------------------------------------------------------------------\u001b[0m",
            "\u001b[0;31mTypeError\u001b[0m                                 Traceback (most recent call last)",
            "\u001b[0;32m/tmp/ipython-input-1441439213.py\u001b[0m in \u001b[0;36m<cell line: 0>\u001b[0;34m()\u001b[0m\n\u001b[1;32m      1\u001b[0m \u001b[0mtupla\u001b[0m\u001b[0;34m=\u001b[0m\u001b[0;34m(\u001b[0m\u001b[0;36m1\u001b[0m\u001b[0;34m,\u001b[0m\u001b[0;36m2\u001b[0m\u001b[0;34m,\u001b[0m\u001b[0;36m3\u001b[0m\u001b[0;34m)\u001b[0m\u001b[0;34m\u001b[0m\u001b[0;34m\u001b[0m\u001b[0m\n\u001b[0;32m----> 2\u001b[0;31m \u001b[0mtupla\u001b[0m\u001b[0;34m[\u001b[0m\u001b[0;36m0\u001b[0m\u001b[0;34m]\u001b[0m \u001b[0;34m=\u001b[0m \u001b[0;36m10\u001b[0m\u001b[0;34m\u001b[0m\u001b[0;34m\u001b[0m\u001b[0m\n\u001b[0m\u001b[1;32m      3\u001b[0m \u001b[0;34m\u001b[0m\u001b[0m\n\u001b[1;32m      4\u001b[0m \u001b[0mprint\u001b[0m\u001b[0;34m(\u001b[0m\u001b[0mtupla\u001b[0m\u001b[0;34m)\u001b[0m\u001b[0;34m\u001b[0m\u001b[0;34m\u001b[0m\u001b[0m\n",
            "\u001b[0;31mTypeError\u001b[0m: 'tuple' object does not support item assignment"
          ]
        }
      ]
    },
    {
      "cell_type": "code",
      "source": [
        "cordenadas = (20.7128, -74.0060)\n",
        "\n",
        "cordenadas[0] = 41.1"
      ],
      "metadata": {
        "colab": {
          "base_uri": "https://localhost:8080/",
          "height": 176
        },
        "id": "tmcXAmHa0SoE",
        "outputId": "83aa173c-c147-4cde-e933-d7a0f154aef9"
      },
      "execution_count": 8,
      "outputs": [
        {
          "output_type": "error",
          "ename": "TypeError",
          "evalue": "'tuple' object does not support item assignment",
          "traceback": [
            "\u001b[0;31m---------------------------------------------------------------------------\u001b[0m",
            "\u001b[0;31mTypeError\u001b[0m                                 Traceback (most recent call last)",
            "\u001b[0;32m/tmp/ipython-input-452021778.py\u001b[0m in \u001b[0;36m<cell line: 0>\u001b[0;34m()\u001b[0m\n\u001b[1;32m      1\u001b[0m \u001b[0mcordenadas\u001b[0m \u001b[0;34m=\u001b[0m \u001b[0;34m(\u001b[0m\u001b[0;36m20.7128\u001b[0m\u001b[0;34m,\u001b[0m \u001b[0;34m-\u001b[0m\u001b[0;36m74.0060\u001b[0m\u001b[0;34m)\u001b[0m\u001b[0;34m\u001b[0m\u001b[0;34m\u001b[0m\u001b[0m\n\u001b[1;32m      2\u001b[0m \u001b[0;34m\u001b[0m\u001b[0m\n\u001b[0;32m----> 3\u001b[0;31m \u001b[0mcordenadas\u001b[0m\u001b[0;34m[\u001b[0m\u001b[0;36m0\u001b[0m\u001b[0;34m]\u001b[0m \u001b[0;34m=\u001b[0m \u001b[0;36m41.1\u001b[0m\u001b[0;34m\u001b[0m\u001b[0;34m\u001b[0m\u001b[0m\n\u001b[0m",
            "\u001b[0;31mTypeError\u001b[0m: 'tuple' object does not support item assignment"
          ]
        }
      ]
    },
    {
      "cell_type": "code",
      "source": [
        "tupla = (1,2,3)\n",
        "tupla2 = (\"a\",\"b\",\"c\")\n",
        "tupla3 = (1,\"hola\", 3, 5)\n",
        "tupla4 = ()\n",
        "tupla5 = (5,)\n",
        "\n",
        "print(tupla)\n",
        "print(tupla2)\n",
        "print(tupla3)\n",
        "print(tupla4)\n",
        "print(tupla5)"
      ],
      "metadata": {
        "colab": {
          "base_uri": "https://localhost:8080/"
        },
        "id": "D6JiSGiN0umJ",
        "outputId": "8ed120b6-903a-4e16-a17d-d04f388dda54"
      },
      "execution_count": 9,
      "outputs": [
        {
          "output_type": "stream",
          "name": "stdout",
          "text": [
            "(1, 2, 3)\n",
            "('a', 'b', 'c')\n",
            "(1, 'hola', 3, 5)\n",
            "()\n",
            "(5,)\n"
          ]
        }
      ]
    },
    {
      "cell_type": "code",
      "source": [
        "tupla = (\"python\", 2025, True)\n",
        "\n",
        "print(tupla[0])\n",
        "print(tupla[1])\n",
        "print(tupla[-1])"
      ],
      "metadata": {
        "colab": {
          "base_uri": "https://localhost:8080/"
        },
        "id": "tEmksHFV2dKO",
        "outputId": "f7ec3216-cd52-4a75-8e54-0155188f5091"
      },
      "execution_count": 10,
      "outputs": [
        {
          "output_type": "stream",
          "name": "stdout",
          "text": [
            "python\n",
            "2025\n",
            "True\n"
          ]
        }
      ]
    },
    {
      "cell_type": "code",
      "source": [
        "tupla = (10,20,30,40,50)\n",
        "\n",
        "print(tupla[1:4])\n",
        "print(tupla[:3])\n",
        "print(tupla[::2])"
      ],
      "metadata": {
        "colab": {
          "base_uri": "https://localhost:8080/"
        },
        "id": "p9Vjpgoh3FAt",
        "outputId": "b192615b-e0e1-4365-e297-5c94ef21681e"
      },
      "execution_count": 11,
      "outputs": [
        {
          "output_type": "stream",
          "name": "stdout",
          "text": [
            "(20, 30, 40)\n",
            "(10, 20, 30)\n",
            "(10, 30, 50)\n"
          ]
        }
      ]
    },
    {
      "cell_type": "code",
      "source": [
        "colores = (\"rojo\", \"verde\", \"azul\")\n",
        "\n",
        "for color in colores:\n",
        "    print(color)"
      ],
      "metadata": {
        "colab": {
          "base_uri": "https://localhost:8080/"
        },
        "id": "O3XuHRlr37sY",
        "outputId": "aa8c3cb8-4d35-4270-b2c3-377611e2017a"
      },
      "execution_count": 12,
      "outputs": [
        {
          "output_type": "stream",
          "name": "stdout",
          "text": [
            "rojo\n",
            "verde\n",
            "azul\n"
          ]
        }
      ]
    },
    {
      "cell_type": "code",
      "source": [
        "t = ((1,2),(3,4),(5,6))\n",
        "\n",
        "print(t[0])\n",
        "print(t[0][1])"
      ],
      "metadata": {
        "colab": {
          "base_uri": "https://localhost:8080/"
        },
        "id": "3IICd0In401W",
        "outputId": "33fc71c8-c471-4d47-ee08-d0966baf0c4b"
      },
      "execution_count": 13,
      "outputs": [
        {
          "output_type": "stream",
          "name": "stdout",
          "text": [
            "(1, 2)\n",
            "2\n"
          ]
        }
      ]
    },
    {
      "cell_type": "code",
      "source": [
        "t1 =(1,2,3)\n",
        "t2 =(4,5,6)\n",
        "\n",
        "resultado = t1 + t2\n",
        "\n",
        "print(resultado)"
      ],
      "metadata": {
        "colab": {
          "base_uri": "https://localhost:8080/"
        },
        "id": "A8EzT-Sy5vuc",
        "outputId": "7a354197-476d-4209-f35d-fb966d7b08f8"
      },
      "execution_count": 14,
      "outputs": [
        {
          "output_type": "stream",
          "name": "stdout",
          "text": [
            "(1, 2, 3, 4, 5, 6)\n"
          ]
        }
      ]
    },
    {
      "cell_type": "code",
      "source": [
        "t1 = (\"python\",) *3\n",
        "\n",
        "print(t1)"
      ],
      "metadata": {
        "colab": {
          "base_uri": "https://localhost:8080/"
        },
        "id": "m3rq0xq36O9W",
        "outputId": "26653dad-3e31-459a-8dc2-229e83a64557"
      },
      "execution_count": 16,
      "outputs": [
        {
          "output_type": "stream",
          "name": "stdout",
          "text": [
            "('python', 'python', 'python')\n"
          ]
        }
      ]
    },
    {
      "cell_type": "code",
      "source": [
        "t = (10,20,30,40)\n",
        "\n",
        "print(20 in t)\n",
        "print(5 not in t)"
      ],
      "metadata": {
        "colab": {
          "base_uri": "https://localhost:8080/"
        },
        "id": "koFBmGx-7F70",
        "outputId": "3c93704b-8cd6-4ebf-9bfb-703102b0691f"
      },
      "execution_count": 17,
      "outputs": [
        {
          "output_type": "stream",
          "name": "stdout",
          "text": [
            "True\n",
            "True\n"
          ]
        }
      ]
    },
    {
      "cell_type": "code",
      "source": [
        "persona = (\"nicolas\", 22, \"colombia\")\n",
        "nombre, edad, pais= persona\n",
        "\n",
        "print(nombre)\n",
        "print(edad)\n",
        "print(pais)"
      ],
      "metadata": {
        "id": "JWscNpFv7Xo2",
        "outputId": "85bce1d6-69be-4540-9d63-08cda3afd774",
        "colab": {
          "base_uri": "https://localhost:8080/"
        }
      },
      "execution_count": 18,
      "outputs": [
        {
          "output_type": "stream",
          "name": "stdout",
          "text": [
            "nicolas\n",
            "22\n",
            "colombia\n"
          ]
        }
      ]
    },
    {
      "cell_type": "code",
      "source": [
        "t = (1,2,2,3,4,5)\n",
        "\n",
        "print(t.count(2))\n",
        "print(t.index(3))"
      ],
      "metadata": {
        "id": "QFekkUeW7snS",
        "outputId": "8171406b-ee4e-4b23-b854-aa07b77889eb",
        "colab": {
          "base_uri": "https://localhost:8080/"
        }
      },
      "execution_count": 19,
      "outputs": [
        {
          "output_type": "stream",
          "name": "stdout",
          "text": [
            "2\n",
            "3\n"
          ]
        }
      ]
    },
    {
      "cell_type": "code",
      "source": [
        "t = (5,1,7,3)\n",
        "\n",
        "print(len(t))\n",
        "print(max(t))\n",
        "print(min(t))\n",
        "print(sum(t))\n",
        "print(sorted(t))"
      ],
      "metadata": {
        "id": "VLLg8YEm8gnl",
        "outputId": "ce9916cc-8e78-42fa-b72e-4ed268864c1a",
        "colab": {
          "base_uri": "https://localhost:8080/"
        }
      },
      "execution_count": 20,
      "outputs": [
        {
          "output_type": "stream",
          "name": "stdout",
          "text": [
            "4\n",
            "7\n",
            "1\n",
            "16\n",
            "[1, 3, 5, 7]\n"
          ]
        }
      ]
    },
    {
      "cell_type": "code",
      "source": [
        "lista = [1,2,3]\n",
        "tupla = tuple(lista)\n",
        "\n",
        "print(tupla)\n",
        "\n",
        "nueva_lista = list(tupla)\n",
        "\n",
        "print(nueva_lista)"
      ],
      "metadata": {
        "id": "kwaPtkMp8-Gt",
        "outputId": "f772958f-e9c0-47b4-c8ac-12ba34027e64",
        "colab": {
          "base_uri": "https://localhost:8080/"
        }
      },
      "execution_count": 21,
      "outputs": [
        {
          "output_type": "stream",
          "name": "stdout",
          "text": [
            "(1, 2, 3)\n",
            "[1, 2, 3]\n"
          ]
        }
      ]
    },
    {
      "cell_type": "code",
      "source": [
        "persona = (\"Nicolas\",22,\"Colombia\")\n",
        "\n",
        "print(\"Nombre:\",persona[0])\n",
        "print(\"Edad:\",persona[1])\n",
        "print(\"Pais:\",persona[2])"
      ],
      "metadata": {
        "id": "2-jN4G2_9sH3",
        "outputId": "511211bd-a8a2-4cfc-baa9-e459bb857b11",
        "colab": {
          "base_uri": "https://localhost:8080/"
        }
      },
      "execution_count": 23,
      "outputs": [
        {
          "output_type": "stream",
          "name": "stdout",
          "text": [
            "Nombre: Nicolas\n",
            "Edad: 22\n",
            "Pais: Colombia\n"
          ]
        }
      ]
    },
    {
      "cell_type": "code",
      "source": [
        "cordenadas = {}\n",
        "punto = (10,20)\n",
        "cordenadas[punto] = \"Ubicacion A\"\n",
        "\n",
        "print(cordenadas)"
      ],
      "metadata": {
        "id": "GAbqwRke-R3p",
        "outputId": "57930dee-f01f-4d65-d0f2-02d8495b9515",
        "colab": {
          "base_uri": "https://localhost:8080/"
        }
      },
      "execution_count": 24,
      "outputs": [
        {
          "output_type": "stream",
          "name": "stdout",
          "text": [
            "{(10, 20): 'Ubicacion A'}\n"
          ]
        }
      ]
    },
    {
      "cell_type": "code",
      "source": [
        "def operacion (a,b):\n",
        "  return a + b, a - b, a * b\n",
        "\n",
        "suma,resta,producto = operacion(5,3)\n",
        "print(suma,resta,producto)"
      ],
      "metadata": {
        "id": "8dF0ne6k--Sb",
        "outputId": "d95a6681-c05d-476b-fdb1-93859658b980",
        "colab": {
          "base_uri": "https://localhost:8080/"
        }
      },
      "execution_count": 27,
      "outputs": [
        {
          "output_type": "stream",
          "name": "stdout",
          "text": [
            "8 2 15\n"
          ]
        }
      ]
    },
    {
      "cell_type": "code",
      "source": [
        "frutas = (\"manzana\", \"banana\", \"cereza\")\n",
        "\n",
        "for i, fruta in enumerate(frutas):\n",
        "  print(i, fruta)"
      ],
      "metadata": {
        "id": "b-bT5ogR_fz5",
        "outputId": "b5f53536-3679-40dc-ad24-cdf183fe0c6c",
        "colab": {
          "base_uri": "https://localhost:8080/"
        }
      },
      "execution_count": 28,
      "outputs": [
        {
          "output_type": "stream",
          "name": "stdout",
          "text": [
            "0 manzana\n",
            "1 banana\n",
            "2 cereza\n"
          ]
        }
      ]
    },
    {
      "cell_type": "code",
      "source": [
        "a, b = 10,20\n",
        "a, b = b, a\n",
        "\n",
        "print(a,b)"
      ],
      "metadata": {
        "id": "eBHrWyu9_9vf",
        "outputId": "f2edb43f-4eeb-4e1c-c885-f351fb662209",
        "colab": {
          "base_uri": "https://localhost:8080/"
        }
      },
      "execution_count": 29,
      "outputs": [
        {
          "output_type": "stream",
          "name": "stdout",
          "text": [
            "20 10\n"
          ]
        }
      ]
    },
    {
      "cell_type": "code",
      "source": [
        "# Ejercicio 1 – Crear una tupla\n",
        "t = (1, 2, 3, 4, 5)\n",
        "print(t) # (1, 2, 3, 4, 5)"
      ],
      "metadata": {
        "id": "OyVQQrtKAjkD",
        "outputId": "b4df4db7-b43b-4d15-cb3d-de2c63ccc69b",
        "colab": {
          "base_uri": "https://localhost:8080/"
        }
      },
      "execution_count": 30,
      "outputs": [
        {
          "output_type": "stream",
          "name": "stdout",
          "text": [
            "(1, 2, 3, 4, 5)\n"
          ]
        }
      ]
    },
    {
      "cell_type": "code",
      "source": [
        "# Ejercicio 2 – Acceder al tercer elemento\n",
        "t = (10, 20, 30, 40, 50)\n",
        "print(t[2]) # 30"
      ],
      "metadata": {
        "id": "kZHoGVndAlWL",
        "outputId": "6069bb3d-193f-462c-cabd-632ee6233818",
        "colab": {
          "base_uri": "https://localhost:8080/"
        }
      },
      "execution_count": 31,
      "outputs": [
        {
          "output_type": "stream",
          "name": "stdout",
          "text": [
            "30\n"
          ]
        }
      ]
    },
    {
      "cell_type": "code",
      "source": [
        "# Ejercicio 3 – Tupla con nombre y edad\n",
        "info = (\"Nicolás\", 22)\n",
        "print(\"Nombre:\", info[0], \"Edad:\", info[1])"
      ],
      "metadata": {
        "id": "iCkxMerHAm4K",
        "outputId": "f39fb58a-ff9a-40fa-bbf7-5d5051c4dc95",
        "colab": {
          "base_uri": "https://localhost:8080/"
        }
      },
      "execution_count": 32,
      "outputs": [
        {
          "output_type": "stream",
          "name": "stdout",
          "text": [
            "Nombre: Nicolás Edad: 22\n"
          ]
        }
      ]
    },
    {
      "cell_type": "code",
      "source": [
        "# Ejercicio 4 – Concatenar tuplas\n",
        "t1 = (1, 2, 3)\n",
        "t2 = (4, 5, 6)\n",
        "print(t1 + t2) # (1, 2, 3, 4, 5, 6)"
      ],
      "metadata": {
        "id": "7eFNexrNAoTj",
        "outputId": "13e9c061-5963-4aae-c339-a33c8890b310",
        "colab": {
          "base_uri": "https://localhost:8080/"
        }
      },
      "execution_count": 33,
      "outputs": [
        {
          "output_type": "stream",
          "name": "stdout",
          "text": [
            "(1, 2, 3, 4, 5, 6)\n"
          ]
        }
      ]
    },
    {
      "cell_type": "code",
      "source": [
        "# Ejercicio 5 – Repetir una tupla\n",
        "t = (\"Python\",) * 3\n",
        "print(t) # ('Python', 'Python', 'Python')"
      ],
      "metadata": {
        "id": "tP7NwOpgAqCa",
        "outputId": "a1c0dbd3-8302-4df3-fe08-d2901696a021",
        "colab": {
          "base_uri": "https://localhost:8080/"
        }
      },
      "execution_count": 34,
      "outputs": [
        {
          "output_type": "stream",
          "name": "stdout",
          "text": [
            "('Python', 'Python', 'Python')\n"
          ]
        }
      ]
    },
    {
      "cell_type": "code",
      "source": [
        "# Ejercicio 6 – Verificar pertenencia\n",
        "t = (5, 10, 15, 20, 25)\n",
        "print(20 in t) # True"
      ],
      "metadata": {
        "id": "mUEE8RVuAtGL",
        "outputId": "822b9a92-41de-4126-bbdf-2ff56e671ea9",
        "colab": {
          "base_uri": "https://localhost:8080/"
        }
      },
      "execution_count": 37,
      "outputs": [
        {
          "output_type": "stream",
          "name": "stdout",
          "text": [
            "True\n",
            "Colombia México Argentina\n",
            "4\n",
            "(8, 15)\n",
            "9 7\n"
          ]
        }
      ]
    },
    {
      "cell_type": "code",
      "source": [
        "# Ejercicio 7 – Desempaquetar tupla\n",
        "paises = (\"Colombia\", \"México\", \"Argentina\")\n",
        "a, b, c = paises\n",
        "print(a, b, c) # Colombia México Argentina"
      ],
      "metadata": {
        "id": "WWPeNWUtA3h3",
        "outputId": "2d05f821-a329-4af8-d377-3113c112bdc3",
        "colab": {
          "base_uri": "https://localhost:8080/"
        }
      },
      "execution_count": 45,
      "outputs": [
        {
          "output_type": "stream",
          "name": "stdout",
          "text": [
            "Colombia México Argentina\n"
          ]
        }
      ]
    },
    {
      "cell_type": "code",
      "source": [
        "# Ejercicio 8 – Tupla anidada\n",
        "t = ((1, 2), (3, 4))\n",
        "print(t[1][1]) # 4"
      ],
      "metadata": {
        "id": "kMAFmrMhA5AX",
        "outputId": "49590b19-0f14-4cc3-a15a-b39249415a6a",
        "colab": {
          "base_uri": "https://localhost:8080/"
        }
      },
      "execution_count": 44,
      "outputs": [
        {
          "output_type": "stream",
          "name": "stdout",
          "text": [
            "4\n"
          ]
        }
      ]
    },
    {
      "cell_type": "code",
      "source": [
        "# Ejercicio 9 – Función con suma y producto\n",
        "def operaciones(a, b):\n",
        "    return a+b, a*b\n",
        "print(operaciones(3, 5)) # (8, 15)"
      ],
      "metadata": {
        "id": "o3k22mjrA6gu",
        "outputId": "b1e7d505-f3bb-4d39-c07c-875605d2233a",
        "colab": {
          "base_uri": "https://localhost:8080/"
        }
      },
      "execution_count": 43,
      "outputs": [
        {
          "output_type": "stream",
          "name": "stdout",
          "text": [
            "(8, 15)\n"
          ]
        }
      ]
    },
    {
      "cell_type": "code",
      "source": [
        "# Ejercicio 10 – Intercambio de valores\n",
        "a, b = 7, 9\n",
        "a, b = b, a\n",
        "print(a, b) # 9 7"
      ],
      "metadata": {
        "id": "k90Ek1QhA7x4",
        "outputId": "00df8bed-053b-4f3d-9746-a6bf357ae7d0",
        "colab": {
          "base_uri": "https://localhost:8080/"
        }
      },
      "execution_count": 42,
      "outputs": [
        {
          "output_type": "stream",
          "name": "stdout",
          "text": [
            "9 7\n"
          ]
        }
      ]
    },
    {
      "cell_type": "code",
      "source": [
        "# Ejercicio 11 – Contar apariciones\n",
        "t = (2, 4, 6, 2, 8, 2)\n",
        "print(t.count(2)) # 3"
      ],
      "metadata": {
        "id": "HumoODz6Axc_",
        "outputId": "1d2b3378-9c48-44dd-f9a0-c7c55e605259",
        "colab": {
          "base_uri": "https://localhost:8080/"
        }
      },
      "execution_count": 35,
      "outputs": [
        {
          "output_type": "stream",
          "name": "stdout",
          "text": [
            "3\n",
            "4\n",
            "9\n",
            "1\n",
            "24\n"
          ]
        }
      ]
    },
    {
      "cell_type": "code",
      "source": [
        "# Ejercicio 12 – Índice de un valor\n",
        "t = (10, 20, 30, 40, 50)\n",
        "print(t.index(50)) # 4"
      ],
      "metadata": {
        "id": "ujrEyqm6A-OM",
        "outputId": "eed57896-65d9-4926-aa25-08eb315062e6",
        "colab": {
          "base_uri": "https://localhost:8080/"
        }
      },
      "execution_count": 41,
      "outputs": [
        {
          "output_type": "stream",
          "name": "stdout",
          "text": [
            "4\n"
          ]
        }
      ]
    },
    {
      "cell_type": "code",
      "source": [
        "# Ejercicio 13 – Funciones integradas\n",
        "t = (4, 7, 1, 9, 3)\n",
        "print(max(t)) # 9\n",
        "print(min(t)) # 1\n",
        "print(sum(t)) # 24"
      ],
      "metadata": {
        "id": "5kwkRQFHA_j8",
        "outputId": "25ad8e5a-96cf-4893-ca87-ada10e4b8c79",
        "colab": {
          "base_uri": "https://localhost:8080/"
        }
      },
      "execution_count": 40,
      "outputs": [
        {
          "output_type": "stream",
          "name": "stdout",
          "text": [
            "9\n",
            "1\n",
            "24\n"
          ]
        }
      ]
    },
    {
      "cell_type": "code",
      "source": [
        "# Ejercicio 14 – Convertir lista a tupla\n",
        "lista = [10, 20, 30]\n",
        "t = tuple(lista)\n",
        "print(t) # (10, 20, 30)"
      ],
      "metadata": {
        "id": "Rgs7H8kTAyu_",
        "outputId": "d3e70e9d-3c02-41e9-e44c-51ca4204ba7d",
        "colab": {
          "base_uri": "https://localhost:8080/"
        }
      },
      "execution_count": 39,
      "outputs": [
        {
          "output_type": "stream",
          "name": "stdout",
          "text": [
            "(10, 20, 30)\n"
          ]
        }
      ]
    },
    {
      "cell_type": "code",
      "source": [
        "# Ejercicio 15 – Enumerate con tuplas\n",
        "colores = (\"rojo\", \"verde\", \"azul\")\n",
        "for i, color in enumerate(colores):\n",
        "    print(i, color)"
      ],
      "metadata": {
        "id": "8IHbNvbHBBIs",
        "outputId": "de53f07d-2b11-4178-f39d-f50a98802b5a",
        "colab": {
          "base_uri": "https://localhost:8080/"
        }
      },
      "execution_count": 38,
      "outputs": [
        {
          "output_type": "stream",
          "name": "stdout",
          "text": [
            "0 rojo\n",
            "1 verde\n",
            "2 azul\n"
          ]
        }
      ]
    }
  ]
}