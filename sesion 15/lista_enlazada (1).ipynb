{
  "nbformat": 4,
  "nbformat_minor": 0,
  "metadata": {
    "colab": {
      "provenance": []
    },
    "kernelspec": {
      "name": "python3",
      "display_name": "Python 3"
    },
    "language_info": {
      "name": "python"
    }
  },
  "cells": [
    {
      "cell_type": "code",
      "source": [
        "class Nodo:\n",
        "    def __init__(self, dato):\n",
        "        self.dato = dato  # Establece el valor del nodo\n",
        "        self.siguiente = None  # Inicializa el puntero al siguiente nodo como None\n"
      ],
      "metadata": {
        "id": "jMfeHFf1zyiw"
      },
      "execution_count": null,
      "outputs": []
    },
    {
      "cell_type": "code",
      "source": [
        "class ListaEnlazada:\n",
        "    def __init__(self):\n",
        "        self.cabeza = None  # La lista comienza vacía (no tiene nodos)\n",
        "        self.tamaño = 0  # Inicializa el tamaño en 0\n",
        "\n",
        "    def insertar_inicio(self, dato):\n",
        "        nuevo = Nodo(dato)\n",
        "        nuevo.siguiente = self.cabeza\n",
        "        self.cabeza = nuevo\n",
        "        self.tamaño += 1\n",
        "\n",
        "    def insertar_final(self, dato):\n",
        "        nuevo = Nodo(dato)\n",
        "        if not self.cabeza:\n",
        "            self.cabeza = nuevo\n",
        "        else:\n",
        "            actual = self.cabeza\n",
        "            while actual.siguiente:\n",
        "                actual = actual.siguiente\n",
        "            actual.siguiente = nuevo\n",
        "        self.tamaño += 1\n",
        "\n",
        "    def mostrar(self):\n",
        "        actual = self.cabeza\n",
        "        while actual:\n",
        "            print(actual.dato, end=' -> ')\n",
        "            actual = actual.siguiente\n",
        "        print('None')\n",
        "\n",
        "    def obtener_tamaño(self):\n",
        "        return self.tamaño\n"
      ],
      "metadata": {
        "id": "lMcI59q4z-3J"
      },
      "execution_count": null,
      "outputs": []
    },
    {
      "cell_type": "code",
      "source": [
        "\n",
        "# Crear una lista enlazada\n",
        "lista = ListaEnlazada()\n",
        "\n",
        "# Insertar nodos al inicio\n",
        "lista.insertar_inicio(10)\n",
        "lista.insertar_inicio(5)\n",
        "\n",
        "# Insertar nodos al final\n",
        "lista.insertar_final(20)\n",
        "\n",
        "# Mostrar la lista\n",
        "lista.mostrar()  # Imprime: 5 -> 10 -> 20 -> None\n",
        "\n",
        "# Obtener tamaño de la lista\n",
        "print(\"Tamaño de la lista:\", lista.obtener_tamaño())  # Imprime: 3\n"
      ],
      "metadata": {
        "colab": {
          "base_uri": "https://localhost:8080/"
        },
        "id": "2QrIIpM10X4h",
        "outputId": "b895559a-6f49-4383-cf61-3bf18269d733"
      },
      "execution_count": null,
      "outputs": [
        {
          "output_type": "stream",
          "name": "stdout",
          "text": [
            "5 -> 10 -> 20 -> None\n",
            "Tamaño de la lista: 3\n"
          ]
        }
      ]
    },
    {
      "cell_type": "code",
      "source": [
        "lista = ListaEnlazada()\n",
        "lista.insertar_inicio(1)  # Inserta 1 al inicio\n",
        "lista.insertar_inicio(2)  # Inserta 2 al inicio\n",
        "lista.insertar_inicio(3)  # Inserta 3 al inicio\n",
        "lista.mostrar()  # Imprime: 3 -> 2 -> 1 -> None\n"
      ],
      "metadata": {
        "colab": {
          "base_uri": "https://localhost:8080/"
        },
        "id": "Z5uO194o09YB",
        "outputId": "6bc5a8e0-1289-4720-87ec-04ebae650234"
      },
      "execution_count": null,
      "outputs": [
        {
          "output_type": "stream",
          "name": "stdout",
          "text": [
            "3 -> 2 -> 1 -> None\n"
          ]
        }
      ]
    },
    {
      "cell_type": "code",
      "source": [
        "lista = ListaEnlazada()\n",
        "lista.insertar_final(4)\n",
        "lista.insertar_final(5)\n",
        "lista.insertar_final(6)\n",
        "lista.mostrar()  # Imprime: 4 -> 5 -> 6 -> None\n"
      ],
      "metadata": {
        "colab": {
          "base_uri": "https://localhost:8080/"
        },
        "id": "gCT2dQ2r1eHC",
        "outputId": "fe6c4c87-db47-431f-d461-84621fb952f2"
      },
      "execution_count": null,
      "outputs": [
        {
          "output_type": "stream",
          "name": "stdout",
          "text": [
            "4 -> 5 -> 6 -> None\n"
          ]
        }
      ]
    },
    {
      "cell_type": "code",
      "source": [
        "### Ejercicio 3: Buscar un valor en la lista. ###\n",
        "\n",
        "# Función para buscar un valor en la lista\n",
        "def buscar(lista, valor):\n",
        "    # Comienza desde el primer nodo (cabeza)\n",
        "    actual = lista.cabeza\n",
        "    # Recorre la lista mientras haya nodos\n",
        "    while actual:\n",
        "        # Si el valor del nodo actual es igual al valor buscado, devuelve True\n",
        "        if actual.dato == valor:\n",
        "            return True\n",
        "        # Moverse al siguiente nodo\n",
        "        actual = actual.siguiente\n",
        "    # Si el valor no se encuentra en la lista, devuelve False\n",
        "    return False\n",
        "\n",
        "# Buscar el valor 5 en la lista\n",
        "print(buscar(lista, 5))  # Imprime: True\n",
        "\n",
        "# Buscar el valor 10 en la lista\n",
        "print(buscar(lista, 10)) # Imprime: False"
      ],
      "metadata": {
        "colab": {
          "base_uri": "https://localhost:8080/"
        },
        "id": "l_EdGOhq1hax",
        "outputId": "0d139bcf-e9c4-467a-8a40-2388f747f8ce"
      },
      "execution_count": null,
      "outputs": [
        {
          "output_type": "stream",
          "name": "stdout",
          "text": [
            "True\n",
            "False\n"
          ]
        }
      ]
    },
    {
      "cell_type": "code",
      "source": [
        "### Ejercicio 4: Eliminar un nodo dado un valor ###\n",
        "\n",
        "# Función para eliminar un nodo con un valor específico\n",
        "def eliminar(lista, valor):\n",
        "    # Comienza desde el primer nodo (cabeza)\n",
        "    actual = lista.cabeza\n",
        "    # Inicializa el nodo previo como None\n",
        "    previo = None\n",
        "    # Recorre la lista\n",
        "    while actual:\n",
        "        # Si el valor del nodo actual es igual al valor a eliminar\n",
        "        if actual.dato == valor:\n",
        "            # Si el nodo a eliminar es el primero (cabeza)\n",
        "            if previo:\n",
        "                # Actualiza el puntero del nodo previo al siguiente nodo del actual\n",
        "                previo.siguiente = actual.siguiente\n",
        "            else:\n",
        "                # Si es el primer nodo, mueve la cabeza al siguiente nodo\n",
        "                lista.cabeza = actual.siguiente\n",
        "            # Disminuye el tamaño de la lista\n",
        "            lista.tamaño -= 1\n",
        "            return\n",
        "        # Moverse al siguiente nodo\n",
        "        previo = actual\n",
        "        actual = actual.siguiente\n",
        "\n",
        "# Eliminar el nodo con valor 5 de la lista\n",
        "eliminar(lista, 5)\n",
        "# Mostrar la lista después de la eliminación\n",
        "lista.mostrar()  # Imprime: 4 -> 6 -> None"
      ],
      "metadata": {
        "colab": {
          "base_uri": "https://localhost:8080/"
        },
        "id": "gf4OFykc1rfK",
        "outputId": "0de2a206-6045-4059-fdb1-6a7c0718da0b"
      },
      "execution_count": null,
      "outputs": [
        {
          "output_type": "stream",
          "name": "stdout",
          "text": [
            "4 -> 6 -> None\n"
          ]
        }
      ]
    },
    {
      "cell_type": "code",
      "source": [
        "# Función para contar los nodos en la lista\n",
        "def contar(lista):\n",
        "    # Retorna el tamaño de la lista, almacenado en el atributo tamaño\n",
        "    return lista.obtener_tamaño()\n",
        "\n",
        "# Contar la cantidad de nodos en la lista\n",
        "print(contar(lista))  # Imprime: 2 (ya que quedan 2 nodos: 4 y 6)"
      ],
      "metadata": {
        "colab": {
          "base_uri": "https://localhost:8080/"
        },
        "id": "00Lw5Cui2Ga5",
        "outputId": "7c639e50-a335-4b52-82c9-c2448924e0dd"
      },
      "execution_count": null,
      "outputs": [
        {
          "output_type": "stream",
          "name": "stdout",
          "text": [
            "2\n"
          ]
        }
      ]
    },
    {
      "cell_type": "code",
      "source": [
        "### Ejercicio 6: Invertir una lista enlazada ###\n",
        "\n",
        "# Función para invertir la lista\n",
        "def invertir(lista):\n",
        "    # Inicializa el puntero previo como None (no hay nodo previo inicialmente)\n",
        "    previo = None\n",
        "    # Comienza desde la cabeza de la lista\n",
        "    actual = lista.cabeza\n",
        "    # Recorre la lista\n",
        "    while actual:\n",
        "        # Guarda el siguiente nodo\n",
        "        siguiente = actual.siguiente\n",
        "        # Invertir la dirección del puntero \"siguiente\"\n",
        "        actual.siguiente = previo\n",
        "        # Avanzar los punteros: previo ahora apunta a \"actual\", y \"actual\" al siguiente nodo\n",
        "        previo = actual\n",
        "        actual = siguiente\n",
        "    # Después de invertir, la cabeza debe ser el último nodo\n",
        "    lista.cabeza = previo\n",
        "\n",
        "# Invertir la lista\n",
        "invertir(lista)\n",
        "# Mostrar la lista invertida\n",
        "lista.mostrar()  # Imprime: 6 -> 4 -> None"
      ],
      "metadata": {
        "colab": {
          "base_uri": "https://localhost:8080/"
        },
        "id": "gmITWSHI2Re4",
        "outputId": "d18057dc-6ac6-4349-c1f3-fa4e99d6b6dc"
      },
      "execution_count": null,
      "outputs": [
        {
          "output_type": "stream",
          "name": "stdout",
          "text": [
            "6 -> 4 -> None\n"
          ]
        }
      ]
    },
    {
      "cell_type": "code",
      "source": [
        "### Ejercicio 7: Insertar en una posición específica ###\n",
        "\n",
        "# Función para insertar un nodo en una posición específica\n",
        "def insertar_pos(lista, dato, pos):\n",
        "    # Crear un nuevo nodo con el dato\n",
        "    nuevo = Nodo(dato)\n",
        "    # Si la posición es 0 (inicio de la lista), insertamos directamente en la cabeza\n",
        "    if pos == 0:\n",
        "        nuevo.siguiente = lista.cabeza\n",
        "        lista.cabeza = nuevo\n",
        "    else:\n",
        "        # Si la posición no es 0, buscamos la posición\n",
        "        actual = lista.cabeza\n",
        "        for _ in range(pos - 1):\n",
        "            # Si el nodo actual es None, significa que la posición no es válida\n",
        "            if not actual:\n",
        "                return\n",
        "            actual = actual.siguiente\n",
        "        # Insertamos el nodo nuevo en la posición deseada\n",
        "        nuevo.siguiente = actual.siguiente\n",
        "        actual.siguiente = nuevo\n",
        "    # Aumentamos el tamaño de la lista\n",
        "    lista.tamaño += 1\n",
        "\n",
        "# Insertar el valor 99 en la posición 1\n",
        "insertar_pos(lista, 99, 1)\n",
        "# Mostrar la lista después de la inserción\n",
        "lista.mostrar()  # Imprime: 6 -> 99 -> 4 -> None"
      ],
      "metadata": {
        "colab": {
          "base_uri": "https://localhost:8080/"
        },
        "id": "UZLl1cFu2mVs",
        "outputId": "fc6f8e32-16bd-49dd-e744-bf42781179f5"
      },
      "execution_count": null,
      "outputs": [
        {
          "output_type": "stream",
          "name": "stdout",
          "text": [
            "6 -> 99 -> 4 -> None\n"
          ]
        }
      ]
    },
    {
      "cell_type": "code",
      "source": [
        "### Ejercicio 8: Obtener el último nodo de la lista. ###\n",
        "# Función para obtener el último nodo de la lista\n",
        "def ultimo(lista):\n",
        "    # Comienza desde la cabeza\n",
        "    actual = lista.cabeza\n",
        "    # Recorre la lista hasta llegar al último nodo\n",
        "    while actual.siguiente:\n",
        "        actual = actual.siguiente\n",
        "    # Retorna el valor del último nodo\n",
        "    return actual.dato\n",
        "\n",
        "# Obtener el último nodo de la lista\n",
        "print(ultimo(lista))  # Imprime: 4"
      ],
      "metadata": {
        "colab": {
          "base_uri": "https://localhost:8080/"
        },
        "id": "W67QOGtd3l2h",
        "outputId": "28cf0652-e203-4a64-9b82-4a0cd928ea62"
      },
      "execution_count": null,
      "outputs": [
        {
          "output_type": "stream",
          "name": "stdout",
          "text": [
            "4\n"
          ]
        }
      ]
    },
    {
      "cell_type": "code",
      "source": [
        "### Ejercicio 9: Sumar todos los valores de la lista. ####\n",
        "\n",
        "# Función para sumar todos los valores de la lista\n",
        "def suma(lista):\n",
        "    # Inicializa el total como 0\n",
        "    total = 0\n",
        "    # Comienza desde la cabeza\n",
        "    actual = lista.cabeza\n",
        "    # Recorre la lista y suma los valores\n",
        "    while actual:\n",
        "        total += actual.dato\n",
        "        actual = actual.siguiente\n",
        "    # Retorna la suma total\n",
        "    return total\n",
        "\n",
        "# Sumar todos los valores de la lista\n",
        "print(suma(lista))  # Imprime: 109 (6 + 99 + 4)"
      ],
      "metadata": {
        "colab": {
          "base_uri": "https://localhost:8080/"
        },
        "id": "w5pdw1FJ3teK",
        "outputId": "97b38e64-50fe-467c-af08-dfa854eed283"
      },
      "execution_count": null,
      "outputs": [
        {
          "output_type": "stream",
          "name": "stdout",
          "text": [
            "109\n"
          ]
        }
      ]
    },
    {
      "cell_type": "code",
      "source": [
        "### Ejercicio 10: Encontrar el valor máximo de la lista. ###\n",
        "\n",
        "# Función para encontrar el valor máximo en la lista\n",
        "def maximo(lista):\n",
        "    # Comienza desde la cabeza y establece el valor mayor como el primer nodo\n",
        "    actual = lista.cabeza\n",
        "    mayor = actual.dato\n",
        "    # Recorre la lista comparando los valores\n",
        "    while actual:\n",
        "        if actual.dato > mayor:\n",
        "            mayor = actual.dato\n",
        "        actual = actual.siguiente\n",
        "    # Retorna el valor mayor encontrado\n",
        "    return mayor\n",
        "\n",
        "# Obtener el valor máximo de la lista\n",
        "print(maximo(lista))  # Imprime: 99"
      ],
      "metadata": {
        "colab": {
          "base_uri": "https://localhost:8080/"
        },
        "id": "sIJzfda94GZ8",
        "outputId": "9255cf7d-eb05-43f6-8f9c-ce5d442a1009"
      },
      "execution_count": null,
      "outputs": [
        {
          "output_type": "stream",
          "name": "stdout",
          "text": [
            "99\n"
          ]
        }
      ]
    },
    {
      "cell_type": "code",
      "source": [
        "### Ejercicio 11: Encontrar el valor mínimo de la lista. ###\n",
        "\n",
        "# Función para encontrar el valor mínimo en la lista\n",
        "def minimo(lista):\n",
        "    # Comienza desde la cabeza\n",
        "    actual = lista.cabeza\n",
        "    # Inicializa la variable menor con el dato del primer nodo\n",
        "    menor = actual.dato\n",
        "    # Recorre la lista\n",
        "    while actual:\n",
        "        # Si el dato del nodo actual es menor que el valor menor encontrado, actualiza \"menor\"\n",
        "        if actual.dato < menor:\n",
        "            menor = actual.dato\n",
        "        actual = actual.siguiente\n",
        "    # Retorna el valor mínimo\n",
        "    return menor\n",
        "\n",
        "# Obtener el valor mínimo de la lista\n",
        "print(minimo(lista))  # Imprime: 4"
      ],
      "metadata": {
        "colab": {
          "base_uri": "https://localhost:8080/"
        },
        "id": "EkBXZIJG4OON",
        "outputId": "dccf4883-f66d-49cd-e0f8-7446eb15b656"
      },
      "execution_count": null,
      "outputs": [
        {
          "output_type": "stream",
          "name": "stdout",
          "text": [
            "4\n"
          ]
        }
      ]
    },
    {
      "cell_type": "code",
      "source": [
        "### Ejercicio 12: Convertir la lista enlazada a una lista de Python. ###\n",
        "\n",
        "# Función para convertir la lista enlazada a una lista de Python\n",
        "def a_lista(lista):\n",
        "    # Inicializa una lista vacía\n",
        "    arr = []\n",
        "    # Comienza desde la cabeza\n",
        "    actual = lista.cabeza\n",
        "    # Recorre la lista y agrega cada dato a la lista Python\n",
        "    while actual:\n",
        "        arr.append(actual.dato)\n",
        "        actual = actual.siguiente\n",
        "    # Retorna la lista Python\n",
        "    return arr\n",
        "\n",
        "# Convertir la lista a una lista de Python\n",
        "print(a_lista(lista))  # Imprime: [6, 99, 4]"
      ],
      "metadata": {
        "colab": {
          "base_uri": "https://localhost:8080/"
        },
        "id": "oU_ZHjtq5ra-",
        "outputId": "db9247fe-23a5-4f15-9e15-4625d50712c7"
      },
      "execution_count": null,
      "outputs": [
        {
          "output_type": "stream",
          "name": "stdout",
          "text": [
            "[6, 99, 4]\n"
          ]
        }
      ]
    },
    {
      "cell_type": "code",
      "source": [
        "### Ejercicio 13: Verificar si la lista está vacía. ###\n",
        "# Función para verificar si la lista está vacía\n",
        "def vacia(lista):\n",
        "    # Si la cabeza de la lista es None, significa que está vacía\n",
        "    return lista.cabeza is None\n",
        "\n",
        "# Verificar si la lista está vacía\n",
        "print(vacia(lista))  # Imprime: False (la lista no está vacía)"
      ],
      "metadata": {
        "colab": {
          "base_uri": "https://localhost:8080/"
        },
        "id": "Njw8xWIC54ZL",
        "outputId": "530650af-2d19-4b19-e3c8-f862de58e398"
      },
      "execution_count": null,
      "outputs": [
        {
          "output_type": "stream",
          "name": "stdout",
          "text": [
            "False\n"
          ]
        }
      ]
    },
    {
      "cell_type": "code",
      "source": [
        "### Ejercicio 14: Duplicar todos los elementos en la lista. ###\n",
        "\n",
        "# Función para duplicar los elementos de la lista\n",
        "def duplicar(lista):\n",
        "    # Comienza desde la cabeza\n",
        "    actual = lista.cabeza\n",
        "    # Recorre la lista\n",
        "    while actual:\n",
        "        # Crear un nuevo nodo con el mismo dato que el nodo actual\n",
        "        nuevo = Nodo(actual.dato)\n",
        "        # El siguiente nodo del nuevo nodo será el siguiente nodo del actual\n",
        "        nuevo.siguiente = actual.siguiente\n",
        "        # El nodo actual ahora apunta al nuevo nodo\n",
        "        actual.siguiente = nuevo\n",
        "        # Avanzamos al siguiente nodo\n",
        "        actual = nuevo.siguiente\n",
        "\n",
        "# Duplicar todos los elementos de la lista\n",
        "duplicar(lista)\n",
        "# Mostrar la lista después de duplicar los elementos\n",
        "lista.mostrar()  # Imprime: 6 -> 6 -> 99 -> 99 -> 4 -> 4 -> None"
      ],
      "metadata": {
        "colab": {
          "base_uri": "https://localhost:8080/"
        },
        "id": "ykAZDeqj6FZO",
        "outputId": "b047ac38-511d-424c-a436-5ff592073709"
      },
      "execution_count": null,
      "outputs": [
        {
          "output_type": "stream",
          "name": "stdout",
          "text": [
            "6 -> 6 -> 99 -> 99 -> 4 -> 4 -> None\n"
          ]
        }
      ]
    },
    {
      "cell_type": "code",
      "source": [
        "### Ejercicio 15: Eliminar todos los nodos de la lista. ###\n",
        "\n",
        "# Función para eliminar todos los nodos de la lista\n",
        "def vaciar(lista):\n",
        "    # Simplemente establece la cabeza de la lista como None\n",
        "    # y resetea el tamaño a 0\n",
        "    lista.cabeza = None\n",
        "    lista.tamaño = 0\n",
        "\n",
        "# Eliminar todos los nodos de la lista\n",
        "vaciar(lista)\n",
        "# Mostrar la lista después de eliminar todos los nodos\n",
        "lista.mostrar()  # Imprime: None"
      ],
      "metadata": {
        "colab": {
          "base_uri": "https://localhost:8080/"
        },
        "id": "H3ZHgGnO6aDu",
        "outputId": "ea09e9bd-7027-4944-8ca8-6352b44af2ab"
      },
      "execution_count": null,
      "outputs": [
        {
          "output_type": "stream",
          "name": "stdout",
          "text": [
            "None\n"
          ]
        }
      ]
    },
    {
      "cell_type": "code",
      "source": [
        "# Crear una lista enlazada\n",
        "lista = ListaEnlazada()\n",
        "\n",
        "# Insertar personas con diccionarios (ID, nombre, edad)\n",
        "persona1 = {\"id\": 1, \"nombre\": \"Juan\", \"edad\": 25}\n",
        "persona2 = {\"id\": 2, \"nombre\": \"Ana\", \"edad\": 30}\n",
        "persona3 = {\"id\": 3, \"nombre\": \"Carlos\", \"edad\": 22}\n",
        "\n",
        "# Insertar al final\n",
        "lista.insertar_final(persona1)\n",
        "lista.insertar_final(persona2)\n",
        "lista.insertar_final(persona3)\n",
        "\n",
        "# Mostrar la lista\n",
        "lista.mostrar()  # Esperado: muestra los diccionarios de las personas"
      ],
      "metadata": {
        "id": "h3EL7lek6lrc",
        "colab": {
          "base_uri": "https://localhost:8080/"
        },
        "outputId": "ae227796-995a-4889-9b08-7c77d37cb4e7"
      },
      "execution_count": null,
      "outputs": [
        {
          "output_type": "stream",
          "name": "stdout",
          "text": [
            "{'id': 1, 'nombre': 'Juan', 'edad': 25} -> {'id': 2, 'nombre': 'Ana', 'edad': 30} -> {'id': 3, 'nombre': 'Carlos', 'edad': 22} -> None\n"
          ]
        }
      ]
    },
    {
      "cell_type": "code",
      "source": [
        "# Función para buscar por nombre\n",
        "def buscar_por_nombre(lista, nombre):\n",
        "    actual = lista.cabeza\n",
        "    while actual:\n",
        "        if actual.dato[\"nombre\"] == nombre:\n",
        "            return actual.dato  # Retorna el diccionario completo\n",
        "        actual = actual.siguiente\n",
        "    return None\n",
        "\n",
        "# Buscar a \"Carlos\" en la lista\n",
        "resultado = buscar_por_nombre(lista, \"Carlos\")\n",
        "print(resultado)  # Esperado: {'id': 3, 'nombre': 'Carlos', 'edad': 22}\n"
      ],
      "metadata": {
        "colab": {
          "base_uri": "https://localhost:8080/"
        },
        "id": "adqxVWczYWsd",
        "outputId": "be9da437-86ab-46ed-d8b8-e20da280593f"
      },
      "execution_count": null,
      "outputs": [
        {
          "output_type": "stream",
          "name": "stdout",
          "text": [
            "{'id': 3, 'nombre': 'Carlos', 'edad': 22}\n"
          ]
        }
      ]
    },
    {
      "cell_type": "code",
      "source": [
        "# Función para eliminar por ID\n",
        "def eliminar_por_id(lista, id_persona):\n",
        "    actual = lista.cabeza\n",
        "    previo = None\n",
        "    while actual:\n",
        "        if actual.dato[\"id\"] == id_persona:\n",
        "            if previo:\n",
        "                previo.siguiente = actual.siguiente\n",
        "            else:\n",
        "                lista.cabeza = actual.siguiente\n",
        "            lista.tamaño -= 1\n",
        "            return\n",
        "        previo = actual\n",
        "        actual = actual.siguiente\n",
        "\n",
        "# Eliminar la persona con ID 2\n",
        "eliminar_por_id(lista, 2)\n",
        "\n",
        "# Mostrar la lista después de la eliminación\n",
        "lista.mostrar()  # Esperado: no debe mostrar la persona con ID 2"
      ],
      "metadata": {
        "id": "E_m4xpi-YrQV",
        "colab": {
          "base_uri": "https://localhost:8080/"
        },
        "outputId": "f21ea397-6d73-427f-c881-89b19f59d148"
      },
      "execution_count": null,
      "outputs": [
        {
          "output_type": "stream",
          "name": "stdout",
          "text": [
            "{'id': 1, 'nombre': 'Juan', 'edad': 25} -> {'id': 3, 'nombre': 'Carlos', 'edad': 22} -> None\n"
          ]
        }
      ]
    },
    {
      "cell_type": "code",
      "source": [
        "# Función para actualizar la edad\n",
        "def actualizar_edad(lista, id_persona, nueva_edad):\n",
        "    actual = lista.cabeza\n",
        "    while actual:\n",
        "        if actual.dato[\"id\"] == id_persona:\n",
        "            actual.dato[\"edad\"] = nueva_edad  # Actualiza el campo \"edad\"\n",
        "            return\n",
        "        actual = actual.siguiente\n",
        "\n",
        "# Actualizar la edad de la persona con ID 1 a 26\n",
        "actualizar_edad(lista, 1, 26)\n",
        "\n",
        "# Mostrar la lista después de la actualización\n",
        "lista.mostrar()  # Esperado: el valor de la edad de la persona con ID 1 debe ser 26"
      ],
      "metadata": {
        "id": "damvT6_KaRmw",
        "colab": {
          "base_uri": "https://localhost:8080/"
        },
        "outputId": "eef43cc6-4254-469f-f4f9-c7723ac77f7e"
      },
      "execution_count": null,
      "outputs": [
        {
          "output_type": "stream",
          "name": "stdout",
          "text": [
            "{'id': 1, 'nombre': 'Juan', 'edad': 26} -> {'id': 3, 'nombre': 'Carlos', 'edad': 22} -> None\n"
          ]
        }
      ]
    }
  ]
}