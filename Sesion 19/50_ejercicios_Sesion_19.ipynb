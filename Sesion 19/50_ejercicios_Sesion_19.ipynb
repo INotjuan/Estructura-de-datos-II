{
  "cells": [
    {
      "cell_type": "markdown",
      "id": "be9dbbb1",
      "metadata": {
        "id": "be9dbbb1"
      },
      "source": [
        "### Ejercicio 1. Balanceo de paréntesis\n",
        "\n",
        "**Enunciado:** Implementa una función que verifique si los paréntesis, corchetes y llaves en una expresión están correctamente balanceados."
      ]
    },
    {
      "cell_type": "code",
      "execution_count": 1,
      "id": "9be5cbc6",
      "metadata": {
        "colab": {
          "base_uri": "https://localhost:8080/"
        },
        "id": "9be5cbc6",
        "outputId": "7702f7f0-4d0c-415d-dfdb-6157047a0dc9"
      },
      "outputs": [
        {
          "output_type": "stream",
          "name": "stdout",
          "text": [
            "True\n",
            "False\n"
          ]
        }
      ],
      "source": [
        "# Ejercicio 1: Balanceo de paréntesis\n",
        "# Enunciado: Implementa una función que verifique si los paréntesis, corchetes y llaves en una expresión están correctamente balanceados.\n",
        "#\n",
        "# Implementación:\n",
        "\n",
        "def balanceo_parentesis(expresion):\n",
        "    pila = []\n",
        "    parejas = {')': '(', ']': '[', '}': '{'}\n",
        "\n",
        "    for caracter in expresion:\n",
        "        if caracter in '([{':\n",
        "            pila.append(caracter)\n",
        "        elif caracter in ')]}':\n",
        "            if not pila or pila[-1] != parejas[caracter]:\n",
        "                return False\n",
        "            pila.pop()\n",
        "\n",
        "    return len(pila) == 0\n",
        "\n",
        "# Prueba\n",
        "print(balanceo_parentesis(\"({[]})\"))  # True\n",
        "print(balanceo_parentesis(\"({[})\"))   # False"
      ]
    },
    {
      "cell_type": "markdown",
      "id": "8d117d2b",
      "metadata": {
        "id": "8d117d2b"
      },
      "source": [
        "### Ejercicio 2. Conversión infijo a postfijo\n",
        "\n",
        "**Enunciado:** Convierte una expresión matemática infija a notación postfija."
      ]
    },
    {
      "cell_type": "code",
      "execution_count": 2,
      "id": "f41d631c",
      "metadata": {
        "colab": {
          "base_uri": "https://localhost:8080/"
        },
        "id": "f41d631c",
        "outputId": "b1c3e3e0-cca5-4fa9-b949-487ecc726df7"
      },
      "outputs": [
        {
          "output_type": "stream",
          "name": "stdout",
          "text": [
            "A B + C *\n"
          ]
        }
      ],
      "source": [
        "# Ejercicio 2: Conversión infijo a postfijo\n",
        "# Enunciado: Convierte una expresión matemática infija a notación postfija.\n",
        "#\n",
        "# Implementación:\n",
        "\n",
        "def infijo_a_postfijo(expresion):\n",
        "    precedencia = {'+': 1, '-': 1, '*': 2, '/': 2, '^': 3}\n",
        "    pila = []\n",
        "    salida = []\n",
        "\n",
        "    for token in expresion.split():\n",
        "        if token.isalnum():\n",
        "            salida.append(token)\n",
        "        elif token == '(':\n",
        "            pila.append(token)\n",
        "        elif token == ')':\n",
        "            while pila and pila[-1] != '(':\n",
        "                salida.append(pila.pop())\n",
        "            pila.pop()\n",
        "        else:\n",
        "            while (pila and pila[-1] != '(' and\n",
        "                   precedencia.get(token, 0) <= precedencia.get(pila[-1], 0)):\n",
        "                salida.append(pila.pop())\n",
        "            pila.append(token)\n",
        "\n",
        "    while pila:\n",
        "        salida.append(pila.pop())\n",
        "\n",
        "    return ' '.join(salida)\n",
        "\n",
        "# Prueba\n",
        "print(infijo_a_postfijo(\"( A + B ) * C\"))  # A B + C *"
      ]
    },
    {
      "cell_type": "markdown",
      "id": "0f9e86fc",
      "metadata": {
        "id": "0f9e86fc"
      },
      "source": [
        "### Ejercicio 3. Evaluar expresión postfija\n",
        "\n",
        "**Enunciado:** Evalúa una expresión matemática en notación postfija."
      ]
    },
    {
      "cell_type": "code",
      "execution_count": 3,
      "id": "96627963",
      "metadata": {
        "colab": {
          "base_uri": "https://localhost:8080/"
        },
        "id": "96627963",
        "outputId": "b170b472-f744-4065-f376-6666f0337f48"
      },
      "outputs": [
        {
          "output_type": "stream",
          "name": "stdout",
          "text": [
            "14\n"
          ]
        }
      ],
      "source": [
        "# Ejercicio 3: Evaluar expresión postfija\n",
        "# Enunciado: Evalúa una expresión matemática en notación postfija.\n",
        "#\n",
        "# Implementación:\n",
        "\n",
        "def evaluar_postfijo(expresion):\n",
        "    pila = []\n",
        "\n",
        "    for token in expresion.split():\n",
        "        if token.isdigit():\n",
        "            pila.append(int(token))\n",
        "        else:\n",
        "            b = pila.pop()\n",
        "            a = pila.pop()\n",
        "            if token == '+': pila.append(a + b)\n",
        "            elif token == '-': pila.append(a - b)\n",
        "            elif token == '*': pila.append(a * b)\n",
        "            elif token == '/': pila.append(a / b)\n",
        "\n",
        "    return pila[0]\n",
        "\n",
        "# Prueba\n",
        "print(evaluar_postfijo(\"3 4 + 2 *\"))  # 14"
      ]
    },
    {
      "cell_type": "markdown",
      "id": "1f7085b9",
      "metadata": {
        "id": "1f7085b9"
      },
      "source": [
        "### Ejercicio 4. Invertir una lista usando pila\n",
        "\n",
        "**Enunciado:** Invierte una lista usando operaciones de pila."
      ]
    },
    {
      "cell_type": "code",
      "execution_count": 4,
      "id": "9e4f8c57",
      "metadata": {
        "colab": {
          "base_uri": "https://localhost:8080/"
        },
        "id": "9e4f8c57",
        "outputId": "2cc2925b-00d1-4c14-d4a0-6ae4107a87b7"
      },
      "outputs": [
        {
          "output_type": "stream",
          "name": "stdout",
          "text": [
            "[5, 4, 3, 2, 1]\n"
          ]
        }
      ],
      "source": [
        "# Ejercicio 4: Invertir una lista usando pila\n",
        "# Enunciado: Invierte una lista usando operaciones de pila.\n",
        "#\n",
        "# Implementación:\n",
        "\n",
        "def invertir_lista_pila(lista):\n",
        "    pila = []\n",
        "    # Push todos los elementos a la pila\n",
        "    for elemento in lista:\n",
        "        pila.append(elemento)\n",
        "\n",
        "    # Pop todos los elementos (saldrán en orden inverso)\n",
        "    lista_invertida = []\n",
        "    while pila:\n",
        "        lista_invertida.append(pila.pop())\n",
        "\n",
        "    return lista_invertida\n",
        "\n",
        "# Prueba\n",
        "print(invertir_lista_pila([1, 2, 3, 4, 5]))  # [5, 4, 3, 2, 1]"
      ]
    },
    {
      "cell_type": "markdown",
      "id": "b514d436",
      "metadata": {
        "id": "b514d436"
      },
      "source": [
        "### Ejercicio 5. Eliminar elementos consecutivos duplicados\n",
        "\n",
        "**Enunciado:** Elimina elementos duplicados consecutivos usando una pila."
      ]
    },
    {
      "cell_type": "code",
      "execution_count": 5,
      "id": "a0a5166e",
      "metadata": {
        "colab": {
          "base_uri": "https://localhost:8080/"
        },
        "id": "a0a5166e",
        "outputId": "ee8cb370-ec40-4a17-ba41-62d8224e7439"
      },
      "outputs": [
        {
          "output_type": "stream",
          "name": "stdout",
          "text": [
            "[1, 2, 3, 4, 5]\n"
          ]
        }
      ],
      "source": [
        "# Ejercicio 5: Eliminar elementos consecutivos duplicados\n",
        "# Enunciado: Elimina elementos duplicados consecutivos usando una pila.\n",
        "#\n",
        "# Implementación:\n",
        "\n",
        "def eliminar_consecutivos_duplicados(lista):\n",
        "    pila = []\n",
        "\n",
        "    for elemento in lista:\n",
        "        if not pila or pila[-1] != elemento:\n",
        "            pila.append(elemento)\n",
        "\n",
        "    return pila\n",
        "\n",
        "# Prueba\n",
        "print(eliminar_consecutivos_duplicados([1, 2, 2, 3, 4, 4, 4, 5]))  # [1, 2, 3, 4, 5]"
      ]
    },
    {
      "cell_type": "markdown",
      "id": "c9b681c8",
      "metadata": {
        "id": "c9b681c8"
      },
      "source": [
        "### Ejercicio 6. Siguiente elemento mayor\n",
        "\n",
        "**Enunciado:** Para cada elemento, encuentra el primer elemento mayor a su derecha."
      ]
    },
    {
      "cell_type": "code",
      "execution_count": 6,
      "id": "18ee0152",
      "metadata": {
        "colab": {
          "base_uri": "https://localhost:8080/"
        },
        "id": "18ee0152",
        "outputId": "698d0fd4-e02f-4f24-cb42-ce5462df7449"
      },
      "outputs": [
        {
          "output_type": "stream",
          "name": "stdout",
          "text": [
            "[5, 10, 10, -1]\n"
          ]
        }
      ],
      "source": [
        "# Ejercicio 6: Siguiente elemento mayor\n",
        "# Enunciado: Para cada elemento, encuentra el primer elemento mayor a su derecha.\n",
        "#\n",
        "# Implementación:\n",
        "\n",
        "def siguiente_elemento_mayor(lista):\n",
        "    pila = []\n",
        "    resultado = [-1] * len(lista)\n",
        "\n",
        "    for i in range(len(lista)):\n",
        "        while pila and lista[pila[-1]] < lista[i]:\n",
        "            idx = pila.pop()\n",
        "            resultado[idx] = lista[i]\n",
        "        pila.append(i)\n",
        "\n",
        "    return resultado\n",
        "\n",
        "# Prueba\n",
        "print(siguiente_elemento_mayor([4, 5, 2, 10]))  # [5, 10, 10, -1]"
      ]
    },
    {
      "cell_type": "markdown",
      "id": "15811b3d",
      "metadata": {
        "id": "15811b3d"
      },
      "source": [
        "### Ejercicio 7. Validar secuencia de push/pop\n",
        "\n",
        "**Enunciado:** Verifica si una secuencia es válida para operaciones push/pop."
      ]
    },
    {
      "cell_type": "code",
      "execution_count": 7,
      "id": "183c4d67",
      "metadata": {
        "colab": {
          "base_uri": "https://localhost:8080/"
        },
        "id": "183c4d67",
        "outputId": "770d0309-c6f2-424d-96a4-208229ecab0e"
      },
      "outputs": [
        {
          "output_type": "stream",
          "name": "stdout",
          "text": [
            "True\n"
          ]
        }
      ],
      "source": [
        "# Ejercicio 7: Validar secuencia de push/pop\n",
        "# Enunciado: Verifica si una secuencia es válida para operaciones push/pop.\n",
        "#\n",
        "# Implementación:\n",
        "\n",
        "def validar_secuencia_push_pop(push_seq, pop_seq):\n",
        "    pila = []\n",
        "    i = 0\n",
        "\n",
        "    for num in push_seq:\n",
        "        pila.append(num)\n",
        "        while pila and pila[-1] == pop_seq[i]:\n",
        "            pila.pop()\n",
        "            i += 1\n",
        "\n",
        "    return not pila\n",
        "\n",
        "# Prueba\n",
        "print(validar_secuencia_push_pop([1, 2, 3, 4, 5], [4, 5, 3, 2, 1]))  # True"
      ]
    },
    {
      "cell_type": "markdown",
      "id": "14144efb",
      "metadata": {
        "id": "14144efb"
      },
      "source": [
        "### Ejercicio 8. Pila con mínimo en O(1)\n",
        "\n",
        "**Enunciado:** Implementa una pila que devuelva el mínimo en tiempo constante."
      ]
    },
    {
      "cell_type": "code",
      "execution_count": 8,
      "id": "350c7f64",
      "metadata": {
        "colab": {
          "base_uri": "https://localhost:8080/"
        },
        "id": "350c7f64",
        "outputId": "46023f69-1fdd-4f3f-ea22-f9e1ae17324a"
      },
      "outputs": [
        {
          "output_type": "stream",
          "name": "stdout",
          "text": [
            "1\n"
          ]
        }
      ],
      "source": [
        "# Ejercicio 8: Pila con mínimo en O(1)\n",
        "# Enunciado: Implementa una pila que devuelva el mínimo en tiempo constante.\n",
        "#\n",
        "# Implementación:\n",
        "\n",
        "class PilaConMinimo:\n",
        "    def __init__(self):\n",
        "        self.pila_principal = []\n",
        "        self.pila_minimos = []\n",
        "\n",
        "    def push(self, valor):\n",
        "        self.pila_principal.append(valor)\n",
        "        if not self.pila_minimos or valor <= self.pila_minimos[-1]:\n",
        "            self.pila_minimos.append(valor)\n",
        "\n",
        "    def pop(self):\n",
        "        if not self.pila_principal:\n",
        "            return None\n",
        "        valor = self.pila_principal.pop()\n",
        "        if valor == self.pila_minimos[-1]:\n",
        "            self.pila_minimos.pop()\n",
        "        return valor\n",
        "\n",
        "    def min(self):\n",
        "        return self.pila_minimos[-1] if self.pila_minimos else None\n",
        "\n",
        "# Prueba\n",
        "pila = PilaConMinimo()\n",
        "pila.push(3)\n",
        "pila.push(1)\n",
        "pila.push(2)\n",
        "print(pila.min())  # 1"
      ]
    },
    {
      "cell_type": "markdown",
      "id": "30193320",
      "metadata": {
        "id": "30193320"
      },
      "source": [
        "### Ejercicio 9. Dos pilas en un array\n",
        "\n",
        "**Enunciado:** Implementa dos pilas usando un solo array."
      ]
    },
    {
      "cell_type": "code",
      "execution_count": 9,
      "id": "54997005",
      "metadata": {
        "colab": {
          "base_uri": "https://localhost:8080/"
        },
        "id": "54997005",
        "outputId": "34a672f7-48b8-4493-94ef-80a3262d9e7b"
      },
      "outputs": [
        {
          "output_type": "stream",
          "name": "stdout",
          "text": [
            "1\n"
          ]
        }
      ],
      "source": [
        "# Ejercicio 9: Dos pilas en un array\n",
        "# Enunciado: Implementa dos pilas usando un solo array.\n",
        "#\n",
        "# Implementación:\n",
        "\n",
        "class DosPilas:\n",
        "    def __init__(self, capacidad):\n",
        "        self.capacidad = capacidad\n",
        "        self.array = [None] * capacidad\n",
        "        self.top1 = -1\n",
        "        self.top2 = capacidad\n",
        "\n",
        "    def push1(self, valor):\n",
        "        if self.top1 < self.top2 - 1:\n",
        "            self.top1 += 1\n",
        "            self.array[self.top1] = valor\n",
        "        else:\n",
        "            print(\"Pila 1 llena\")\n",
        "\n",
        "    def push2(self, valor):\n",
        "        if self.top1 < self.top2 - 1:\n",
        "            self.top2 -= 1\n",
        "            self.array[self.top2] = valor\n",
        "        else:\n",
        "            print(\"Pila 2 llena\")\n",
        "\n",
        "    def pop1(self):\n",
        "        if self.top1 >= 0:\n",
        "            valor = self.array[self.top1]\n",
        "            self.top1 -= 1\n",
        "            return valor\n",
        "        return None\n",
        "\n",
        "    def pop2(self):\n",
        "        if self.top2 < self.capacidad:\n",
        "            valor = self.array[self.top2]\n",
        "            self.top2 += 1\n",
        "            return valor\n",
        "        return None\n",
        "\n",
        "# Prueba\n",
        "pilas = DosPilas(5)\n",
        "pilas.push1(1)\n",
        "pilas.push2(2)\n",
        "print(pilas.pop1())  # 1"
      ]
    },
    {
      "cell_type": "markdown",
      "id": "a71529dc",
      "metadata": {
        "id": "a71529dc"
      },
      "source": [
        "### Ejercicio 10. Ordenar pila\n",
        "\n",
        "**Enunciado:** Ordena una pila usando solo operaciones de pila."
      ]
    },
    {
      "cell_type": "code",
      "execution_count": 21,
      "id": "63fe207f",
      "metadata": {
        "colab": {
          "base_uri": "https://localhost:8080/"
        },
        "id": "63fe207f",
        "outputId": "ec0e19e4-b9e0-49a5-a415-e1ba381bf841"
      },
      "outputs": [
        {
          "output_type": "stream",
          "name": "stdout",
          "text": [
            "[1, 2, 3, 4]\n"
          ]
        }
      ],
      "source": [
        "# Ejercicio 10: Ordenar pila\n",
        "# Enunciado: Ordena una pila usando solo operaciones de pila.\n",
        "#\n",
        "# Implementación:\n",
        "\n",
        "def ordenar_pila(pila):\n",
        "    pila_temp = []\n",
        "\n",
        "    while pila:\n",
        "        temp = pila.pop()\n",
        "        while pila_temp and pila_temp[-1] > temp:\n",
        "            pila.append(pila_temp.pop())\n",
        "        pila_temp.append(temp)\n",
        "\n",
        "    return pila_temp\n",
        "\n",
        "# Prueba\n",
        "pila = [3, 1, 4, 2]\n",
        "print(ordenar_pila(pila))  # [1, 2, 3, 4]"
      ]
    },
    {
      "cell_type": "markdown",
      "id": "5b0bc23f",
      "metadata": {
        "id": "5b0bc23f"
      },
      "source": [
        "### Ejercicio 11. Implementar cola usando pilas\n",
        "\n",
        "**Enunciado:** Implementa una cola usando dos pilas."
      ]
    },
    {
      "cell_type": "code",
      "execution_count": 22,
      "id": "82417c0a",
      "metadata": {
        "colab": {
          "base_uri": "https://localhost:8080/"
        },
        "id": "82417c0a",
        "outputId": "ec132058-2939-4a6d-d5ce-76cdd7385090"
      },
      "outputs": [
        {
          "output_type": "stream",
          "name": "stdout",
          "text": [
            "1\n"
          ]
        }
      ],
      "source": [
        "# Ejercicio 11: Implementar cola usando pilas\n",
        "# Enunciado: Implementa una cola usando dos pilas.\n",
        "#\n",
        "# Implementación:\n",
        "\n",
        "class ColaConPilas:\n",
        "    def __init__(self):\n",
        "        self.entrada = []\n",
        "        self.salida = []\n",
        "\n",
        "    def enqueue(self, valor):\n",
        "        self.entrada.append(valor)\n",
        "\n",
        "    def dequeue(self):\n",
        "        if not self.salida:\n",
        "            while self.entrada:\n",
        "                self.salida.append(self.entrada.pop())\n",
        "        return self.salida.pop() if self.salida else None\n",
        "\n",
        "    def front(self):\n",
        "        if not self.salida:\n",
        "            while self.entrada:\n",
        "                self.salida.append(self.entrada.pop())\n",
        "        return self.salida[-1] if self.salida else None\n",
        "\n",
        "# Prueba\n",
        "cola = ColaConPilas()\n",
        "cola.enqueue(1)\n",
        "cola.enqueue(2)\n",
        "print(cola.dequeue())  # 1"
      ]
    },
    {
      "cell_type": "markdown",
      "id": "88a751d3",
      "metadata": {
        "id": "88a751d3"
      },
      "source": [
        "### Ejercicio 12. Cola circular\n",
        "\n",
        "**Enunciado:** Implementa una cola circular con array de tamaño fijo."
      ]
    },
    {
      "cell_type": "code",
      "execution_count": 23,
      "id": "ba33f6f4",
      "metadata": {
        "colab": {
          "base_uri": "https://localhost:8080/"
        },
        "id": "ba33f6f4",
        "outputId": "62c0425e-7232-4091-c377-a77203d1fdf0"
      },
      "outputs": [
        {
          "output_type": "stream",
          "name": "stdout",
          "text": [
            "1\n"
          ]
        }
      ],
      "source": [
        "# Ejercicio 12: Cola circular\n",
        "# Enunciado: Implementa una cola circular con array de tamaño fijo.\n",
        "#\n",
        "# Implementación:\n",
        "\n",
        "class ColaCircular:\n",
        "    def __init__(self, capacidad):\n",
        "        self.capacidad = capacidad\n",
        "        self.cola = [None] * capacidad\n",
        "        self.frente = 0\n",
        "        self.final = -1\n",
        "        self.tamaño = 0\n",
        "\n",
        "    def enqueue(self, valor):\n",
        "        if self.tamaño == self.capacidad:\n",
        "            return False\n",
        "        self.final = (self.final + 1) % self.capacidad\n",
        "        self.cola[self.final] = valor\n",
        "        self.tamaño += 1\n",
        "        return True\n",
        "\n",
        "    def dequeue(self):\n",
        "        if self.tamaño == 0:\n",
        "            return None\n",
        "        valor = self.cola[self.frente]\n",
        "        self.frente = (self.frente + 1) % self.capacidad\n",
        "        self.tamaño -= 1\n",
        "        return valor\n",
        "\n",
        "    def front(self):\n",
        "        return self.cola[self.frente] if self.tamaño > 0 else None\n",
        "\n",
        "# Prueba\n",
        "cola = ColaCircular(3)\n",
        "cola.enqueue(1)\n",
        "cola.enqueue(2)\n",
        "print(cola.dequeue())  # 1"
      ]
    },
    {
      "cell_type": "markdown",
      "id": "69b40d19",
      "metadata": {
        "id": "69b40d19"
      },
      "source": [
        "### Ejercicio 13. Revertir primeros k elementos\n",
        "\n",
        "**Enunciado:** Invierte los primeros k elementos de una cola."
      ]
    },
    {
      "cell_type": "code",
      "execution_count": 24,
      "id": "902a9a74",
      "metadata": {
        "colab": {
          "base_uri": "https://localhost:8080/"
        },
        "id": "902a9a74",
        "outputId": "4ebf3a8c-73bd-42aa-d029-b487b048a428"
      },
      "outputs": [
        {
          "output_type": "execute_result",
          "data": {
            "text/plain": [
              "<__main__.ColaSimple at 0x7c9d7edef860>"
            ]
          },
          "metadata": {},
          "execution_count": 24
        }
      ],
      "source": [
        "# Ejercicio 13: Revertir primeros k elementos\n",
        "# Enunciado: Invierte los primeros k elementos de una cola.\n",
        "#\n",
        "# Implementación:\n",
        "\n",
        "def revertir_primeros_k(cola, k):\n",
        "    pila = []\n",
        "\n",
        "    # Sacar primeros k elementos a la pila\n",
        "    for _ in range(k):\n",
        "        pila.append(cola.dequeue())\n",
        "\n",
        "    # Devolver de la pila a la cola (invertidos)\n",
        "    while pila:\n",
        "        cola.enqueue(pila.pop())\n",
        "\n",
        "    # Mover los elementos restantes al final\n",
        "    for _ in range(len(cola) - k):\n",
        "        cola.enqueue(cola.dequeue())\n",
        "\n",
        "    return cola\n",
        "\n",
        "# Prueba (asumiendo implementación básica de cola)\n",
        "class ColaSimple:\n",
        "    def __init__(self):\n",
        "        self.elementos = []\n",
        "\n",
        "    def enqueue(self, valor):\n",
        "        self.elementos.append(valor)\n",
        "\n",
        "    def dequeue(self):\n",
        "        return self.elementos.pop(0) if self.elementos else None\n",
        "\n",
        "    def __len__(self):\n",
        "        return len(self.elementos)\n",
        "\n",
        "cola = ColaSimple()\n",
        "for i in range(1, 6):\n",
        "    cola.enqueue(i)\n",
        "revertir_primeros_k(cola, 3)"
      ]
    },
    {
      "cell_type": "markdown",
      "id": "b822943f",
      "metadata": {
        "id": "b822943f"
      },
      "source": [
        "### Ejercicio 14. Generar números binarios\n",
        "\n",
        "**Enunciado:** Genera los primeros n números binarios usando una cola."
      ]
    },
    {
      "cell_type": "code",
      "execution_count": 25,
      "id": "69953446",
      "metadata": {
        "colab": {
          "base_uri": "https://localhost:8080/"
        },
        "id": "69953446",
        "outputId": "d9e6e665-f446-4398-e13d-9255327f9fd1"
      },
      "outputs": [
        {
          "output_type": "stream",
          "name": "stdout",
          "text": [
            "['1', '10', '11', '100', '101']\n"
          ]
        }
      ],
      "source": [
        "# Ejercicio 14: Generar números binarios\n",
        "# Enunciado: Genera los primeros n números binarios usando una cola.\n",
        "#\n",
        "# Implementación:\n",
        "\n",
        "def generar_numeros_binarios(n):\n",
        "    if n <= 0:\n",
        "        return []\n",
        "\n",
        "    resultado = []\n",
        "    cola = []\n",
        "    cola.append(\"1\")\n",
        "\n",
        "    for _ in range(n):\n",
        "        actual = cola.pop(0)\n",
        "        resultado.append(actual)\n",
        "        cola.append(actual + \"0\")\n",
        "        cola.append(actual + \"1\")\n",
        "\n",
        "    return resultado\n",
        "\n",
        "# Prueba\n",
        "print(generar_numeros_binarios(5))  # ['1', '10', '11', '100', '101']"
      ]
    },
    {
      "cell_type": "markdown",
      "id": "c6f9679d",
      "metadata": {
        "id": "c6f9679d"
      },
      "source": [
        "### Ejercicio 15. Cola de prioridad simple\n",
        "\n",
        "**Enunciado:** Implementa una cola de prioridad usando listas."
      ]
    },
    {
      "cell_type": "code",
      "execution_count": 26,
      "id": "38dd294d",
      "metadata": {
        "colab": {
          "base_uri": "https://localhost:8080/"
        },
        "id": "38dd294d",
        "outputId": "27762bf6-2001-4c45-f8f0-53fc274a41f9"
      },
      "outputs": [
        {
          "output_type": "stream",
          "name": "stdout",
          "text": [
            "tarea2\n"
          ]
        }
      ],
      "source": [
        "# Ejercicio 15: Cola de prioridad simple\n",
        "# Enunciado: Implementa una cola de prioridad usando listas.\n",
        "#\n",
        "# Implementación:\n",
        "\n",
        "class ColaPrioridadSimple:\n",
        "    def __init__(self):\n",
        "        self.elementos = []\n",
        "\n",
        "    def enqueue(self, valor, prioridad):\n",
        "        self.elementos.append((valor, prioridad))\n",
        "        # Ordenar por prioridad (menor número = mayor prioridad)\n",
        "        self.elementos.sort(key=lambda x: x[1])\n",
        "\n",
        "    def dequeue(self):\n",
        "        if not self.elementos:\n",
        "            return None\n",
        "        return self.elementos.pop(0)[0]\n",
        "\n",
        "    def front(self):\n",
        "        return self.elementos[0][0] if self.elementos else None\n",
        "\n",
        "# Prueba\n",
        "cp = ColaPrioridadSimple()\n",
        "cp.enqueue(\"tarea1\", 2)\n",
        "cp.enqueue(\"tarea2\", 1)\n",
        "print(cp.dequeue())  # tarea2"
      ]
    },
    {
      "cell_type": "markdown",
      "id": "bfac1119",
      "metadata": {
        "id": "bfac1119"
      },
      "source": [
        "### Ejercicio 16. Cola con dos stacks eficiente\n",
        "\n",
        "**Enunciado:** Implementa una cola eficiente usando dos stacks."
      ]
    },
    {
      "cell_type": "code",
      "execution_count": 27,
      "id": "442b7714",
      "metadata": {
        "colab": {
          "base_uri": "https://localhost:8080/"
        },
        "id": "442b7714",
        "outputId": "393a768d-7f34-492e-8ccf-7eb6113a430a"
      },
      "outputs": [
        {
          "output_type": "stream",
          "name": "stdout",
          "text": [
            "1\n"
          ]
        }
      ],
      "source": [
        "# Ejercicio 16: Cola con dos stacks eficiente\n",
        "# Enunciado: Implementa una cola eficiente usando dos stacks.\n",
        "#\n",
        "# Implementación:\n",
        "\n",
        "class ColaEficiente:\n",
        "    def __init__(self):\n",
        "        self.stack_entrada = []\n",
        "        self.stack_salida = []\n",
        "\n",
        "    def enqueue(self, valor):\n",
        "        self.stack_entrada.append(valor)\n",
        "\n",
        "    def dequeue(self):\n",
        "        if not self.stack_salida:\n",
        "            self._transferir()\n",
        "        return self.stack_salida.pop() if self.stack_salida else None\n",
        "\n",
        "    def _transferir(self):\n",
        "        while self.stack_entrada:\n",
        "            self.stack_salida.append(self.stack_entrada.pop())\n",
        "\n",
        "    def front(self):\n",
        "        if not self.stack_salida:\n",
        "            self._transferir()\n",
        "        return self.stack_salida[-1] if self.stack_salida else None\n",
        "\n",
        "# Prueba\n",
        "cola = ColaEficiente()\n",
        "cola.enqueue(1)\n",
        "cola.enqueue(2)\n",
        "print(cola.dequeue())  # 1"
      ]
    },
    {
      "cell_type": "markdown",
      "id": "6389c122",
      "metadata": {
        "id": "6389c122"
      },
      "source": [
        "### Ejercicio 17. Intercalar colas\n",
        "\n",
        "**Enunciado:** Intercala elementos de dos colas en una nueva cola."
      ]
    },
    {
      "cell_type": "code",
      "execution_count": 28,
      "id": "e470a0f5",
      "metadata": {
        "colab": {
          "base_uri": "https://localhost:8080/"
        },
        "id": "e470a0f5",
        "outputId": "89512089-4156-4207-e192-be9ce77e93ac"
      },
      "outputs": [
        {
          "output_type": "stream",
          "name": "stdout",
          "text": [
            "[1, 2, 3, 4, 5, 6, 8]\n"
          ]
        }
      ],
      "source": [
        "# Ejercicio 17: Intercalar colas\n",
        "# Enunciado: Intercala elementos de dos colas en una nueva cola.\n",
        "#\n",
        "# Implementación:\n",
        "\n",
        "def intercalar_colas(cola1, cola2):\n",
        "    resultado = []\n",
        "\n",
        "    while cola1 and cola2:\n",
        "        resultado.append(cola1.pop(0))\n",
        "        resultado.append(cola2.pop(0))\n",
        "\n",
        "    # Agregar elementos restantes\n",
        "    resultado.extend(cola1)\n",
        "    resultado.extend(cola2)\n",
        "\n",
        "    return resultado\n",
        "\n",
        "# Prueba\n",
        "print(intercalar_colas([1, 3, 5], [2, 4, 6, 8]))  # [1, 2, 3, 4, 5, 6, 8]"
      ]
    },
    {
      "cell_type": "markdown",
      "id": "f66ca05c",
      "metadata": {
        "id": "f66ca05c"
      },
      "source": [
        "### Ejercicio 18. Revertir cola recursivamente\n",
        "\n",
        "**Enunciado:** Revierte una cola usando recursión."
      ]
    },
    {
      "cell_type": "code",
      "execution_count": 29,
      "id": "f9739216",
      "metadata": {
        "colab": {
          "base_uri": "https://localhost:8080/"
        },
        "id": "f9739216",
        "outputId": "099d6bc6-39fe-44ba-b0e2-9b7b3d970672"
      },
      "outputs": [
        {
          "output_type": "stream",
          "name": "stdout",
          "text": [
            "[5, 4, 3, 2, 1]\n"
          ]
        }
      ],
      "source": [
        "# Ejercicio 18: Revertir cola recursivamente\n",
        "# Enunciado: Revierte una cola usando recursión.\n",
        "#\n",
        "# Implementación:\n",
        "\n",
        "def revertir_cola_recursiva(cola):\n",
        "    if not cola:\n",
        "        return\n",
        "\n",
        "    # Sacar el frente\n",
        "    frente = cola.pop(0)\n",
        "\n",
        "    # Revertir el resto recursivamente\n",
        "    revertir_cola_recursiva(cola)\n",
        "\n",
        "    # Poner el frente al final\n",
        "    cola.append(frente)\n",
        "\n",
        "# Prueba\n",
        "cola = [1, 2, 3, 4, 5]\n",
        "revertir_cola_recursiva(cola)\n",
        "print(cola)  # [5, 4, 3, 2, 1]"
      ]
    },
    {
      "cell_type": "markdown",
      "id": "e347b6c1",
      "metadata": {
        "id": "e347b6c1"
      },
      "source": [
        "### Ejercicio 19. Problema del puente\n",
        "\n",
        "**Enunciado:** Simula el cruce de vehículos por un puente de capacidad limitada."
      ]
    },
    {
      "cell_type": "code",
      "execution_count": 30,
      "id": "43d4dbd9",
      "metadata": {
        "colab": {
          "base_uri": "https://localhost:8080/",
          "height": 122
        },
        "id": "43d4dbd9",
        "outputId": "91cf050d-9a22-4aa8-d4f4-b87517362a0f"
      },
      "outputs": [
        {
          "output_type": "stream",
          "name": "stdout",
          "text": [
            "Auto1 entra al puente\n",
            "Auto2 entra al puente\n",
            "Auto3 espera en cola\n",
            "Auto1 sale del puente\n",
            "Auto3 entra al puente\n"
          ]
        },
        {
          "output_type": "execute_result",
          "data": {
            "text/plain": [
              "'Auto1'"
            ],
            "application/vnd.google.colaboratory.intrinsic+json": {
              "type": "string"
            }
          },
          "metadata": {},
          "execution_count": 30
        }
      ],
      "source": [
        "# Ejercicio 19: Problema del puente\n",
        "# Enunciado: Simula el cruce de vehículos por un puente de capacidad limitada.\n",
        "#\n",
        "# Implementación:\n",
        "\n",
        "class Puente:\n",
        "    def __init__(self, capacidad):\n",
        "        self.capacidad = capacidad\n",
        "        self.cola_entrada = []\n",
        "        self.puente = []\n",
        "\n",
        "    def llegar_vehiculo(self, vehiculo):\n",
        "        if len(self.puente) < self.capacidad:\n",
        "            self.puente.append(vehiculo)\n",
        "            print(f\"{vehiculo} entra al puente\")\n",
        "        else:\n",
        "            self.cola_entrada.append(vehiculo)\n",
        "            print(f\"{vehiculo} espera en cola\")\n",
        "\n",
        "    def salir_vehiculo(self):\n",
        "        if self.puente:\n",
        "            vehiculo = self.puente.pop(0)\n",
        "            print(f\"{vehiculo} sale del puente\")\n",
        "\n",
        "            # Si hay vehículos esperando, dejar pasar uno\n",
        "            if self.cola_entrada:\n",
        "                siguiente = self.cola_entrada.pop(0)\n",
        "                self.puente.append(siguiente)\n",
        "                print(f\"{siguiente} entra al puente\")\n",
        "        return vehiculo\n",
        "\n",
        "# Prueba\n",
        "puente = Puente(2)\n",
        "puente.llegar_vehiculo(\"Auto1\")\n",
        "puente.llegar_vehiculo(\"Auto2\")\n",
        "puente.llegar_vehiculo(\"Auto3\")\n",
        "puente.salir_vehiculo()"
      ]
    },
    {
      "cell_type": "markdown",
      "id": "63053ec0",
      "metadata": {
        "id": "63053ec0"
      },
      "source": [
        "### Ejercicio 20. Cola con máximo\n",
        "\n",
        "**Enunciado:** Implementa una cola que pueda devolver el elemento máximo en O(1)."
      ]
    },
    {
      "cell_type": "code",
      "execution_count": 33,
      "id": "af997232",
      "metadata": {
        "colab": {
          "base_uri": "https://localhost:8080/"
        },
        "id": "af997232",
        "outputId": "278690bf-8918-4690-8fb4-c06ab6a8ae73"
      },
      "outputs": [
        {
          "output_type": "stream",
          "name": "stdout",
          "text": [
            "3\n"
          ]
        }
      ],
      "source": [
        "# Ejercicio 20: Cola con máximo\n",
        "# Enunciado: Implementa una cola que pueda devolver el elemento máximo en O(1).\n",
        "#\n",
        "# Implementación:\n",
        "\n",
        "from collections import deque\n",
        "\n",
        "class ColaConMaximo:\n",
        "    def __init__(self):\n",
        "        self.cola_principal = deque()\n",
        "        self.cola_maximos = deque()\n",
        "\n",
        "    def enqueue(self, valor):\n",
        "        self.cola_principal.append(valor)\n",
        "\n",
        "        # Mantener cola de máximos\n",
        "        while self.cola_maximos and self.cola_maximos[-1] < valor:\n",
        "            self.cola_maximos.pop()\n",
        "        self.cola_maximos.append(valor)\n",
        "\n",
        "    def dequeue(self):\n",
        "        if not self.cola_principal:\n",
        "            return None\n",
        "\n",
        "        valor = self.cola_principal.popleft()\n",
        "        if valor == self.cola_maximos[0]:\n",
        "            self.cola_maximos.popleft()\n",
        "\n",
        "        return valor\n",
        "\n",
        "    def max(self):\n",
        "        return self.cola_maximos[0] if self.cola_maximos else None\n",
        "\n",
        "# Prueba\n",
        "cola = ColaConMaximo()\n",
        "cola.enqueue(3)\n",
        "cola.enqueue(1)\n",
        "cola.enqueue(2)\n",
        "print(cola.max())  # 3"
      ]
    },
    {
      "cell_type": "markdown",
      "id": "7e14e090",
      "metadata": {
        "id": "7e14e090"
      },
      "source": [
        "### Ejercicio 21. Intersección de listas ordenadas\n",
        "\n",
        "**Enunciado:** Encuentra la intersección de dos listas ordenadas."
      ]
    },
    {
      "cell_type": "code",
      "execution_count": 32,
      "id": "e42ae15f",
      "metadata": {
        "colab": {
          "base_uri": "https://localhost:8080/"
        },
        "id": "e42ae15f",
        "outputId": "15abe1ca-9b20-4058-a417-66d33048d48e"
      },
      "outputs": [
        {
          "output_type": "stream",
          "name": "stdout",
          "text": [
            "[2, 4]\n"
          ]
        }
      ],
      "source": [
        "# Ejercicio 21: Intersección de listas ordenadas\n",
        "# Enunciado: Encuentra la intersección de dos listas ordenadas.\n",
        "#\n",
        "# Implementación:\n",
        "\n",
        "def interseccion_listas_ordenadas(lista1, lista2):\n",
        "    i, j = 0, 0\n",
        "    resultado = []\n",
        "\n",
        "    while i < len(lista1) and j < len(lista2):\n",
        "        if lista1[i] == lista2[j]:\n",
        "            resultado.append(lista1[i])\n",
        "            i += 1\n",
        "            j += 1\n",
        "        elif lista1[i] < lista2[j]:\n",
        "            i += 1\n",
        "        else:\n",
        "            j += 1\n",
        "\n",
        "    return resultado\n",
        "\n",
        "# Prueba\n",
        "print(interseccion_listas_ordenadas([1, 2, 3, 4], [2, 4, 6]))  # [2, 4]"
      ]
    },
    {
      "cell_type": "markdown",
      "id": "b4ef73fb",
      "metadata": {
        "id": "b4ef73fb"
      },
      "source": [
        "### Ejercicio 22. Unión de listas ordenadas\n",
        "\n",
        "**Enunciado:** Encuentra la unión de dos listas ordenadas."
      ]
    },
    {
      "cell_type": "code",
      "execution_count": 34,
      "id": "18814c8f",
      "metadata": {
        "colab": {
          "base_uri": "https://localhost:8080/"
        },
        "id": "18814c8f",
        "outputId": "c6e7032d-0a57-4648-e897-e335ed5401c3"
      },
      "outputs": [
        {
          "output_type": "stream",
          "name": "stdout",
          "text": [
            "[1, 2, 3, 4]\n"
          ]
        }
      ],
      "source": [
        "# Ejercicio 22: Unión de listas ordenadas\n",
        "# Enunciado: Encuentra la unión de dos listas ordenadas.\n",
        "#\n",
        "# Implementación:\n",
        "\n",
        "def union_listas_ordenadas(lista1, lista2):\n",
        "    i, j = 0, 0\n",
        "    resultado = []\n",
        "\n",
        "    while i < len(lista1) and j < len(lista2):\n",
        "        if lista1[i] < lista2[j]:\n",
        "            resultado.append(lista1[i])\n",
        "            i += 1\n",
        "        elif lista1[i] > lista2[j]:\n",
        "            resultado.append(lista2[j])\n",
        "            j += 1\n",
        "        else:\n",
        "            resultado.append(lista1[i])\n",
        "            i += 1\n",
        "            j += 1\n",
        "\n",
        "    # Agregar elementos restantes\n",
        "    resultado.extend(lista1[i:])\n",
        "    resultado.extend(lista2[j:])\n",
        "\n",
        "    return resultado\n",
        "\n",
        "# Prueba\n",
        "print(union_listas_ordenadas([1, 2, 3], [2, 3, 4]))  # [1, 2, 3, 4]"
      ]
    },
    {
      "cell_type": "markdown",
      "id": "8074b764",
      "metadata": {
        "id": "8074b764"
      },
      "source": [
        "### Ejercicio 23. Rotar lista\n",
        "\n",
        "**Enunciado:** Rota una lista k posiciones a la derecha."
      ]
    },
    {
      "cell_type": "code",
      "execution_count": 35,
      "id": "4e74bbf0",
      "metadata": {
        "colab": {
          "base_uri": "https://localhost:8080/"
        },
        "id": "4e74bbf0",
        "outputId": "8678d2cc-4fb7-4932-d25a-bfb0042a96ac"
      },
      "outputs": [
        {
          "output_type": "stream",
          "name": "stdout",
          "text": [
            "[4, 5, 1, 2, 3]\n"
          ]
        }
      ],
      "source": [
        "# Ejercicio 23: Rotar lista\n",
        "# Enunciado: Rota una lista k posiciones a la derecha.\n",
        "#\n",
        "# Implementación:\n",
        "\n",
        "def rotar_lista(lista, k):\n",
        "    if not lista:\n",
        "        return lista\n",
        "\n",
        "    k = k % len(lista)  # Manejar k mayor que longitud\n",
        "    return lista[-k:] + lista[:-k]\n",
        "\n",
        "# Prueba\n",
        "print(rotar_lista([1, 2, 3, 4, 5], 2))  # [4, 5, 1, 2, 3]"
      ]
    },
    {
      "cell_type": "markdown",
      "id": "6d59dd69",
      "metadata": {
        "id": "6d59dd69"
      },
      "source": [
        "### Ejercicio 24. Mover ceros al final\n",
        "\n",
        "**Enunciado:** Mueve todos los ceros al final manteniendo el orden relativo."
      ]
    },
    {
      "cell_type": "code",
      "execution_count": 36,
      "id": "341427a9",
      "metadata": {
        "colab": {
          "base_uri": "https://localhost:8080/"
        },
        "id": "341427a9",
        "outputId": "a7f471c6-1ead-4382-d3e3-eab7168d06d7"
      },
      "outputs": [
        {
          "output_type": "stream",
          "name": "stdout",
          "text": [
            "[1, 3, 12, 0, 0]\n"
          ]
        }
      ],
      "source": [
        "# Ejercicio 24: Mover ceros al final\n",
        "# Enunciado: Mueve todos los ceros al final manteniendo el orden relativo.\n",
        "#\n",
        "# Implementación:\n",
        "\n",
        "def mover_ceros_al_final(lista):\n",
        "    no_ceros = [x for x in lista if x != 0]\n",
        "    ceros = [0] * (len(lista) - len(no_ceros))\n",
        "    return no_ceros + ceros\n",
        "\n",
        "# Versión in-place\n",
        "def mover_ceros_al_final_inplace(lista):\n",
        "    pos = 0\n",
        "    for i in range(len(lista)):\n",
        "        if lista[i] != 0:\n",
        "            lista[pos], lista[i] = lista[i], lista[pos]\n",
        "            pos += 1\n",
        "\n",
        "# Prueba\n",
        "lista = [0, 1, 0, 3, 12]\n",
        "mover_ceros_al_final_inplace(lista)\n",
        "print(lista)  # [1, 3, 12, 0, 0]"
      ]
    },
    {
      "cell_type": "markdown",
      "id": "de3b0e7e",
      "metadata": {
        "id": "de3b0e7e"
      },
      "source": [
        "### Ejercicio 25. Encontrar duplicados\n",
        "\n",
        "**Enunciado:** Encuentra todos los elementos duplicados en una lista."
      ]
    },
    {
      "cell_type": "code",
      "execution_count": 37,
      "id": "6f9e20b6",
      "metadata": {
        "colab": {
          "base_uri": "https://localhost:8080/"
        },
        "id": "6f9e20b6",
        "outputId": "37bdcecd-4b63-499e-c5dd-ca876867dfb5"
      },
      "outputs": [
        {
          "output_type": "stream",
          "name": "stdout",
          "text": [
            "[1, 2]\n"
          ]
        }
      ],
      "source": [
        "# Ejercicio 25: Encontrar duplicados\n",
        "# Enunciado: Encuentra todos los elementos duplicados en una lista.\n",
        "#\n",
        "# Implementación:\n",
        "\n",
        "def encontrar_duplicados(lista):\n",
        "    vistos = set()\n",
        "    duplicados = set()\n",
        "\n",
        "    for elemento in lista:\n",
        "        if elemento in vistos:\n",
        "            duplicados.add(elemento)\n",
        "        else:\n",
        "            vistos.add(elemento)\n",
        "\n",
        "    return list(duplicados)\n",
        "\n",
        "# Prueba\n",
        "print(encontrar_duplicados([1, 2, 3, 2, 1, 4, 5]))  # [1, 2]"
      ]
    },
    {
      "cell_type": "markdown",
      "id": "17e54f5a",
      "metadata": {
        "id": "17e54f5a"
      },
      "source": [
        "### Ejercicio 26. Producto máximo de sublista\n",
        "\n",
        "**Enunciado:** Encuentra el producto máximo de cualquier sublista contigua."
      ]
    },
    {
      "cell_type": "code",
      "execution_count": 38,
      "id": "f17800d2",
      "metadata": {
        "colab": {
          "base_uri": "https://localhost:8080/"
        },
        "id": "f17800d2",
        "outputId": "ceba2469-4cec-4fb2-e669-6a466e01e778"
      },
      "outputs": [
        {
          "output_type": "stream",
          "name": "stdout",
          "text": [
            "6\n"
          ]
        }
      ],
      "source": [
        "# Ejercicio 26: Producto máximo de sublista\n",
        "# Enunciado: Encuentra el producto máximo de cualquier sublista contigua.\n",
        "#\n",
        "# Implementación:\n",
        "\n",
        "def producto_maximo_sublista(lista):\n",
        "    if not lista:\n",
        "        return 0\n",
        "\n",
        "    max_producto = lista[0]\n",
        "    min_producto = lista[0]\n",
        "    resultado = lista[0]\n",
        "\n",
        "    for i in range(1, len(lista)):\n",
        "        if lista[i] < 0:\n",
        "            max_producto, min_producto = min_producto, max_producto\n",
        "\n",
        "        max_producto = max(lista[i], max_producto * lista[i])\n",
        "        min_producto = min(lista[i], min_producto * lista[i])\n",
        "\n",
        "        resultado = max(resultado, max_producto)\n",
        "\n",
        "    return resultado\n",
        "\n",
        "# Prueba\n",
        "print(producto_maximo_sublista([2, 3, -2, 4]))  # 6"
      ]
    },
    {
      "cell_type": "markdown",
      "id": "a0799bdd",
      "metadata": {
        "id": "a0799bdd"
      },
      "source": [
        "### Ejercicio 27. Lista de Pascal\n",
        "\n",
        "**Enunciado:** Genera una fila del triángulo de Pascal."
      ]
    },
    {
      "cell_type": "code",
      "execution_count": 39,
      "id": "ebf805f2",
      "metadata": {
        "colab": {
          "base_uri": "https://localhost:8080/"
        },
        "id": "ebf805f2",
        "outputId": "1dc46904-3dfe-4553-d7d9-c3357919beca"
      },
      "outputs": [
        {
          "output_type": "stream",
          "name": "stdout",
          "text": [
            "[1, 4, 6, 4, 1]\n"
          ]
        }
      ],
      "source": [
        "# Ejercicio 27: Lista de Pascal\n",
        "# Enunciado: Genera una fila del triángulo de Pascal.\n",
        "#\n",
        "# Implementación:\n",
        "\n",
        "def fila_triangulo_pascal(n):\n",
        "    if n == 0:\n",
        "        return [1]\n",
        "\n",
        "    fila_anterior = [1]\n",
        "    for i in range(1, n + 1):\n",
        "        fila_actual = [1]\n",
        "        for j in range(1, i):\n",
        "            fila_actual.append(fila_anterior[j-1] + fila_anterior[j])\n",
        "        fila_actual.append(1)\n",
        "        fila_anterior = fila_actual\n",
        "\n",
        "    return fila_anterior\n",
        "\n",
        "# Prueba\n",
        "print(fila_triangulo_pascal(4))  # [1, 4, 6, 4, 1]"
      ]
    },
    {
      "cell_type": "markdown",
      "id": "bc964d2c",
      "metadata": {
        "id": "bc964d2c"
      },
      "source": [
        "### Ejercicio 28. Combinar listas ordenadas\n",
        "\n",
        "**Enunciado:** Combina k listas ordenadas en una sola lista ordenada."
      ]
    },
    {
      "cell_type": "code",
      "execution_count": 40,
      "id": "000d15b5",
      "metadata": {
        "colab": {
          "base_uri": "https://localhost:8080/"
        },
        "id": "000d15b5",
        "outputId": "db4e0b3b-f261-4d15-aef6-ef53e6ec444e"
      },
      "outputs": [
        {
          "output_type": "stream",
          "name": "stdout",
          "text": [
            "[1, 1, 2, 3, 4, 4, 5, 6]\n"
          ]
        }
      ],
      "source": [
        "# Ejercicio 28: Combinar listas ordenadas\n",
        "# Enunciado: Combina k listas ordenadas en una sola lista ordenada.\n",
        "#\n",
        "# Implementación:\n",
        "\n",
        "import heapq\n",
        "\n",
        "def combinar_listas_ordenadas(listas):\n",
        "    heap = []\n",
        "    resultado = []\n",
        "\n",
        "    # Insertar primer elemento de cada lista en el heap\n",
        "    for i, lista in enumerate(listas):\n",
        "        if lista:\n",
        "            heapq.heappush(heap, (lista[0], i, 0))\n",
        "\n",
        "    while heap:\n",
        "        valor, lista_idx, elem_idx = heapq.heappop(heap)\n",
        "        resultado.append(valor)\n",
        "\n",
        "        # Insertar siguiente elemento de la misma lista\n",
        "        if elem_idx + 1 < len(listas[lista_idx]):\n",
        "            siguiente_valor = listas[lista_idx][elem_idx + 1]\n",
        "            heapq.heappush(heap, (siguiente_valor, lista_idx, elem_idx + 1))\n",
        "\n",
        "    return resultado\n",
        "\n",
        "# Prueba\n",
        "print(combinar_listas_ordenadas([[1, 4, 5], [1, 3, 4], [2, 6]]))  # [1, 1, 2, 3, 4, 4, 5, 6]"
      ]
    },
    {
      "cell_type": "markdown",
      "id": "97b12e16",
      "metadata": {
        "id": "97b12e16"
      },
      "source": [
        "### Ejercicio 29. Subconjuntos\n",
        "\n",
        "**Enunciado:** Genera todos los subconjuntos posibles de una lista."
      ]
    },
    {
      "cell_type": "code",
      "execution_count": 17,
      "id": "fd32aba0",
      "metadata": {
        "colab": {
          "base_uri": "https://localhost:8080/"
        },
        "id": "fd32aba0",
        "outputId": "43f2443e-bebb-45f8-aa10-ae8bcb7937ad"
      },
      "outputs": [
        {
          "output_type": "stream",
          "name": "stdout",
          "text": [
            "[[], [1], [2], [1, 2], [3], [1, 3], [2, 3], [1, 2, 3]]\n"
          ]
        }
      ],
      "source": [
        "# Ejercicio 29: Subconjuntos\n",
        "# Enunciado: Genera todos los subconjuntos posibles de una lista.\n",
        "#\n",
        "# Implementación:\n",
        "\n",
        "def generar_subconjuntos(lista):\n",
        "    resultado = [[]]\n",
        "\n",
        "    for elemento in lista:\n",
        "        nuevos_subconjuntos = []\n",
        "        for subconjunto in resultado:\n",
        "            nuevos_subconjuntos.append(subconjunto + [elemento])\n",
        "        resultado.extend(nuevos_subconjuntos)\n",
        "\n",
        "    return resultado\n",
        "\n",
        "# Prueba\n",
        "print(generar_subconjuntos([1, 2, 3]))\n",
        "# [[], [1], [2], [1, 2], [3], [1, 3], [2, 3], [1, 2, 3]]"
      ]
    },
    {
      "cell_type": "markdown",
      "id": "b76bde18",
      "metadata": {
        "id": "b76bde18"
      },
      "source": [
        "### Ejercicio 30. Mayor rectángulo en histograma\n",
        "\n",
        "**Enunciado:** Encuentra el área del rectángulo más grande en un histograma."
      ]
    },
    {
      "cell_type": "code",
      "execution_count": 41,
      "id": "aa3eb4c5",
      "metadata": {
        "colab": {
          "base_uri": "https://localhost:8080/"
        },
        "id": "aa3eb4c5",
        "outputId": "4001db8e-6ae4-4cb5-eb55-e855fc2f4353"
      },
      "outputs": [
        {
          "output_type": "stream",
          "name": "stdout",
          "text": [
            "10\n"
          ]
        }
      ],
      "source": [
        "# Ejercicio 30: Mayor rectángulo en histograma\n",
        "# Enunciado: Encuentra el área del rectángulo más grande en un histograma.\n",
        "#\n",
        "# Implementación:\n",
        "\n",
        "def mayor_rectangulo_histograma(alturas):\n",
        "    pila = []\n",
        "    max_area = 0\n",
        "    i = 0\n",
        "\n",
        "    while i < len(alturas):\n",
        "        if not pila or alturas[i] >= alturas[pila[-1]]:\n",
        "            pila.append(i)\n",
        "            i += 1\n",
        "        else:\n",
        "            top = pila.pop()\n",
        "            ancho = i if not pila else i - pila[-1] - 1\n",
        "            area = alturas[top] * ancho\n",
        "            max_area = max(max_area, area)\n",
        "\n",
        "    while pila:\n",
        "        top = pila.pop()\n",
        "        ancho = i if not pila else len(alturas) - pila[-1] - 1\n",
        "        area = alturas[top] * ancho\n",
        "        max_area = max(max_area, area)\n",
        "\n",
        "    return max_area\n",
        "\n",
        "# Prueba\n",
        "print(mayor_rectangulo_histograma([2, 1, 5, 6, 2, 3]))  # 10"
      ]
    },
    {
      "cell_type": "markdown",
      "id": "0066720a",
      "metadata": {
        "id": "0066720a"
      },
      "source": [
        "### Ejercicio 31. Invertir lista enlazada\n",
        "\n",
        "**Enunciado:** Invierte una lista enlazada simple."
      ]
    },
    {
      "cell_type": "code",
      "execution_count": 42,
      "id": "ecffcf85",
      "metadata": {
        "colab": {
          "base_uri": "https://localhost:8080/"
        },
        "id": "ecffcf85",
        "outputId": "1947c859-4cb7-4d13-b920-2915a105b1f1"
      },
      "outputs": [
        {
          "output_type": "stream",
          "name": "stdout",
          "text": [
            "5 -> 4 -> 3 -> 2 -> 1 -> None\n"
          ]
        }
      ],
      "source": [
        "# Ejercicio 31: Invertir lista enlazada\n",
        "# Enunciado: Invierte una lista enlazada simple.\n",
        "#\n",
        "# Implementación:\n",
        "\n",
        "class Nodo:\n",
        "    def __init__(self, valor):\n",
        "        self.valor = valor\n",
        "        self.siguiente = None\n",
        "\n",
        "class ListaEnlazada:\n",
        "    def __init__(self):\n",
        "        self.cabeza = None\n",
        "\n",
        "    def agregar(self, valor):\n",
        "        nuevo = Nodo(valor)\n",
        "        if not self.cabeza:\n",
        "            self.cabeza = nuevo\n",
        "        else:\n",
        "            actual = self.cabeza\n",
        "            while actual.siguiente:\n",
        "                actual = actual.siguiente\n",
        "            actual.siguiente = nuevo\n",
        "\n",
        "    def invertir(self):\n",
        "        anterior = None\n",
        "        actual = self.cabeza\n",
        "\n",
        "        while actual:\n",
        "            siguiente_temp = actual.siguiente\n",
        "            actual.siguiente = anterior\n",
        "            anterior = actual\n",
        "            actual = siguiente_temp\n",
        "\n",
        "        self.cabeza = anterior\n",
        "\n",
        "    def imprimir(self):\n",
        "        actual = self.cabeza\n",
        "        while actual:\n",
        "            print(actual.valor, end=\" -> \")\n",
        "            actual = actual.siguiente\n",
        "        print(\"None\")\n",
        "\n",
        "# Prueba\n",
        "lista = ListaEnlazada()\n",
        "for i in range(1, 6):\n",
        "    lista.agregar(i)\n",
        "lista.invertir()\n",
        "lista.imprimir()  # 5 -> 4 -> 3 -> 2 -> 1 -> None"
      ]
    },
    {
      "cell_type": "markdown",
      "id": "5a42815c",
      "metadata": {
        "id": "5a42815c"
      },
      "source": [
        "### Ejercicio 32. Detectar ciclo\n",
        "\n",
        "**Enunciado:** Detecta si una lista enlazada tiene un ciclo."
      ]
    },
    {
      "cell_type": "code",
      "execution_count": 43,
      "id": "a820cb86",
      "metadata": {
        "colab": {
          "base_uri": "https://localhost:8080/"
        },
        "id": "a820cb86",
        "outputId": "58c0c5a4-64d4-45ca-e264-d21408ae0dec"
      },
      "outputs": [
        {
          "output_type": "stream",
          "name": "stdout",
          "text": [
            "True\n"
          ]
        }
      ],
      "source": [
        "# Ejercicio 32: Detectar ciclo\n",
        "# Enunciado: Detecta si una lista enlazada tiene un ciclo.\n",
        "#\n",
        "# Implementación:\n",
        "\n",
        "def tiene_ciclo(lista):\n",
        "    if not lista.cabeza:\n",
        "        return False\n",
        "\n",
        "    lento = lista.cabeza\n",
        "    rapido = lista.cabeza\n",
        "\n",
        "    while rapido and rapido.siguiente:\n",
        "        lento = lento.siguiente\n",
        "        rapido = rapido.siguiente.siguiente\n",
        "\n",
        "        if lento == rapido:\n",
        "            return True\n",
        "\n",
        "    return False\n",
        "\n",
        "# Prueba\n",
        "lista_ciclica = ListaEnlazada()\n",
        "nodo1 = Nodo(1)\n",
        "nodo2 = Nodo(2)\n",
        "nodo3 = Nodo(3)\n",
        "nodo1.siguiente = nodo2\n",
        "nodo2.siguiente = nodo3\n",
        "nodo3.siguiente = nodo1  # Ciclo\n",
        "lista_ciclica.cabeza = nodo1\n",
        "print(tiene_ciclo(lista_ciclica))  # True"
      ]
    },
    {
      "cell_type": "markdown",
      "id": "562d3f05",
      "metadata": {
        "id": "562d3f05"
      },
      "source": [
        "### Ejercicio 33. Encontrar intersección\n",
        "\n",
        "**Enunciado:** Encuentra el nodo de intersección de dos listas enlazadas."
      ]
    },
    {
      "cell_type": "code",
      "execution_count": 44,
      "id": "3257b95d",
      "metadata": {
        "id": "3257b95d"
      },
      "outputs": [],
      "source": [
        "# Ejercicio 33: Encontrar intersección\n",
        "# Enunciado: Encuentra el nodo de intersección de dos listas enlazadas.\n",
        "#\n",
        "# Implementación:\n",
        "\n",
        "def encontrar_interseccion(lista1, lista2):\n",
        "    if not lista1.cabeza or not lista2.cabeza:\n",
        "        return None\n",
        "\n",
        "    # Calcular longitudes\n",
        "    len1, len2 = 0, 0\n",
        "    actual1, actual2 = lista1.cabeza, lista2.cabeza\n",
        "\n",
        "    while actual1:\n",
        "        len1 += 1\n",
        "        actual1 = actual1.siguiente\n",
        "\n",
        "    while actual2:\n",
        "        len2 += 1\n",
        "        actual2 = actual2.siguiente\n",
        "\n",
        "    # Avanzar la lista más larga\n",
        "    actual1, actual2 = lista1.cabeza, lista2.cabeza\n",
        "    if len1 > len2:\n",
        "        for _ in range(len1 - len2):\n",
        "            actual1 = actual1.siguiente\n",
        "    else:\n",
        "        for _ in range(len2 - len1):\n",
        "            actual2 = actual2.siguiente\n",
        "\n",
        "    # Encontrar intersección\n",
        "    while actual1 and actual2:\n",
        "        if actual1 == actual2:\n",
        "            return actual1\n",
        "        actual1 = actual1.siguiente\n",
        "        actual2 = actual2.siguiente\n",
        "\n",
        "    return None"
      ]
    },
    {
      "cell_type": "markdown",
      "id": "ef043358",
      "metadata": {
        "id": "ef043358"
      },
      "source": [
        "### Ejercicio 34. Eliminar duplicados\n",
        "\n",
        "**Enunciado:** Elimina nodos duplicados de una lista enlazada ordenada."
      ]
    },
    {
      "cell_type": "code",
      "execution_count": 45,
      "id": "0bd9d877",
      "metadata": {
        "colab": {
          "base_uri": "https://localhost:8080/"
        },
        "id": "0bd9d877",
        "outputId": "7fdffd21-3f2a-4ab3-ab12-f1d504f07023"
      },
      "outputs": [
        {
          "output_type": "stream",
          "name": "stdout",
          "text": [
            "1 -> 2 -> 3 -> 4 -> None\n"
          ]
        }
      ],
      "source": [
        "# Ejercicio 34: Eliminar duplicados\n",
        "# Enunciado: Elimina nodos duplicados de una lista enlazada ordenada.\n",
        "#\n",
        "# Implementación:\n",
        "\n",
        "def eliminar_duplicados_ordenada(lista):\n",
        "    if not lista.cabeza:\n",
        "        return\n",
        "\n",
        "    actual = lista.cabeza\n",
        "    while actual and actual.siguiente:\n",
        "        if actual.valor == actual.siguiente.valor:\n",
        "            actual.siguiente = actual.siguiente.siguiente\n",
        "        else:\n",
        "            actual = actual.siguiente\n",
        "\n",
        "# Prueba\n",
        "lista = ListaEnlazada()\n",
        "for valor in [1, 1, 2, 3, 3, 4]:\n",
        "    lista.agregar(valor)\n",
        "eliminar_duplicados_ordenada(lista)\n",
        "lista.imprimir()  # 1 -> 2 -> 3 -> 4 -> None"
      ]
    },
    {
      "cell_type": "markdown",
      "id": "d34a45f0",
      "metadata": {
        "id": "d34a45f0"
      },
      "source": [
        "### Ejercicio 35. N-ésimo nodo desde el final\n",
        "\n",
        "**Enunciado:** Encuentra el n-ésimo nodo desde el final de la lista."
      ]
    },
    {
      "cell_type": "code",
      "execution_count": 46,
      "id": "15568141",
      "metadata": {
        "colab": {
          "base_uri": "https://localhost:8080/"
        },
        "id": "15568141",
        "outputId": "5245b600-6a34-46bf-8f3a-0858862ceeed"
      },
      "outputs": [
        {
          "output_type": "stream",
          "name": "stdout",
          "text": [
            "4\n"
          ]
        }
      ],
      "source": [
        "# Ejercicio 35: N-ésimo nodo desde el final\n",
        "# Enunciado: Encuentra el n-ésimo nodo desde el final de la lista.\n",
        "#\n",
        "# Implementación:\n",
        "\n",
        "def nesimo_desde_final(lista, n):\n",
        "    if not lista.cabeza or n <= 0:\n",
        "        return None\n",
        "\n",
        "    primero = lista.cabeza\n",
        "    segundo = lista.cabeza\n",
        "\n",
        "    # Avanzar primero n posiciones\n",
        "    for _ in range(n):\n",
        "        if not primero:\n",
        "            return None\n",
        "        primero = primero.siguiente\n",
        "\n",
        "    # Avanzar ambos hasta que primero llegue al final\n",
        "    while primero:\n",
        "        primero = primero.siguiente\n",
        "        segundo = segundo.siguiente\n",
        "\n",
        "    return segundo.valor if segundo else None\n",
        "\n",
        "# Prueba\n",
        "lista = ListaEnlazada()\n",
        "for i in range(1, 6):\n",
        "    lista.agregar(i)\n",
        "print(nesimo_desde_final(lista, 2))  # 4"
      ]
    },
    {
      "cell_type": "markdown",
      "id": "223967af",
      "metadata": {
        "id": "223967af"
      },
      "source": [
        "### Ejercicio 36. Suma de números como listas\n",
        "\n",
        "**Enunciado:** Suma dos números representados como listas enlazadas."
      ]
    },
    {
      "cell_type": "code",
      "execution_count": 47,
      "id": "4bb0ff33",
      "metadata": {
        "colab": {
          "base_uri": "https://localhost:8080/"
        },
        "id": "4bb0ff33",
        "outputId": "012b5e6e-4628-4a55-b07d-33a09f95ca62"
      },
      "outputs": [
        {
          "output_type": "stream",
          "name": "stdout",
          "text": [
            "8 -> 0 -> 7 -> None\n"
          ]
        }
      ],
      "source": [
        "# Ejercicio 36: Suma de números como listas\n",
        "# Enunciado: Suma dos números representados como listas enlazadas.\n",
        "#\n",
        "# Implementación:\n",
        "\n",
        "def sumar_listas_numeros(lista1, lista2):\n",
        "    def lista_a_numero(lista):\n",
        "        num = 0\n",
        "        actual = lista.cabeza\n",
        "        while actual:\n",
        "            num = num * 10 + actual.valor\n",
        "            actual = actual.siguiente\n",
        "        return num\n",
        "\n",
        "    num1 = lista_a_numero(lista1)\n",
        "    num2 = lista_a_numero(lista2)\n",
        "    suma = num1 + num2\n",
        "\n",
        "    # Convertir resultado a lista enlazada\n",
        "    resultado = ListaEnlazada()\n",
        "    for digito in str(suma):\n",
        "        resultado.agregar(int(digito))\n",
        "\n",
        "    return resultado\n",
        "\n",
        "# Prueba\n",
        "lista1 = ListaEnlazada()\n",
        "lista2 = ListaEnlazada()\n",
        "for digito in [2, 4, 3]:\n",
        "    lista1.agregar(digito)\n",
        "for digito in [5, 6, 4]:\n",
        "    lista2.agregar(digito)\n",
        "resultado = sumar_listas_numeros(lista1, lista2)\n",
        "resultado.imprimir()  # 8 -> 0 -> 7 -> None"
      ]
    },
    {
      "cell_type": "markdown",
      "id": "5a76a175",
      "metadata": {
        "id": "5a76a175"
      },
      "source": [
        "### Ejercicio 37. Palíndromo en lista enlazada\n",
        "\n",
        "**Enunciado:** Verifica si una lista enlazada es palíndroma."
      ]
    },
    {
      "cell_type": "code",
      "execution_count": 48,
      "id": "b9a1fae5",
      "metadata": {
        "colab": {
          "base_uri": "https://localhost:8080/"
        },
        "id": "b9a1fae5",
        "outputId": "fc32c8d6-aaaf-4011-cc6a-cdcd8a4cce6c"
      },
      "outputs": [
        {
          "output_type": "stream",
          "name": "stdout",
          "text": [
            "True\n"
          ]
        }
      ],
      "source": [
        "# Ejercicio 37: Palíndromo en lista enlazada\n",
        "# Enunciado: Verifica si una lista enlazada es palíndroma.\n",
        "#\n",
        "# Implementación:\n",
        "\n",
        "def es_palindromo(lista):\n",
        "    # Encontrar mitad usando técnica de tortuga y liebre\n",
        "    lento = lista.cabeza\n",
        "    rapido = lista.cabeza\n",
        "    pila = []\n",
        "\n",
        "    while rapido and rapido.siguiente:\n",
        "        pila.append(lento.valor)\n",
        "        lento = lento.siguiente\n",
        "        rapido = rapido.siguiente.siguiente\n",
        "\n",
        "    # Si la lista tiene longitud impar, saltar el elemento del medio\n",
        "    if rapido:\n",
        "        lento = lento.siguiente\n",
        "\n",
        "    # Comparar con la pila\n",
        "    while lento:\n",
        "        if lento.valor != pila.pop():\n",
        "            return False\n",
        "        lento = lento.siguiente\n",
        "\n",
        "    return True\n",
        "\n",
        "# Prueba\n",
        "lista_pal = ListaEnlazada()\n",
        "for valor in [1, 2, 3, 2, 1]:\n",
        "    lista_pal.agregar(valor)\n",
        "print(es_palindromo(lista_pal))  # True"
      ]
    },
    {
      "cell_type": "markdown",
      "id": "73d05aa1",
      "metadata": {
        "id": "73d05aa1"
      },
      "source": [
        "### Ejercicio 38. Rotar lista enlazada\n",
        "\n",
        "**Enunciado:** Rota una lista enlazada k posiciones a la derecha."
      ]
    },
    {
      "cell_type": "code",
      "execution_count": 49,
      "id": "8aa4657b",
      "metadata": {
        "colab": {
          "base_uri": "https://localhost:8080/"
        },
        "id": "8aa4657b",
        "outputId": "96d72aa5-5fd4-49d7-b0c5-f60138d49050"
      },
      "outputs": [
        {
          "output_type": "stream",
          "name": "stdout",
          "text": [
            "4 -> 5 -> 1 -> 2 -> 3 -> None\n"
          ]
        }
      ],
      "source": [
        "# Ejercicio 38: Rotar lista enlazada\n",
        "# Enunciado: Rota una lista enlazada k posiciones a la derecha.\n",
        "#\n",
        "# Implementación:\n",
        "\n",
        "def rotar_lista_enlazada(lista, k):\n",
        "    if not lista.cabeza or k == 0:\n",
        "        return\n",
        "\n",
        "    # Calcular longitud\n",
        "    longitud = 0\n",
        "    actual = lista.cabeza\n",
        "    while actual:\n",
        "        longitud += 1\n",
        "        actual = actual.siguiente\n",
        "\n",
        "    k = k % longitud\n",
        "    if k == 0:\n",
        "        return\n",
        "\n",
        "    # Encontrar nuevo tail y nuevo head\n",
        "    actual = lista.cabeza\n",
        "    for _ in range(longitud - k - 1):\n",
        "        actual = actual.siguiente\n",
        "\n",
        "    nuevo_head = actual.siguiente\n",
        "    actual.siguiente = None\n",
        "\n",
        "    # Conectar el final con la cabeza original\n",
        "    tail = nuevo_head\n",
        "    while tail.siguiente:\n",
        "        tail = tail.siguiente\n",
        "    tail.siguiente = lista.cabeza\n",
        "    lista.cabeza = nuevo_head\n",
        "\n",
        "# Prueba\n",
        "lista = ListaEnlazada()\n",
        "for i in range(1, 6):\n",
        "    lista.agregar(i)\n",
        "rotar_lista_enlazada(lista, 2)\n",
        "lista.imprimir()  # 4 -> 5 -> 1 -> 2 -> 3 -> None"
      ]
    },
    {
      "cell_type": "markdown",
      "id": "21a0f0ca",
      "metadata": {
        "id": "21a0f0ca"
      },
      "source": [
        "### Ejercicio 39. Eliminar nodos alternativos\n",
        "\n",
        "**Enunciado:** Elimina cada segundo nodo de la lista enlazada."
      ]
    },
    {
      "cell_type": "code",
      "execution_count": 50,
      "id": "38d77367",
      "metadata": {
        "colab": {
          "base_uri": "https://localhost:8080/"
        },
        "id": "38d77367",
        "outputId": "c85e6c09-e768-4c9d-9de0-daa3700bcd71"
      },
      "outputs": [
        {
          "output_type": "stream",
          "name": "stdout",
          "text": [
            "1 -> 3 -> 5 -> None\n"
          ]
        }
      ],
      "source": [
        "# Ejercicio 39: Eliminar nodos alternativos\n",
        "# Enunciado: Elimina cada segundo nodo de la lista enlazada.\n",
        "#\n",
        "# Implementación:\n",
        "\n",
        "def eliminar_nodos_alternativos(lista):\n",
        "    if not lista.cabeza:\n",
        "        return\n",
        "\n",
        "    actual = lista.cabeza\n",
        "    while actual and actual.siguiente:\n",
        "        actual.siguiente = actual.siguiente.siguiente\n",
        "        actual = actual.siguiente\n",
        "\n",
        "# Prueba\n",
        "lista = ListaEnlazada()\n",
        "for i in range(1, 7):\n",
        "    lista.agregar(i)\n",
        "eliminar_nodos_alternativos(lista)\n",
        "lista.imprimir()  # 1 -> 3 -> 5 -> None"
      ]
    },
    {
      "cell_type": "markdown",
      "id": "3bc974eb",
      "metadata": {
        "id": "3bc974eb"
      },
      "source": [
        "### Ejercicio 40. Punto de unión en Y\n",
        "\n",
        "**Enunciado:** Encuentra el punto donde dos listas se unen formando una Y."
      ]
    },
    {
      "cell_type": "code",
      "execution_count": 52,
      "id": "254d7469",
      "metadata": {
        "id": "254d7469"
      },
      "outputs": [],
      "source": [
        "# Ejercicio 40: Punto de unión en Y\n",
        "# Enunciado: Encuentra el punto donde dos listas se unen formando una Y.\n",
        "#\n",
        "# Implementación:\n",
        "\n",
        "def encontrar_punto_union(lista1, lista2):\n",
        "    def obtener_longitud(lista):\n",
        "        longitud = 0\n",
        "        actual = lista.cabeza\n",
        "        while actual:\n",
        "            longitud += 1\n",
        "            actual = actual.siguiente\n",
        "        return longitud\n",
        "\n",
        "    len1 = obtener_longitud(lista1)\n",
        "    len2 = obtener_longitud(lista2)\n",
        "\n",
        "    actual1, actual2 = lista1.cabeza, lista2.cabeza\n",
        "\n",
        "    # Avanzar la lista más larga\n",
        "    if len1 > len2:\n",
        "        for _ in range(len1 - len2):\n",
        "            actual1 = actual1.siguiente\n",
        "    else:\n",
        "        for _ in range(len2 - len1):\n",
        "            actual2 = actual2.siguiente\n",
        "\n",
        "    # Encontrar punto de unión\n",
        "    while actual1 and actual2:\n",
        "        if actual1 == actual2:\n",
        "            return actual1\n",
        "        actual1 = actual1.siguiente\n",
        "        actual2 = actual2.siguiente\n",
        "\n",
        "    return None"
      ]
    },
    {
      "cell_type": "markdown",
      "id": "4e307961",
      "metadata": {
        "id": "4e307961"
      },
      "source": [
        "### Ejercicio 41. Implementar LRU Cache\n",
        "\n",
        "**Enunciado:** Implementa un cache LRU usando lista doblemente enlazada y hash map."
      ]
    },
    {
      "cell_type": "code",
      "execution_count": 53,
      "id": "4f092103",
      "metadata": {
        "colab": {
          "base_uri": "https://localhost:8080/"
        },
        "id": "4f092103",
        "outputId": "0b91ad16-afb4-4427-95bf-e1a9293eff75"
      },
      "outputs": [
        {
          "output_type": "stream",
          "name": "stdout",
          "text": [
            "1\n",
            "-1\n"
          ]
        }
      ],
      "source": [
        "# Ejercicio 41: Implementar LRU Cache\n",
        "# Enunciado: Implementa un cache LRU usando lista doblemente enlazada y hash map.\n",
        "#\n",
        "# Implementación:\n",
        "\n",
        "class NodoDoble:\n",
        "    def __init__(self, key, value):\n",
        "        self.key = key\n",
        "        self.value = value\n",
        "        self.siguiente = None\n",
        "        self.anterior = None\n",
        "\n",
        "class LRUCache:\n",
        "    def __init__(self, capacidad):\n",
        "        self.capacidad = capacidad\n",
        "        self.cache = {}\n",
        "        self.head = NodoDoble(0, 0)\n",
        "        self.tail = NodoDoble(0, 0)\n",
        "        self.head.siguiente = self.tail\n",
        "        self.tail.anterior = self.head\n",
        "\n",
        "    def _agregar_nodo(self, nodo):\n",
        "        # Agregar después de head\n",
        "        nodo.siguiente = self.head.siguiente\n",
        "        nodo.anterior = self.head\n",
        "        self.head.siguiente.anterior = nodo\n",
        "        self.head.siguiente = nodo\n",
        "\n",
        "    def _remover_nodo(self, nodo):\n",
        "        anterior = nodo.anterior\n",
        "        siguiente = nodo.siguiente\n",
        "        anterior.siguiente = siguiente\n",
        "        siguiente.anterior = anterior\n",
        "\n",
        "    def _mover_a_frente(self, nodo):\n",
        "        self._remover_nodo(nodo)\n",
        "        self._agregar_nodo(nodo)\n",
        "\n",
        "    def get(self, key):\n",
        "        if key in self.cache:\n",
        "            nodo = self.cache[key]\n",
        "            self._mover_a_frente(nodo)\n",
        "            return nodo.value\n",
        "        return -1\n",
        "\n",
        "    def put(self, key, value):\n",
        "        if key in self.cache:\n",
        "            nodo = self.cache[key]\n",
        "            nodo.value = value\n",
        "            self._mover_a_frente(nodo)\n",
        "        else:\n",
        "            if len(self.cache) >= self.capacidad:\n",
        "                # Remover el menos recientemente usado\n",
        "                lru = self.tail.anterior\n",
        "                self._remover_nodo(lru)\n",
        "                del self.cache[lru.key]\n",
        "\n",
        "            nuevo_nodo = NodoDoble(key, value)\n",
        "            self.cache[key] = nuevo_nodo\n",
        "            self._agregar_nodo(nuevo_nodo)\n",
        "\n",
        "# Prueba\n",
        "cache = LRUCache(2)\n",
        "cache.put(1, 1)\n",
        "cache.put(2, 2)\n",
        "print(cache.get(1))  # 1\n",
        "cache.put(3, 3)\n",
        "print(cache.get(2))  # -1"
      ]
    },
    {
      "cell_type": "markdown",
      "id": "6c16b4fc",
      "metadata": {
        "id": "6c16b4fc"
      },
      "source": [
        "### Ejercicio 42. Polinomio con lista doble\n",
        "\n",
        "**Enunciado:** Representa y suma polinomios usando listas doblemente enlazadas."
      ]
    },
    {
      "cell_type": "code",
      "execution_count": 54,
      "id": "8daf1031",
      "metadata": {
        "colab": {
          "base_uri": "https://localhost:8080/"
        },
        "id": "8daf1031",
        "outputId": "ccb321c9-8de6-4b12-ee76-4b79f5d4a9a1"
      },
      "outputs": [
        {
          "output_type": "stream",
          "name": "stdout",
          "text": [
            "5x^2 + 3x^1 + 1x^0\n"
          ]
        }
      ],
      "source": [
        "# Ejercicio 42: Polinomio con lista doble\n",
        "# Enunciado: Representa y suma polinomios usando listas doblemente enlazadas.\n",
        "#\n",
        "# Implementación:\n",
        "\n",
        "class Termino:\n",
        "    def __init__(self, coeficiente, exponente):\n",
        "        self.coeficiente = coeficiente\n",
        "        self.exponente = exponente\n",
        "        self.siguiente = None\n",
        "        self.anterior = None\n",
        "\n",
        "class Polinomio:\n",
        "    def __init__(self):\n",
        "        self.cabeza = None\n",
        "\n",
        "    def agregar_termino(self, coeficiente, exponente):\n",
        "        nuevo = Termino(coeficiente, exponente)\n",
        "        if not self.cabeza:\n",
        "            self.cabeza = nuevo\n",
        "        else:\n",
        "            actual = self.cabeza\n",
        "            while actual.siguiente:\n",
        "                actual = actual.siguiente\n",
        "            actual.siguiente = nuevo\n",
        "            nuevo.anterior = actual\n",
        "\n",
        "    def sumar(self, otro):\n",
        "        resultado = Polinomio()\n",
        "        actual1 = self.cabeza\n",
        "        actual2 = otro.cabeza\n",
        "\n",
        "        while actual1 and actual2:\n",
        "            if actual1.exponente == actual2.exponente:\n",
        "                suma_coef = actual1.coeficiente + actual2.coeficiente\n",
        "                if suma_coef != 0:\n",
        "                    resultado.agregar_termino(suma_coef, actual1.exponente)\n",
        "                actual1 = actual1.siguiente\n",
        "                actual2 = actual2.siguiente\n",
        "            elif actual1.exponente > actual2.exponente:\n",
        "                resultado.agregar_termino(actual1.coeficiente, actual1.exponente)\n",
        "                actual1 = actual1.siguiente\n",
        "            else:\n",
        "                resultado.agregar_termino(actual2.coeficiente, actual2.exponente)\n",
        "                actual2 = actual2.siguiente\n",
        "\n",
        "        # Agregar términos restantes\n",
        "        while actual1:\n",
        "            resultado.agregar_termino(actual1.coeficiente, actual1.exponente)\n",
        "            actual1 = actual1.siguiente\n",
        "\n",
        "        while actual2:\n",
        "            resultado.agregar_termino(actual2.coeficiente, actual2.exponente)\n",
        "            actual2 = actual2.siguiente\n",
        "\n",
        "        return resultado\n",
        "\n",
        "    def imprimir(self):\n",
        "        actual = self.cabeza\n",
        "        while actual:\n",
        "            print(f\"{actual.coeficiente}x^{actual.exponente}\", end=\"\")\n",
        "            if actual.siguiente:\n",
        "                print(\" + \", end=\"\")\n",
        "            actual = actual.siguiente\n",
        "        print()\n",
        "\n",
        "# Prueba\n",
        "p1 = Polinomio()\n",
        "p1.agregar_termino(3, 2)\n",
        "p1.agregar_termino(2, 1)\n",
        "p1.agregar_termino(1, 0)\n",
        "\n",
        "p2 = Polinomio()\n",
        "p2.agregar_termino(2, 2)\n",
        "p2.agregar_termino(1, 1)\n",
        "\n",
        "resultado = p1.sumar(p2)\n",
        "resultado.imprimir()  # 5x^2 + 3x^1 + 1x^0"
      ]
    },
    {
      "cell_type": "markdown",
      "id": "a34bea4a",
      "metadata": {
        "id": "a34bea4a"
      },
      "source": [
        "### Ejercicio 43. Navegador web simple\n",
        "\n",
        "**Enunciado:** Simula las funciones adelante/atrás de un navegador web."
      ]
    },
    {
      "cell_type": "code",
      "execution_count": 55,
      "id": "7e69d09f",
      "metadata": {
        "colab": {
          "base_uri": "https://localhost:8080/"
        },
        "id": "7e69d09f",
        "outputId": "d0c2e820-73f8-4adf-8696-dfd0de4c4491"
      },
      "outputs": [
        {
          "output_type": "stream",
          "name": "stdout",
          "text": [
            "Visitando: google.com\n",
            "Visitando: facebook.com\n",
            "Yendo atrás a: google.com\n",
            "Yendo adelante a: facebook.com\n"
          ]
        }
      ],
      "source": [
        "# Ejercicio 43: Navegador web simple\n",
        "# Enunciado: Simula las funciones adelante/atrás de un navegador web.\n",
        "#\n",
        "# Implementación:\n",
        "\n",
        "class NavegadorWeb:\n",
        "    def __init__(self):\n",
        "        self.pagina_actual = None\n",
        "        self.historial_atras = []\n",
        "        self.historial_adelante = []\n",
        "\n",
        "    def visitar_pagina(self, url):\n",
        "        if self.pagina_actual:\n",
        "            self.historial_atras.append(self.pagina_actual)\n",
        "        self.pagina_actual = url\n",
        "        self.historial_adelante.clear()\n",
        "        print(f\"Visitando: {url}\")\n",
        "\n",
        "    def atras(self):\n",
        "        if self.historial_atras:\n",
        "            self.historial_adelante.append(self.pagina_actual)\n",
        "            self.pagina_actual = self.historial_atras.pop()\n",
        "            print(f\"Yendo atrás a: {self.pagina_actual}\")\n",
        "        else:\n",
        "            print(\"No hay páginas anteriores\")\n",
        "\n",
        "    def adelante(self):\n",
        "        if self.historial_adelante:\n",
        "            self.historial_atras.append(self.pagina_actual)\n",
        "            self.pagina_actual = self.historial_adelante.pop()\n",
        "            print(f\"Yendo adelante a: {self.pagina_actual}\")\n",
        "        else:\n",
        "            print(\"No hay páginas siguientes\")\n",
        "\n",
        "    def pagina_actual(self):\n",
        "        return self.pagina_actual\n",
        "\n",
        "# Prueba\n",
        "navegador = NavegadorWeb()\n",
        "navegador.visitar_pagina(\"google.com\")\n",
        "navegador.visitar_pagina(\"facebook.com\")\n",
        "navegador.atras()\n",
        "navegador.adelante()"
      ]
    },
    {
      "cell_type": "markdown",
      "id": "927ea390",
      "metadata": {
        "id": "927ea390"
      },
      "source": [
        "### Ejercicio 44. Playlist de música\n",
        "\n",
        "**Enunciado:** Implementa una playlist con funciones de next, previous, add, remove."
      ]
    },
    {
      "cell_type": "code",
      "execution_count": 56,
      "id": "e87844d4",
      "metadata": {
        "colab": {
          "base_uri": "https://localhost:8080/"
        },
        "id": "e87844d4",
        "outputId": "50655612-ccbe-47c8-986b-36bac9ed2708"
      },
      "outputs": [
        {
          "output_type": "stream",
          "name": "stdout",
          "text": [
            "Reproduciendo: Song2 - Artist2\n",
            "Song1 - Artist1\n",
            "Song2 - Artist2 [ACTUAL]\n",
            "Song3 - Artist3\n"
          ]
        }
      ],
      "source": [
        "# Ejercicio 44: Playlist de música\n",
        "# Enunciado: Implementa una playlist con funciones de next, previous, add, remove.\n",
        "#\n",
        "# Implementación:\n",
        "\n",
        "class Cancion:\n",
        "    def __init__(self, titulo, artista):\n",
        "        self.titulo = titulo\n",
        "        self.artista = artista\n",
        "        self.siguiente = None\n",
        "        self.anterior = None\n",
        "\n",
        "class Playlist:\n",
        "    def __init__(self):\n",
        "        self.cabeza = None\n",
        "        self.cola = None\n",
        "        self.actual = None\n",
        "\n",
        "    def agregar_cancion(self, titulo, artista):\n",
        "        nueva = Cancion(titulo, artista)\n",
        "        if not self.cabeza:\n",
        "            self.cabeza = nueva\n",
        "            self.cola = nueva\n",
        "            self.actual = nueva\n",
        "        else:\n",
        "            self.cola.siguiente = nueva\n",
        "            nueva.anterior = self.cola\n",
        "            self.cola = nueva\n",
        "\n",
        "    def reproducir_siguiente(self):\n",
        "        if self.actual and self.actual.siguiente:\n",
        "            self.actual = self.actual.siguiente\n",
        "            print(f\"Reproduciendo: {self.actual.titulo} - {self.actual.artista}\")\n",
        "        else:\n",
        "            print(\"No hay siguiente canción\")\n",
        "\n",
        "    def reproducir_anterior(self):\n",
        "        if self.actual and self.actual.anterior:\n",
        "            self.actual = self.actual.anterior\n",
        "            print(f\"Reproduciendo: {self.actual.titulo} - {self.actual.artista}\")\n",
        "        else:\n",
        "            print(\"No hay canción anterior\")\n",
        "\n",
        "    def eliminar_cancion_actual(self):\n",
        "        if not self.actual:\n",
        "            return\n",
        "\n",
        "        if self.actual.anterior:\n",
        "            self.actual.anterior.siguiente = self.actual.siguiente\n",
        "        else:\n",
        "            self.cabeza = self.actual.siguiente\n",
        "\n",
        "        if self.actual.siguiente:\n",
        "            self.actual.siguiente.anterior = self.actual.anterior\n",
        "        else:\n",
        "            self.cola = self.actual.anterior\n",
        "\n",
        "        siguiente = self.actual.siguiente if self.actual.siguiente else self.cabeza\n",
        "        self.actual = siguiente\n",
        "\n",
        "    def mostrar_playlist(self):\n",
        "        actual = self.cabeza\n",
        "        while actual:\n",
        "            marcador = \" [ACTUAL]\" if actual == self.actual else \"\"\n",
        "            print(f\"{actual.titulo} - {actual.artista}{marcador}\")\n",
        "            actual = actual.siguiente\n",
        "\n",
        "# Prueba\n",
        "playlist = Playlist()\n",
        "playlist.agregar_cancion(\"Song1\", \"Artist1\")\n",
        "playlist.agregar_cancion(\"Song2\", \"Artist2\")\n",
        "playlist.agregar_cancion(\"Song3\", \"Artist3\")\n",
        "playlist.reproducir_siguiente()\n",
        "playlist.mostrar_playlist()"
      ]
    },
    {
      "cell_type": "markdown",
      "id": "ebbf2f71",
      "metadata": {
        "id": "ebbf2f71"
      },
      "source": [
        "### Ejercicio 45. Texto editor con undo\n",
        "\n",
        "**Enunciado:** Implementa un editor de texto simple con función deshacer."
      ]
    },
    {
      "cell_type": "code",
      "execution_count": 58,
      "id": "3f483c6f",
      "metadata": {
        "colab": {
          "base_uri": "https://localhost:8080/"
        },
        "id": "3f483c6f",
        "outputId": "07f97b61-839e-4456-d505-0e02ba05d0d4"
      },
      "outputs": [
        {
          "output_type": "stream",
          "name": "stdout",
          "text": [
            "Hola Mundo\n",
            "Hola \n"
          ]
        }
      ],
      "source": [
        "# Ejercicio 45: Texto editor con undo\n",
        "# Enunciado: Implementa un editor de texto simple con función deshacer.\n",
        "#\n",
        "# Implementación:\n",
        "\n",
        "class EstadoTexto:\n",
        "    def __init__(self, texto):\n",
        "        self.texto = texto\n",
        "        self.siguiente = None\n",
        "        self.anterior = None\n",
        "\n",
        "class EditorTexto:\n",
        "    def __init__(self):\n",
        "        self.estado_actual = EstadoTexto(\"\")\n",
        "        self.max_historial = 10\n",
        "        self.contador_estados = 1\n",
        "\n",
        "    def escribir(self, texto):\n",
        "        # Crear nuevo estado\n",
        "        nuevo_estado = EstadoTexto(self.estado_actual.texto + texto)\n",
        "        nuevo_estado.anterior = self.estado_actual\n",
        "        self.estado_actual.siguiente = nuevo_estado\n",
        "        self.estado_actual = nuevo_estado\n",
        "\n",
        "        # Limitar historial\n",
        "        self.contador_estados += 1\n",
        "        if self.contador_estados > self.max_historial:\n",
        "            # Eliminar el estado más antiguo\n",
        "            viejo = self.estado_actual\n",
        "            for _ in range(self.max_historial):\n",
        "                viejo = viejo.anterior\n",
        "            viejo.anterior = None\n",
        "\n",
        "    def deshacer(self):\n",
        "        if self.estado_actual.anterior:\n",
        "            self.estado_actual = self.estado_actual.anterior\n",
        "            return True\n",
        "        return False\n",
        "\n",
        "    def rehacer(self):\n",
        "        if self.estado_actual.siguiente:\n",
        "            self.estado_actual = self.estado_actual.siguiente\n",
        "            return True\n",
        "        return False\n",
        "\n",
        "    def obtener_texto(self):\n",
        "        return self.estado_actual.texto\n",
        "\n",
        "# Prueba\n",
        "editor = EditorTexto()\n",
        "editor.escribir(\"Hola \")\n",
        "editor.escribir(\"Mundo\")\n",
        "print(editor.obtener_texto())  # Hola Mundo\n",
        "editor.deshacer()\n",
        "print(editor.obtener_texto())  # Hola"
      ]
    },
    {
      "cell_type": "markdown",
      "id": "ecd01af1",
      "metadata": {
        "id": "ecd01af1"
      },
      "source": [
        "### Ejercicio 46. Problema de Josephus\n",
        "\n",
        "**Enunciado:** Resuelve el problema de Josephus usando lista circular."
      ]
    },
    {
      "cell_type": "code",
      "execution_count": 59,
      "id": "09305aca",
      "metadata": {
        "colab": {
          "base_uri": "https://localhost:8080/"
        },
        "id": "09305aca",
        "outputId": "bc7265ad-1212-4b5b-ef0b-d09ddb3e3077"
      },
      "outputs": [
        {
          "output_type": "stream",
          "name": "stdout",
          "text": [
            "3\n"
          ]
        }
      ],
      "source": [
        "# Ejercicio 46: Problema de Josephus\n",
        "# Enunciado: Resuelve el problema de Josephus usando lista circular.\n",
        "#\n",
        "# Implementación:\n",
        "\n",
        "class NodoCircular:\n",
        "    def __init__(self, valor):\n",
        "        self.valor = valor\n",
        "        self.siguiente = None\n",
        "\n",
        "def problema_josephus(n, k):\n",
        "    if n == 1:\n",
        "        return 1\n",
        "\n",
        "    # Crear lista circular\n",
        "    cabeza = NodoCircular(1)\n",
        "    actual = cabeza\n",
        "    for i in range(2, n + 1):\n",
        "        actual.siguiente = NodoCircular(i)\n",
        "        actual = actual.siguiente\n",
        "    actual.siguiente = cabeza  # Hacer circular\n",
        "\n",
        "    # Encontrar posición segura\n",
        "    actual = cabeza\n",
        "    while actual.siguiente != actual:\n",
        "        # Saltar k-1 personas\n",
        "        for _ in range(k - 2):\n",
        "            actual = actual.siguiente\n",
        "\n",
        "        # Eliminar siguiente persona\n",
        "        actual.siguiente = actual.siguiente.siguiente\n",
        "        actual = actual.siguiente\n",
        "\n",
        "    return actual.valor\n",
        "\n",
        "# Prueba\n",
        "print(problema_josephus(5, 2))  # 3"
      ]
    },
    {
      "cell_type": "markdown",
      "id": "5ec9e4f7",
      "metadata": {
        "id": "5ec9e4f7"
      },
      "source": [
        "### Ejercicio 47. Lista circular ordenada\n",
        "\n",
        "**Enunciado:** Inserta elementos en una lista circular manteniéndola ordenada."
      ]
    },
    {
      "cell_type": "code",
      "execution_count": 60,
      "id": "7cf851dd",
      "metadata": {
        "colab": {
          "base_uri": "https://localhost:8080/"
        },
        "id": "7cf851dd",
        "outputId": "e7113f12-75af-466c-c150-fff1f665eee8"
      },
      "outputs": [
        {
          "output_type": "stream",
          "name": "stdout",
          "text": [
            "1 -> 2 -> 3 -> (cabeza)\n"
          ]
        }
      ],
      "source": [
        "# Ejercicio 47: Lista circular ordenada\n",
        "# Enunciado: Inserta elementos en una lista circular manteniéndola ordenada.\n",
        "#\n",
        "# Implementación:\n",
        "\n",
        "class ListaCircularOrdenada:\n",
        "    def __init__(self):\n",
        "        self.cabeza = None\n",
        "\n",
        "    def insertar_ordenado(self, valor):\n",
        "        nuevo = NodoCircular(valor)\n",
        "\n",
        "        # Caso 1: Lista vacía\n",
        "        if not self.cabeza:\n",
        "            self.cabeza = nuevo\n",
        "            nuevo.siguiente = nuevo\n",
        "            return\n",
        "\n",
        "        # Caso 2: Insertar antes de la cabeza\n",
        "        if valor < self.cabeza.valor:\n",
        "            # Encontrar cola\n",
        "            cola = self.cabeza\n",
        "            while cola.siguiente != self.cabeza:\n",
        "                cola = cola.siguiente\n",
        "\n",
        "            nuevo.siguiente = self.cabeza\n",
        "            cola.siguiente = nuevo\n",
        "            self.cabeza = nuevo\n",
        "            return\n",
        "\n",
        "        # Caso 3: Insertar en medio o al final\n",
        "        actual = self.cabeza\n",
        "        while actual.siguiente != self.cabeza and actual.siguiente.valor < valor:\n",
        "            actual = actual.siguiente\n",
        "\n",
        "        nuevo.siguiente = actual.siguiente\n",
        "        actual.siguiente = nuevo\n",
        "\n",
        "    def imprimir(self):\n",
        "        if not self.cabeza:\n",
        "            return\n",
        "\n",
        "        actual = self.cabeza\n",
        "        while True:\n",
        "            print(actual.valor, end=\" -> \")\n",
        "            actual = actual.siguiente\n",
        "            if actual == self.cabeza:\n",
        "                break\n",
        "        print(\"(cabeza)\")\n",
        "\n",
        "# Prueba\n",
        "lista = ListaCircularOrdenada()\n",
        "lista.insertar_ordenado(3)\n",
        "lista.insertar_ordenado(1)\n",
        "lista.insertar_ordenado(2)\n",
        "lista.imprimir()  # 1 -> 2 -> 3 -> (cabeza)"
      ]
    },
    {
      "cell_type": "markdown",
      "id": "6680357c",
      "metadata": {
        "id": "6680357c"
      },
      "source": [
        "### Ejercicio 48. Dividir lista circular\n",
        "\n",
        "**Enunciado:** Divide una lista circular en dos mitades iguales."
      ]
    },
    {
      "cell_type": "code",
      "execution_count": 61,
      "id": "56bebedb",
      "metadata": {
        "colab": {
          "base_uri": "https://localhost:8080/"
        },
        "id": "56bebedb",
        "outputId": "fad9e300-a9e5-44d2-f38f-6f4d6f5f242d"
      },
      "outputs": [
        {
          "output_type": "stream",
          "name": "stdout",
          "text": [
            "1 -> 2 -> 3 -> (cabeza)\n",
            "4 -> 5 -> (cabeza)\n"
          ]
        }
      ],
      "source": [
        "# Ejercicio 48: Dividir lista circular\n",
        "# Enunciado: Divide una lista circular en dos mitades iguales.\n",
        "#\n",
        "# Implementación:\n",
        "\n",
        "def dividir_lista_circular(lista):\n",
        "    if not lista.cabeza or lista.cabeza.siguiente == lista.cabeza:\n",
        "        return lista, None\n",
        "\n",
        "    # Encontrar punto medio con técnica de tortuga y liebre\n",
        "    tortuga = lista.cabeza\n",
        "    liebre = lista.cabeza\n",
        "\n",
        "    while liebre.siguiente != lista.cabeza and liebre.siguiente.siguiente != lista.cabeza:\n",
        "        tortuga = tortuga.siguiente\n",
        "        liebre = liebre.siguiente.siguiente\n",
        "\n",
        "    # Crear segunda lista\n",
        "    cabeza2 = tortuga.siguiente\n",
        "    tortuga.siguiente = lista.cabeza\n",
        "\n",
        "    # Hacer circular la segunda lista\n",
        "    actual = cabeza2\n",
        "    while actual.siguiente != lista.cabeza:\n",
        "        actual = actual.siguiente\n",
        "    actual.siguiente = cabeza2\n",
        "\n",
        "    # Crear nueva lista para la segunda mitad\n",
        "    lista2 = ListaCircularOrdenada()\n",
        "    lista2.cabeza = cabeza2\n",
        "\n",
        "    return lista, lista2\n",
        "\n",
        "# Prueba\n",
        "lista = ListaCircularOrdenada()\n",
        "for i in range(1, 6):\n",
        "    lista.insertar_ordenado(i)\n",
        "lista1, lista2 = dividir_lista_circular(lista)\n",
        "lista1.imprimir()\n",
        "lista2.imprimir()"
      ]
    },
    {
      "cell_type": "markdown",
      "id": "1c44e2f2",
      "metadata": {
        "id": "1c44e2f2"
      },
      "source": [
        "### Ejercicio 49. Verificar lista circular\n",
        "\n",
        "**Enunciado:** Verifica si una lista enlazada es circular."
      ]
    },
    {
      "cell_type": "code",
      "execution_count": 62,
      "id": "e7804503",
      "metadata": {
        "colab": {
          "base_uri": "https://localhost:8080/"
        },
        "id": "e7804503",
        "outputId": "2badc338-893a-4c18-fb3d-d637a8bb22e2"
      },
      "outputs": [
        {
          "output_type": "stream",
          "name": "stdout",
          "text": [
            "True\n"
          ]
        }
      ],
      "source": [
        "# Ejercicio 49: Verificar lista circular\n",
        "# Enunciado: Verifica si una lista enlazada es circular.\n",
        "#\n",
        "# Implementación:\n",
        "\n",
        "def es_lista_circular(lista):\n",
        "    if not lista.cabeza:\n",
        "        return False\n",
        "\n",
        "    tortuga = lista.cabeza\n",
        "    liebre = lista.cabeza\n",
        "\n",
        "    while liebre and liebre.siguiente:\n",
        "        tortuga = tortuga.siguiente\n",
        "        liebre = liebre.siguiente.siguiente\n",
        "\n",
        "        if tortuga == liebre:\n",
        "            return True\n",
        "\n",
        "    return False\n",
        "\n",
        "# Prueba\n",
        "lista_circular = ListaCircularOrdenada()\n",
        "lista_circular.insertar_ordenado(1)\n",
        "lista_circular.insertar_ordenado(2)\n",
        "print(es_lista_circular(lista_circular))  # True"
      ]
    },
    {
      "cell_type": "markdown",
      "id": "4f97bb4b",
      "metadata": {
        "id": "4f97bb4b"
      },
      "source": [
        "### Ejercicio 50. Rotar lista circular\n",
        "\n",
        "**Enunciado:** Rota una lista circular k posiciones."
      ]
    },
    {
      "cell_type": "code",
      "execution_count": 63,
      "id": "32459609",
      "metadata": {
        "colab": {
          "base_uri": "https://localhost:8080/"
        },
        "id": "32459609",
        "outputId": "aafce044-f7c5-4733-c453-3b902a05c205"
      },
      "outputs": [
        {
          "output_type": "stream",
          "name": "stdout",
          "text": [
            "4 -> 5 -> 1 -> 2 -> 3 -> (cabeza)\n"
          ]
        }
      ],
      "source": [
        "# Ejercicio 50: Rotar lista circular\n",
        "# Enunciado: Rota una lista circular k posiciones.\n",
        "#\n",
        "# Implementación:\n",
        "\n",
        "def rotar_lista_circular(lista, k):\n",
        "    if not lista.cabeza or k == 0:\n",
        "        return\n",
        "\n",
        "    # Encontrar longitud\n",
        "    longitud = 1\n",
        "    actual = lista.cabeza\n",
        "    while actual.siguiente != lista.cabeza:\n",
        "        longitud += 1\n",
        "        actual = actual.siguiente\n",
        "\n",
        "    k = k % longitud\n",
        "    if k == 0:\n",
        "        return\n",
        "\n",
        "    # Encontrar nueva cabeza\n",
        "    actual = lista.cabeza\n",
        "    for _ in range(longitud - k - 1):\n",
        "        actual = actual.siguiente\n",
        "\n",
        "    lista.cabeza = actual.siguiente\n",
        "\n",
        "# Prueba\n",
        "lista = ListaCircularOrdenada()\n",
        "for i in range(1, 6):\n",
        "    lista.insertar_ordenado(i)\n",
        "rotar_lista_circular(lista, 2)\n",
        "lista.imprimir()"
      ]
    }
  ],
  "metadata": {
    "colab": {
      "provenance": []
    },
    "language_info": {
      "name": "python"
    },
    "kernelspec": {
      "name": "python3",
      "display_name": "Python 3"
    }
  },
  "nbformat": 4,
  "nbformat_minor": 5
}