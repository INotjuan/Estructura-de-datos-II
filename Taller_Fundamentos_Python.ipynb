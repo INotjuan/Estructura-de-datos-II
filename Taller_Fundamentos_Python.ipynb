{
  "nbformat": 4,
  "nbformat_minor": 0,
  "metadata": {
    "colab": {
      "provenance": []
    },
    "kernelspec": {
      "name": "python3",
      "display_name": "Python 3"
    },
    "language_info": {
      "name": "python"
    }
  },
  "cells": [
    {
      "cell_type": "code",
      "source": [
        "#1\n",
        "#Imprimir Hello Word\n",
        "print(\"hola mundo\")"
      ],
      "metadata": {
        "colab": {
          "base_uri": "https://localhost:8080/"
        },
        "id": "nKFEjnBYApp4",
        "outputId": "f8543cdb-f534-428f-f699-d94fd2f1da90"
      },
      "execution_count": 4,
      "outputs": [
        {
          "output_type": "stream",
          "name": "stdout",
          "text": [
            "hola mundo\n"
          ]
        }
      ]
    },
    {
      "cell_type": "code",
      "execution_count": 3,
      "metadata": {
        "colab": {
          "base_uri": "https://localhost:8080/"
        },
        "id": "nmcrMV4G-n5P",
        "outputId": "84962d78-c1d1-4a93-8ee0-92ea236b6518"
      },
      "outputs": [
        {
          "output_type": "stream",
          "name": "stdout",
          "text": [
            "Nombre del usuario: \n",
            "Nombre: juan\n",
            "hola juan\n"
          ]
        }
      ],
      "source": [
        "#2\n",
        "#Digitar Nombre de usuario\n",
        "print(\"Nombre del usuario: \")\n",
        "\n",
        "#Guardad nombhre en Variable\n",
        "nombre = input(\"Nombre: \")\n",
        "\n",
        "#imprimir Resultado\n",
        "print(\"hola\", nombre)"
      ]
    },
    {
      "cell_type": "code",
      "source": [
        "#3\n",
        "#Solicitar Numeros al Usuario\n",
        "print(\"Digite numero 1\")\n",
        "num1 = input(\"Numero 1: \")\n",
        "print(\"Digite numero 2\")\n",
        "num2 = input(\"Numero 2: \")\n",
        "\n",
        "#Operaciones Aritmeticas\n",
        "suma = int(num1) + int(num2)\n",
        "resta = int(num1) - int(num2)\n",
        "multiplicacion = int(num1) * int(num2)\n",
        "division = int(num1) / int(num2)\n",
        "\n",
        "#imprimir Resultado\n",
        "print(\"-----------Resultado----------\")\n",
        "print(\"La suma es: \", suma)\n",
        "print(\"La resta es: \", resta)\n",
        "print(\"La multiplicacion es\", multiplicacion)\n",
        "print(\"La division es: \", division)"
      ],
      "metadata": {
        "colab": {
          "base_uri": "https://localhost:8080/"
        },
        "id": "SwB5lCQFAzbO",
        "outputId": "597f9de3-e1c5-4646-af06-4996b0cb8e94"
      },
      "execution_count": 8,
      "outputs": [
        {
          "output_type": "stream",
          "name": "stdout",
          "text": [
            "Digite numero 1\n",
            "Numero 1: 2\n",
            "Digite numero 2\n",
            "Numero 2: 3\n",
            "-----------Resultado----------\n",
            "La suma es:  5\n",
            "La resta es:  -1\n",
            "La multiplicacion es 6\n",
            "La division es:  0.6666666666666666\n"
          ]
        }
      ]
    },
    {
      "cell_type": "code",
      "source": [
        "#4\n",
        "#solicitar Datos y Guardar en Variables\n",
        "print(\"Numero de Horas: \")\n",
        "horas = input(\"Horas: \")\n",
        "print(\"Digite pago por hora: \")\n",
        "pago = input(\"Pago: \")\n",
        "\n",
        "#Operacion\n",
        "pago_total = int(horas) * int(pago)\n",
        "\n",
        "#Imprimir Resultado\n",
        "print(\"El pago total es: \", pago_total)"
      ],
      "metadata": {
        "colab": {
          "base_uri": "https://localhost:8080/"
        },
        "id": "agLc3mCLBehh",
        "outputId": "53579822-f751-4c64-8902-5e113cfaf011"
      },
      "execution_count": 9,
      "outputs": [
        {
          "output_type": "stream",
          "name": "stdout",
          "text": [
            "Numero de Horas: \n",
            "Horas: 10\n",
            "Digite pago por hora: \n",
            "Pago: 50000\n",
            "El pago total es:  500000\n"
          ]
        }
      ]
    },
    {
      "cell_type": "code",
      "source": [
        "#5\n",
        "#Solicitar Datos al Usuario\n",
        "n = int(input(\"Introduce un número entero positivo: \"))\n",
        "\n",
        "#condicional If y Resultado\n",
        "if n > 0:\n",
        "    #Operacion\n",
        "    suma = n * (n + 1) // 2\n",
        "    print(\"La suma de los enteros desde 1 hasta {n} es: {suma}\")\n",
        "else:\n",
        "    print(\"Por favor, introduce un número entero positivo.\")"
      ],
      "metadata": {
        "colab": {
          "base_uri": "https://localhost:8080/"
        },
        "id": "mHwvIXkACHq_",
        "outputId": "52884a8b-1e14-4454-f089-0d2e10fa5fb1"
      },
      "execution_count": 10,
      "outputs": [
        {
          "output_type": "stream",
          "name": "stdout",
          "text": [
            "Introduce un número entero positivo: 5\n",
            "La suma de los enteros desde 1 hasta 5 es: 15\n"
          ]
        }
      ]
    },
    {
      "cell_type": "code",
      "source": [
        "#6\n",
        "#Solicitar Datos y Guardar En Variable\n",
        "print(\"Ingrese su peso en Kg: \")\n",
        "peso = input(\"Peso: \")\n",
        "print(\"Ingrese su altura en metros: \")\n",
        "altura = input(\"Altura:\")\n",
        "\n",
        "#Operacion\n",
        "imc = round(float(peso)/float(altura)**2,2)\n",
        "\n",
        "#Mostrar resultado\n",
        "print(\"-----Resultado-----\")\n",
        "print(\"Su indice de masa corporal es: \" + str(imc))"
      ],
      "metadata": {
        "colab": {
          "base_uri": "https://localhost:8080/"
        },
        "id": "Lm0a1JTGC8Vn",
        "outputId": "4132cb21-6da5-4ff7-dead-91c0254d86e0"
      },
      "execution_count": 12,
      "outputs": [
        {
          "output_type": "stream",
          "name": "stdout",
          "text": [
            "Ingrese su peso en Kg: \n",
            "Peso: 60\n",
            "Ingrese su altura en metros: \n",
            "Altura:1.70\n",
            "-----Resultado-----\n",
            "Su indice de masa corporal es: 20.76\n"
          ]
        }
      ]
    },
    {
      "cell_type": "code",
      "source": [
        "#7\n",
        "#solicitud de Datos\n",
        "print(\"Digite N: \")\n",
        "n = int(input(\"N:\"))\n",
        "print(\"Digite M: \")\n",
        "m = int(input(\"M:\"))\n",
        "\n",
        "#Operacion\n",
        "c = (n)//(m)\n",
        "r = (n)%(m)\n",
        "\n",
        "#Imprimir Resultado\n",
        "print(\"----------Resultado-----------\")\n",
        "print(\"La division es de: \")\n",
        "print(\"Cociente: \", c)\n",
        "print(\"Residuo: \",r)\n"
      ],
      "metadata": {
        "colab": {
          "base_uri": "https://localhost:8080/"
        },
        "id": "g72KRON-Ds22",
        "outputId": "5ece7388-cf9e-4c2a-ff05-937e1a4c84e5"
      },
      "execution_count": 18,
      "outputs": [
        {
          "output_type": "stream",
          "name": "stdout",
          "text": [
            "Digite N: \n",
            "N:4\n",
            "Digite M: \n",
            "M:3\n",
            "----------Resultado-----------\n",
            "La division es de: \n",
            "Cociente:  1\n",
            "Residuo:  1\n"
          ]
        }
      ]
    },
    {
      "cell_type": "code",
      "source": [
        "#8\n",
        "#Solicitar Datos y Guardar en Variable\n",
        "print(\"Digite la cantidad de dinero que invertira: \")\n",
        "dinero = int(input(\"Dinero: \"))\n",
        "print(\"Digite el interes anual: \")\n",
        "interes = int(input(\"Interes: \"))\n",
        "print(\"Digite el numero de años de inversion: \")\n",
        "años = int(input(\"Años: \"))\n",
        "\n",
        "#Operacion\n",
        "monto_final = dinero * (interes / 100 + 1) ** años\n",
        "\n",
        "#Mostrar Resultado\n",
        "print(\"El monto final es: \", monto_final)"
      ],
      "metadata": {
        "colab": {
          "base_uri": "https://localhost:8080/"
        },
        "id": "N3PPeuweGOnP",
        "outputId": "827ccee5-24be-4e43-c635-f003ed842ebb"
      },
      "execution_count": 19,
      "outputs": [
        {
          "output_type": "stream",
          "name": "stdout",
          "text": [
            "Digite la cantidad de dinero que invertira: \n",
            "Dinero: 100000\n",
            "Digite el interes anual: \n",
            "Interes: 8\n",
            "Digite el numero de años de inversion: \n",
            "Años: 2\n",
            "El monto final es:  116640.00000000001\n"
          ]
        }
      ]
    },
    {
      "cell_type": "code",
      "source": [
        "#9\n",
        "# Entrada de datos\n",
        "print(\"Ingrese el número de payasos vendidos: \")\n",
        "num_payasos = int(input(\"Payasos: \"))\n",
        "print(\"Ingrese el número de muñecas vendidas: \")\n",
        "num_munecas = int(input(\"Muñecas: \"))\n",
        "\n",
        "# Pesos en gramos\n",
        "peso_payaso = 112\n",
        "peso_muneca = 75\n",
        "\n",
        "# Cálculo del peso total\n",
        "peso_total = (num_payasos * peso_payaso) + (num_munecas * peso_muneca)\n",
        "\n",
        "# Salida de resultados\n",
        "print(\"El peso total del paquete es:\", peso_total, \"gramos\")"
      ],
      "metadata": {
        "colab": {
          "base_uri": "https://localhost:8080/"
        },
        "id": "NCuAU-_QHy9i",
        "outputId": "03028da3-7a1a-4815-b831-feaec627db3b"
      },
      "execution_count": 20,
      "outputs": [
        {
          "output_type": "stream",
          "name": "stdout",
          "text": [
            "Ingrese el número de payasos vendidos: \n",
            "Payasos: 12\n",
            "Ingrese el número de muñecas vendidas: \n",
            "Muñecas: 15\n",
            "El peso total del paquete es: 2469 gramos\n"
          ]
        }
      ]
    },
    {
      "cell_type": "code",
      "source": [
        "#10\n",
        "# Entrada de datos\n",
        "print(\"Ingrese la cantidad de dinero depositada en la cuenta de ahorros: \")\n",
        "deposito = float(input(\"Depósito inicial: \"))\n",
        "\n",
        "# Tasa de interés anual\n",
        "interes = 0.04\n",
        "\n",
        "# Cálculo de los ahorros al cabo de 1, 2 y 3 años\n",
        "ahorro_1 = deposito * (1 + interes)\n",
        "ahorro_2 = ahorro_1 * (1 + interes)\n",
        "ahorro_3 = ahorro_2 * (1 + interes)\n",
        "\n",
        "# Salida de resultados (redondeados a 2 decimales)\n",
        "print(\"Cantidad tras el primer año:\", round(ahorro_1, 2))\n",
        "print(\"Cantidad tras el segundo año:\", round(ahorro_2, 2))\n",
        "print(\"Cantidad tras el tercer año:\", round(ahorro_3, 2))"
      ],
      "metadata": {
        "colab": {
          "base_uri": "https://localhost:8080/"
        },
        "id": "1_djf2HMIymP",
        "outputId": "c9545ac1-0b3e-4bb0-f6d2-a9567f273477"
      },
      "execution_count": 21,
      "outputs": [
        {
          "output_type": "stream",
          "name": "stdout",
          "text": [
            "Ingrese la cantidad de dinero depositada en la cuenta de ahorros: \n",
            "Depósito inicial: 100000\n",
            "Cantidad tras el primer año: 104000.0\n",
            "Cantidad tras el segundo año: 108160.0\n",
            "Cantidad tras el tercer año: 112486.4\n"
          ]
        }
      ]
    },
    {
      "cell_type": "code",
      "source": [
        "#11\n",
        "# Entrada de datos\n",
        "print(\"Ingrese el número de barras vendidas que no son del día: \")\n",
        "barras_no_dia = int(input(\"Barras no frescas: \"))\n",
        "\n",
        "# Precio y descuento\n",
        "precio_barra = 4000\n",
        "descuento = 0.60\n",
        "\n",
        "# Cálculos\n",
        "precio_habitual = precio_barra\n",
        "descuento_barra = precio_barra * descuento\n",
        "precio_final_barra = precio_barra - descuento_barra\n",
        "coste_total = barras_no_dia * precio_final_barra\n",
        "\n",
        "# Salida de resultados\n",
        "print(\"Precio habitual de una barra de pan: $\", precio_habitual)\n",
        "print(\"Descuento por no ser fresca: $\", descuento_barra)\n",
        "print(\"Coste final total: $\", coste_total)"
      ],
      "metadata": {
        "colab": {
          "base_uri": "https://localhost:8080/"
        },
        "id": "JEOLmnjeI09f",
        "outputId": "ebf81eee-b8ae-4941-d379-08d3c2f21c2a"
      },
      "execution_count": 22,
      "outputs": [
        {
          "output_type": "stream",
          "name": "stdout",
          "text": [
            "Ingrese el número de barras vendidas que no son del día: \n",
            "Barras no frescas: 30\n",
            "Precio habitual de una barra de pan: $ 4000\n",
            "Descuento por no ser fresca: $ 2400.0\n",
            "Coste final total: $ 48000.0\n"
          ]
        }
      ]
    },
    {
      "cell_type": "code",
      "source": [
        "#12\n",
        "# Entrada de datos\n",
        "print(\"Ingrese cuántas palabras desea guardar en la lista: \")\n",
        "cantidad = int(input(\"Cantidad: \"))\n",
        "\n",
        "# Crear la lista\n",
        "lista_palabras = []\n",
        "\n",
        "for i in range(cantidad):\n",
        "    print(\"Ingrese una palabra: \")\n",
        "    palabra = input(\"Palabra: \")\n",
        "    lista_palabras.append(palabra)\n",
        "\n",
        "# Salida de resultados\n",
        "print(\"La lista de palabras es:\", lista_palabras)"
      ],
      "metadata": {
        "colab": {
          "base_uri": "https://localhost:8080/"
        },
        "id": "v_lrdHYOI6Um",
        "outputId": "b81f9c79-66b1-4a86-9fd2-aa43ab912198"
      },
      "execution_count": 23,
      "outputs": [
        {
          "output_type": "stream",
          "name": "stdout",
          "text": [
            "Ingrese cuántas palabras desea guardar en la lista: \n",
            "Cantidad: 3\n",
            "Ingrese una palabra: \n",
            "Palabra: hola\n",
            "Ingrese una palabra: \n",
            "Palabra: si\n",
            "Ingrese una palabra: \n",
            "Palabra: mundo\n",
            "La lista de palabras es: ['hola', 'si', 'mundo']\n"
          ]
        }
      ]
    },
    {
      "cell_type": "code",
      "source": [
        "#13\n",
        "# Entrada de datos\n",
        "print(\"Ingrese cuántas palabras desea guardar en la lista: \")\n",
        "cantidad = int(input(\"Cantidad: \"))\n",
        "\n",
        "# Crear la lista\n",
        "lista_palabras = []\n",
        "\n",
        "for i in range(cantidad):\n",
        "    print(\"Ingrese una palabra: \")\n",
        "    palabra = input(\"Palabra: \")\n",
        "    lista_palabras.append(palabra)\n",
        "\n",
        "# Pedir palabra a buscar\n",
        "print(\"Ingrese la palabra que desea buscar en la lista: \")\n",
        "buscar = input(\"Palabra a buscar: \")\n",
        "\n",
        "# Contar cuántas veces aparece\n",
        "veces = lista_palabras.count(buscar)\n",
        "\n",
        "# Salida de resultados\n",
        "print(\"La lista de palabras es:\", lista_palabras)\n",
        "print(\"La palabra\", buscar, \"aparece\", veces, \"veces en la lista.\")"
      ],
      "metadata": {
        "colab": {
          "base_uri": "https://localhost:8080/"
        },
        "id": "wtx7jSLtI_9v",
        "outputId": "44316e70-e424-47e1-ea6e-13b147c2844f"
      },
      "execution_count": 24,
      "outputs": [
        {
          "output_type": "stream",
          "name": "stdout",
          "text": [
            "Ingrese cuántas palabras desea guardar en la lista: \n",
            "Cantidad: 2\n",
            "Ingrese una palabra: \n",
            "Palabra: hola\n",
            "Ingrese una palabra: \n",
            "Palabra: mundo\n",
            "Ingrese la palabra que desea buscar en la lista: \n",
            "Palabra a buscar: mundo\n",
            "La lista de palabras es: ['hola', 'mundo']\n",
            "La palabra mundo aparece 1 veces en la lista.\n"
          ]
        }
      ]
    },
    {
      "cell_type": "code",
      "source": [
        "#14\n",
        "# Entrada de datos\n",
        "print(\"Ingrese cuántas palabras desea guardar en la lista: \")\n",
        "cantidad = int(input(\"Cantidad: \"))\n",
        "\n",
        "# Crear la lista\n",
        "lista_palabras = []\n",
        "\n",
        "for i in range(cantidad):\n",
        "    print(\"Ingrese una palabra: \")\n",
        "    palabra = input(\"Palabra: \")\n",
        "    lista_palabras.append(palabra)\n",
        "\n",
        "# Pedir palabras para sustitución\n",
        "print(\"Ingrese la palabra que desea reemplazar: \")\n",
        "palabra_antigua = input(\"Palabra a reemplazar: \")\n",
        "\n",
        "print(\"Ingrese la nueva palabra: \")\n",
        "palabra_nueva = input(\"Nueva palabra: \")\n",
        "\n",
        "# Sustituir en la lista\n",
        "for i in range(len(lista_palabras)):\n",
        "    if lista_palabras[i] == palabra_antigua:\n",
        "        lista_palabras[i] = palabra_nueva\n",
        "\n",
        "# Salida de resultados\n",
        "print(\"La nueva lista es:\", lista_palabras)"
      ],
      "metadata": {
        "colab": {
          "base_uri": "https://localhost:8080/"
        },
        "id": "7pxfiwXHJHGQ",
        "outputId": "8229ad50-8de6-42f1-bb36-e6d974ebe910"
      },
      "execution_count": 25,
      "outputs": [
        {
          "output_type": "stream",
          "name": "stdout",
          "text": [
            "Ingrese cuántas palabras desea guardar en la lista: \n",
            "Cantidad: 4\n",
            "Ingrese una palabra: \n",
            "Palabra: mundo\n",
            "Ingrese una palabra: \n",
            "Palabra: hola\n",
            "Ingrese una palabra: \n",
            "Palabra: mundo\n",
            "Ingrese una palabra: \n",
            "Palabra: hello\n",
            "Ingrese la palabra que desea reemplazar: \n",
            "Palabra a reemplazar: hello\n",
            "Ingrese la nueva palabra: \n",
            "Nueva palabra: feo\n",
            "La nueva lista es: ['mundo', 'hola', 'mundo', 'feo']\n"
          ]
        }
      ]
    },
    {
      "cell_type": "code",
      "source": [
        "#15\n",
        "# Entrada de datos\n",
        "print(\"Ingrese cuántas palabras desea guardar en la lista: \")\n",
        "cantidad = int(input(\"Cantidad: \"))\n",
        "\n",
        "# Crear la lista\n",
        "lista_palabras = []\n",
        "\n",
        "for i in range(cantidad):\n",
        "    print(\"Ingrese una palabra: \")\n",
        "    palabra = input(\"Palabra: \")\n",
        "    lista_palabras.append(palabra)\n",
        "\n",
        "# Crear segunda lista invertida\n",
        "lista_invertida = lista_palabras[::-1]\n",
        "\n",
        "# Salida de resultados\n",
        "print(\"La lista original es:\", lista_palabras)\n",
        "print(\"La nueva lista (al revés) es:\", lista_invertida)"
      ],
      "metadata": {
        "colab": {
          "base_uri": "https://localhost:8080/"
        },
        "id": "s3PO_8juJMBX",
        "outputId": "c2d51817-3c89-4a89-87fa-0eb76379405c"
      },
      "execution_count": 26,
      "outputs": [
        {
          "output_type": "stream",
          "name": "stdout",
          "text": [
            "Ingrese cuántas palabras desea guardar en la lista: \n",
            "Cantidad: 4\n",
            "Ingrese una palabra: \n",
            "Palabra: luna\n",
            "Ingrese una palabra: \n",
            "Palabra: sol\n",
            "Ingrese una palabra: \n",
            "Palabra: tierra\n",
            "Ingrese una palabra: \n",
            "Palabra: marte\n",
            "La lista original es: ['luna', 'sol', 'tierra', 'marte']\n",
            "La nueva lista (al revés) es: ['marte', 'tierra', 'sol', 'luna']\n"
          ]
        }
      ]
    }
  ]
}