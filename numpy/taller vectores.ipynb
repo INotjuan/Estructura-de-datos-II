{
  "cells": [
    {
      "cell_type": "code",
      "execution_count": null,
      "metadata": {
        "id": "-8vVwObVrQMI"
      },
      "outputs": [],
      "source": [
        "# importar numpy as np\n",
        "import numpy as np"
      ]
    },
    {
      "cell_type": "code",
      "execution_count": null,
      "metadata": {
        "id": "_ydsmdMIrQMN",
        "colab": {
          "base_uri": "https://localhost:8080/"
        },
        "outputId": "a21ebbf1-6999-435a-c610-78f647567e97"
      },
      "outputs": [
        {
          "output_type": "execute_result",
          "data": {
            "text/plain": [
              "[2, 3, 5, 7, 11, 13, 17, 19, 23, 29]"
            ]
          },
          "metadata": {},
          "execution_count": 1
        }
      ],
      "source": [
        "# crear lista con numeros primos\n",
        "numeros_primos = [2, 3, 5, 7, 11, 13, 17, 19, 23, 29]\n",
        "numeros_primos"
      ]
    },
    {
      "cell_type": "code",
      "execution_count": null,
      "metadata": {
        "id": "Bm4rwo3brQMO",
        "colab": {
          "base_uri": "https://localhost:8080/"
        },
        "outputId": "376e0d23-9632-4186-80d3-14303f4988c0"
      },
      "outputs": [
        {
          "output_type": "stream",
          "name": "stdout",
          "text": [
            "[ 2  3  5  7 11 13 17 19 23 29]\n"
          ]
        }
      ],
      "source": [
        "# crear array a partir de lista\n",
        "import numpy as np\n",
        "\n",
        "numeros_primos = [2, 3, 5, 7, 11, 13, 17, 19, 23, 29]\n",
        "\n",
        "array_numeros_primos = np.array(numeros_primos)\n",
        "\n",
        "print(array_numeros_primos)"
      ]
    },
    {
      "cell_type": "code",
      "execution_count": null,
      "metadata": {
        "id": "T59-O0N8rQMP",
        "colab": {
          "base_uri": "https://localhost:8080/"
        },
        "outputId": "36248f7c-86a7-4af3-8f35-4fee9f57e2aa"
      },
      "outputs": [
        {
          "output_type": "stream",
          "name": "stdout",
          "text": [
            "[0. 0. 0. 0. 0. 0. 0. 0. 0. 0.]\n"
          ]
        }
      ],
      "source": [
        "# crear arrays con ceros o cómo inicializar un arreglo de numpy\n",
        "import numpy as np\n",
        "\n",
        "array_zeros = np.zeros(10)\n",
        "print(array_zeros)"
      ]
    },
    {
      "cell_type": "code",
      "execution_count": null,
      "metadata": {
        "id": "2cGt3bNTrQMQ",
        "colab": {
          "base_uri": "https://localhost:8080/"
        },
        "outputId": "540438ae-f396-49be-c2c6-ffd4c0010c84"
      },
      "outputs": [
        {
          "output_type": "stream",
          "name": "stdout",
          "text": [
            "[0 1 2 3 4 5 6 7 8 9]\n"
          ]
        }
      ],
      "source": [
        "# crear arrays con números\n",
        "array_numeros = np.arange(10)\n",
        "print(array_numeros)"
      ]
    },
    {
      "cell_type": "code",
      "execution_count": null,
      "metadata": {
        "id": "jEr0JEvPrQMR",
        "colab": {
          "base_uri": "https://localhost:8080/"
        },
        "outputId": "969d733e-40b1-4b90-d3a2-897be6b703e1"
      },
      "outputs": [
        {
          "output_type": "execute_result",
          "data": {
            "text/plain": [
              "array([ 0,  2,  4,  6,  8, 10, 12, 14, 16, 18])"
            ]
          },
          "metadata": {},
          "execution_count": 12
        }
      ],
      "source": [
        "# array con numeros sucesivos\n",
        "array_pares=np.arange(0,20,2)\n",
        "array_pares"
      ]
    },
    {
      "cell_type": "code",
      "execution_count": null,
      "metadata": {
        "id": "rqzV9v4VrQMS",
        "colab": {
          "base_uri": "https://localhost:8080/"
        },
        "outputId": "25266e44-06ec-4f9d-9803-66eb063277c6"
      },
      "outputs": [
        {
          "output_type": "execute_result",
          "data": {
            "text/plain": [
              "array([[ 0,  2,  4,  6,  8],\n",
              "       [10, 12, 14, 16, 18]])"
            ]
          },
          "metadata": {},
          "execution_count": 19
        }
      ],
      "source": [
        "# haciendo un reshape para dos dimensiones\n",
        "array_pares=np.arange(0,20,2)\n",
        "\n",
        "array_pares=array_pares.reshape(2,5)\n",
        "array_pares"
      ]
    },
    {
      "cell_type": "markdown",
      "metadata": {
        "id": "aEqENfKqrQMT"
      },
      "source": [
        "# Punto 2:"
      ]
    },
    {
      "cell_type": "code",
      "execution_count": null,
      "metadata": {
        "id": "qPA2z0MbrQMV",
        "colab": {
          "base_uri": "https://localhost:8080/"
        },
        "outputId": "6a9c0a45-b633-4372-8ca5-9681750f0cc8"
      },
      "outputs": [
        {
          "output_type": "execute_result",
          "data": {
            "text/plain": [
              "array([[ 1,  3,  5,  7,  9],\n",
              "       [11, 13, 15, 17, 19]])"
            ]
          },
          "metadata": {},
          "execution_count": 20
        }
      ],
      "source": [
        "# operaciones aritmeticas sobre np array 1-dimension y 2-dimension\n",
        "array_impares = array_pares + 1\n",
        "array_impares"
      ]
    },
    {
      "cell_type": "code",
      "execution_count": null,
      "metadata": {
        "id": "gZF1XsTvrQMW",
        "colab": {
          "base_uri": "https://localhost:8080/"
        },
        "outputId": "210a4650-0d5b-4555-aecc-ec24b7eed9fc"
      },
      "outputs": [
        {
          "output_type": "execute_result",
          "data": {
            "text/plain": [
              "array([[ 100,  300,  500,  700,  900],\n",
              "       [1100, 1300, 1500, 1700, 1900]])"
            ]
          },
          "metadata": {},
          "execution_count": 21
        }
      ],
      "source": [
        "# multiplicar por 100\n",
        "array_impares * 100"
      ]
    },
    {
      "cell_type": "code",
      "execution_count": null,
      "metadata": {
        "id": "fIRl55TvrQMX",
        "colab": {
          "base_uri": "https://localhost:8080/"
        },
        "outputId": "d2d11ff3-3e7f-4bf2-d6c7-b2bf047b6b31"
      },
      "outputs": [
        {
          "output_type": "execute_result",
          "data": {
            "text/plain": [
              "array([[1, 1, 1, 1, 1],\n",
              "       [1, 1, 1, 1, 1]])"
            ]
          },
          "metadata": {},
          "execution_count": 22
        }
      ],
      "source": [
        "# resta entre arrays\n",
        "array_impares - array_pares"
      ]
    },
    {
      "cell_type": "code",
      "execution_count": null,
      "metadata": {
        "id": "eii_zGXHrQMY",
        "colab": {
          "base_uri": "https://localhost:8080/"
        },
        "outputId": "94c7c655-31d0-4940-c010-a298d7098342"
      },
      "outputs": [
        {
          "output_type": "stream",
          "name": "stderr",
          "text": [
            "/tmp/ipython-input-2135649895.py:2: RuntimeWarning: divide by zero encountered in divide\n",
            "  array_impares / array_pares\n"
          ]
        },
        {
          "output_type": "execute_result",
          "data": {
            "text/plain": [
              "array([[       inf, 1.5       , 1.25      , 1.16666667, 1.125     ],\n",
              "       [1.1       , 1.08333333, 1.07142857, 1.0625    , 1.05555556]])"
            ]
          },
          "metadata": {},
          "execution_count": 23
        }
      ],
      "source": [
        "# cuidado con la división entre cero\n",
        "array_impares / array_pares"
      ]
    },
    {
      "cell_type": "code",
      "execution_count": null,
      "metadata": {
        "id": "YvHgL2bYrQMY",
        "colab": {
          "base_uri": "https://localhost:8080/"
        },
        "outputId": "5137f2e7-f4d8-45e4-c80e-bee78f77618b"
      },
      "outputs": [
        {
          "output_type": "stream",
          "name": "stdout",
          "text": [
            "Suma: 129\n"
          ]
        }
      ],
      "source": [
        "# métodos asociados a estadística\n",
        "# suma\n",
        "suma = np.sum(array_numeros_primos)\n",
        "print(\"Suma:\", suma)"
      ]
    },
    {
      "cell_type": "code",
      "execution_count": null,
      "metadata": {
        "id": "HkuxM8S2rQMZ",
        "colab": {
          "base_uri": "https://localhost:8080/"
        },
        "outputId": "978f7acf-9af4-4f35-edc3-440e48a3cda1"
      },
      "outputs": [
        {
          "output_type": "stream",
          "name": "stdout",
          "text": [
            "Promedio: 12.9\n"
          ]
        }
      ],
      "source": [
        "# promedio\n",
        "promedio = np.mean(array_numeros_primos)\n",
        "print(\"Promedio:\", promedio)"
      ]
    },
    {
      "cell_type": "code",
      "execution_count": null,
      "metadata": {
        "id": "Ar4AkEcVrQMa",
        "colab": {
          "base_uri": "https://localhost:8080/"
        },
        "outputId": "cfc0f923-66d4-426d-e602-8f82a3f69488"
      },
      "outputs": [
        {
          "output_type": "stream",
          "name": "stdout",
          "text": [
            "Varianza: 73.28999999999999\n"
          ]
        }
      ],
      "source": [
        "# varianza\n",
        "varianza = np.var(array_numeros_primos)\n",
        "print(\"Varianza:\", varianza)"
      ]
    },
    {
      "cell_type": "code",
      "execution_count": 1,
      "metadata": {
        "id": "a27BAGu1rQMa",
        "colab": {
          "base_uri": "https://localhost:8080/"
        },
        "outputId": "19c05cbf-86b7-4212-f3b4-c128ee673f90"
      },
      "outputs": [
        {
          "output_type": "stream",
          "name": "stdout",
          "text": [
            "Array original: [17  3 11 29  5  2 23 13  7 19]\n"
          ]
        }
      ],
      "source": [
        "# como ordenar un np array\n",
        "import numpy as np\n",
        "\n",
        "# Crear un array desordenado\n",
        "array_desordenado = np.array([17, 3, 11, 29, 5, 2, 23, 13, 7, 19])\n",
        "print(\"Array original:\", array_desordenado)"
      ]
    },
    {
      "cell_type": "code",
      "execution_count": null,
      "metadata": {
        "id": "9jZOEByorQMb",
        "colab": {
          "base_uri": "https://localhost:8080/"
        },
        "outputId": "21c0acef-4acb-47c4-a03c-78cb74313ace"
      },
      "outputs": [
        {
          "output_type": "stream",
          "name": "stdout",
          "text": [
            "Orden ascendente: [ 2  3  5  7 11 13 17 19 23 29]\n"
          ]
        }
      ],
      "source": [
        "# orden ascendente: de menor a mayor\n",
        "orden_asc = np.sort(array_numeros_primos)\n",
        "print(\"Orden ascendente:\", orden_asc)"
      ]
    },
    {
      "cell_type": "code",
      "execution_count": null,
      "metadata": {
        "id": "Y6g5br--rQMb",
        "colab": {
          "base_uri": "https://localhost:8080/"
        },
        "outputId": "63a17439-5fdf-4eec-92a3-4e53bc6878ce"
      },
      "outputs": [
        {
          "output_type": "stream",
          "name": "stdout",
          "text": [
            "Orden descendente: [29 23 19 17 13 11  7  5  3  2]\n"
          ]
        }
      ],
      "source": [
        "# orden descendente: de mayor a menor\n",
        "orden_desc = np.sort(array_numeros_primos)[::-1]\n",
        "print(\"Orden descendente:\", orden_desc)"
      ]
    },
    {
      "cell_type": "markdown",
      "metadata": {
        "id": "b3Mj3g7VrQMc"
      },
      "source": [
        "# Punto 3:"
      ]
    },
    {
      "cell_type": "code",
      "execution_count": 6,
      "metadata": {
        "id": "EaWFAX_PrQMc",
        "colab": {
          "base_uri": "https://localhost:8080/"
        },
        "outputId": "ae609ccf-078b-4dbf-e918-0222af9fd2c4"
      },
      "outputs": [
        {
          "output_type": "stream",
          "name": "stdout",
          "text": [
            "Elemento en posición 0: 10\n",
            "Elemento en posición 3: 40\n"
          ]
        }
      ],
      "source": [
        "# Como seleccionar elements\n",
        "import numpy as np\n",
        "\n",
        "array_1d = np.array([10, 20, 30, 40, 50])\n",
        "\n",
        "# Seleccionar un solo elemento\n",
        "print(\"Elemento en posición 0:\", array_1d[0])     # 10\n",
        "print(\"Elemento en posición 3:\", array_1d[3])     # 40"
      ]
    },
    {
      "cell_type": "code",
      "execution_count": null,
      "metadata": {
        "colab": {
          "base_uri": "https://localhost:8080/"
        },
        "id": "FbjcTmn0rQMd",
        "outputId": "5b332c7e-c918-45a6-f73e-4634e38b74fd"
      },
      "outputs": [
        {
          "output_type": "execute_result",
          "data": {
            "text/plain": [
              "array([[ 0,  2,  4,  6,  8],\n",
              "       [10, 12, 14, 16, 18]])"
            ]
          },
          "metadata": {},
          "execution_count": 38
        }
      ],
      "source": [
        "# Seleccionar un elemento\n",
        "A = np.arange(0,20,2).reshape(2,5)\n",
        "A"
      ]
    },
    {
      "cell_type": "code",
      "execution_count": null,
      "metadata": {
        "id": "cML-ZhlNrQMd",
        "colab": {
          "base_uri": "https://localhost:8080/"
        },
        "outputId": "83262f8c-c949-4693-818c-d59e8f8bd16f"
      },
      "outputs": [
        {
          "output_type": "execute_result",
          "data": {
            "text/plain": [
              "np.int64(0)"
            ]
          },
          "metadata": {},
          "execution_count": 36
        }
      ],
      "source": [
        "# seleccionar el primer elemento\n",
        "A[0,0]"
      ]
    },
    {
      "cell_type": "code",
      "execution_count": null,
      "metadata": {
        "id": "Sn1J9BvbrQMe",
        "colab": {
          "base_uri": "https://localhost:8080/"
        },
        "outputId": "8d708df1-ea95-4fae-bf09-03d1427b7934"
      },
      "outputs": [
        {
          "output_type": "execute_result",
          "data": {
            "text/plain": [
              "np.int64(16)"
            ]
          },
          "metadata": {},
          "execution_count": 39
        }
      ],
      "source": [
        "# seleccionar algún otro elemento\n",
        "A[1,3]"
      ]
    },
    {
      "cell_type": "code",
      "source": [
        "A[1,2]"
      ],
      "metadata": {
        "colab": {
          "base_uri": "https://localhost:8080/"
        },
        "id": "XVD9f99BW0IL",
        "outputId": "8914599f-4be0-43a2-9a08-a76fb832c376"
      },
      "execution_count": null,
      "outputs": [
        {
          "output_type": "execute_result",
          "data": {
            "text/plain": [
              "np.int64(14)"
            ]
          },
          "metadata": {},
          "execution_count": 40
        }
      ]
    },
    {
      "cell_type": "code",
      "execution_count": 5,
      "metadata": {
        "id": "UCBYasGjrQMe",
        "colab": {
          "base_uri": "https://localhost:8080/"
        },
        "outputId": "f5cbb71b-202e-4d5f-a488-f85754ec6147"
      },
      "outputs": [
        {
          "output_type": "stream",
          "name": "stdout",
          "text": [
            "Elementos en índices 0, 2, 4: [10 30 50]\n"
          ]
        }
      ],
      "source": [
        "# Seleccionar varios elementos\n",
        "import numpy as np\n",
        "\n",
        "array = np.array([10, 20, 30, 40, 50])\n",
        "\n",
        "# Seleccionar elementos en posiciones 0, 2 y 4\n",
        "seleccionados = array[[0, 2, 4]]\n",
        "print(\"Elementos en índices 0, 2, 4:\", seleccionados)  # [10 30 50]"
      ]
    },
    {
      "cell_type": "code",
      "execution_count": null,
      "metadata": {
        "id": "_OtSuP9CrQMe",
        "colab": {
          "base_uri": "https://localhost:8080/"
        },
        "outputId": "e8408140-a94a-4cce-a729-ef14f948cb63"
      },
      "outputs": [
        {
          "output_type": "execute_result",
          "data": {
            "text/plain": [
              "array([10, 12, 14, 16, 18])"
            ]
          },
          "metadata": {},
          "execution_count": 41
        }
      ],
      "source": [
        "# seleccionar por fila\n",
        "A[1,:]"
      ]
    },
    {
      "cell_type": "code",
      "execution_count": null,
      "metadata": {
        "id": "kTOEP92VrQMf",
        "colab": {
          "base_uri": "https://localhost:8080/"
        },
        "outputId": "fad1dcdf-1690-47eb-e2d2-f4c5cc1710b5"
      },
      "outputs": [
        {
          "output_type": "execute_result",
          "data": {
            "text/plain": [
              "array([ 8, 18])"
            ]
          },
          "metadata": {},
          "execution_count": 43
        }
      ],
      "source": [
        "# seleccionar por columna\n",
        "A[:,4]"
      ]
    },
    {
      "cell_type": "code",
      "execution_count": 2,
      "metadata": {
        "id": "Gn5XP6QDrQMg",
        "colab": {
          "base_uri": "https://localhost:8080/"
        },
        "outputId": "64b9cb8d-4af9-4235-cfb9-bda903b77503"
      },
      "outputs": [
        {
          "output_type": "stream",
          "name": "stdout",
          "text": [
            "Elementos menores de 20: [ 5 12 19  3 18]\n"
          ]
        }
      ],
      "source": [
        "# Utilizar filter\n",
        "import numpy as np\n",
        "\n",
        "array = np.array([5, 12, 19, 23, 30, 3, 18])\n",
        "\n",
        "# Filtrar menores de 20\n",
        "menores_20 = array[array < 20]\n",
        "\n",
        "print(\"Elementos menores de 20:\", menores_20)"
      ]
    },
    {
      "cell_type": "code",
      "execution_count": 3,
      "metadata": {
        "id": "dAJ4MIhsrQMg",
        "colab": {
          "base_uri": "https://localhost:8080/"
        },
        "outputId": "369bb674-e905-4e25-8e94-2781d739845d"
      },
      "outputs": [
        {
          "output_type": "stream",
          "name": "stdout",
          "text": [
            "Elementos menores de 20: [ 5 12 19  3 18]\n"
          ]
        }
      ],
      "source": [
        "# conidicion para menores de 20\n",
        "import numpy as np\n",
        "\n",
        "array = np.array([5, 12, 19, 23, 30, 3, 18])\n",
        "\n",
        "# Condición: menores de 20\n",
        "menores_20 = array[array < 20]\n",
        "\n",
        "print(\"Elementos menores de 20:\", menores_20)"
      ]
    },
    {
      "cell_type": "code",
      "execution_count": 4,
      "metadata": {
        "id": "xiURU5PwrQMh",
        "colab": {
          "base_uri": "https://localhost:8080/"
        },
        "outputId": "1005d079-8c2c-4398-9578-f6b7c182e39e"
      },
      "outputs": [
        {
          "output_type": "stream",
          "name": "stdout",
          "text": [
            "Elementos menores de 20: [ 5 12 19  3 18]\n"
          ]
        }
      ],
      "source": [
        "# filtrar menores de 20\n",
        "import numpy as np\n",
        "\n",
        "array = np.array([5, 12, 19, 23, 30, 3, 18])\n",
        "\n",
        "# Filtrar menores de 20\n",
        "menores_20 = array[array < 20]\n",
        "\n",
        "print(\"Elementos menores de 20:\", menores_20)"
      ]
    }
  ],
  "metadata": {
    "colab": {
      "provenance": []
    },
    "kernelspec": {
      "display_name": "anaconda-panel-2023.05-py310",
      "language": "python",
      "name": "conda-env-anaconda-panel-2023.05-py310-py"
    },
    "language_info": {
      "codemirror_mode": {
        "name": "ipython",
        "version": 3
      },
      "file_extension": ".py",
      "mimetype": "text/x-python",
      "name": "python",
      "nbconvert_exporter": "python",
      "pygments_lexer": "ipython3",
      "version": "3.11.5"
    }
  },
  "nbformat": 4,
  "nbformat_minor": 0
}