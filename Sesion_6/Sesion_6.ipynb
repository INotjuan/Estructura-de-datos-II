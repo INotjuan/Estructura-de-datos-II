{
  "nbformat": 4,
  "nbformat_minor": 0,
  "metadata": {
    "colab": {
      "provenance": []
    },
    "kernelspec": {
      "name": "python3",
      "display_name": "Python 3"
    },
    "language_info": {
      "name": "python"
    }
  },
  "cells": [
    {
      "cell_type": "code",
      "execution_count": 47,
      "metadata": {
        "colab": {
          "base_uri": "https://localhost:8080/"
        },
        "id": "9Uo-aPGainVp",
        "outputId": "7fb8f195-a45a-4720-ac6f-73aeebbee9c6"
      },
      "outputs": [
        {
          "output_type": "stream",
          "name": "stdout",
          "text": [
            "{1, 4, 5, 6, 8}\n",
            "<class 'set'>\n"
          ]
        }
      ],
      "source": [
        "# 1. Crear un set a partir de una lista con elementos repetidos\n",
        "s = set([5,4,6,8,8,1])   # Los sets eliminan duplicados automáticamente\n",
        "print(s)                 # Muestra el conjunto sin duplicados\n",
        "print(type(s))           # <class 'set'>"
      ]
    },
    {
      "cell_type": "code",
      "source": [
        "# 2. Crear un set directamente con llaves {}\n",
        "s = {5,4,6,8,8,1}        # Repite el 8 y el 1, pero el set los elimina\n",
        "print(s)\n",
        "print(type(s))"
      ],
      "metadata": {
        "colab": {
          "base_uri": "https://localhost:8080/"
        },
        "id": "tgWgdXiLjf1m",
        "outputId": "4804bd07-ba58-4e66-b20a-3a19fdc2bac3"
      },
      "execution_count": 48,
      "outputs": [
        {
          "output_type": "stream",
          "name": "stdout",
          "text": [
            "{1, 4, 5, 6, 8}\n",
            "<class 'set'>\n"
          ]
        }
      ]
    },
    {
      "cell_type": "code",
      "source": [
        "# 3. ❌ ERROR: Los sets no permiten indexación\n",
        "s = set([5,4,6,8,8,1])\n",
        "s[0] = 3   # ERROR: 'set' object does not support item assignment"
      ],
      "metadata": {
        "colab": {
          "base_uri": "https://localhost:8080/",
          "height": 176
        },
        "id": "C-sZPcWNkGUO",
        "outputId": "3982dfb8-553f-4ace-bfde-d5ab33b53f5c"
      },
      "execution_count": 49,
      "outputs": [
        {
          "output_type": "error",
          "ename": "TypeError",
          "evalue": "'set' object does not support item assignment",
          "traceback": [
            "\u001b[0;31m---------------------------------------------------------------------------\u001b[0m",
            "\u001b[0;31mTypeError\u001b[0m                                 Traceback (most recent call last)",
            "\u001b[0;32m/tmp/ipython-input-3983014046.py\u001b[0m in \u001b[0;36m<cell line: 0>\u001b[0;34m()\u001b[0m\n\u001b[1;32m      1\u001b[0m \u001b[0;31m# 3. ❌ ERROR: Los sets no permiten indexación\u001b[0m\u001b[0;34m\u001b[0m\u001b[0;34m\u001b[0m\u001b[0m\n\u001b[1;32m      2\u001b[0m \u001b[0ms\u001b[0m \u001b[0;34m=\u001b[0m \u001b[0mset\u001b[0m\u001b[0;34m(\u001b[0m\u001b[0;34m[\u001b[0m\u001b[0;36m5\u001b[0m\u001b[0;34m,\u001b[0m\u001b[0;36m4\u001b[0m\u001b[0;34m,\u001b[0m\u001b[0;36m6\u001b[0m\u001b[0;34m,\u001b[0m\u001b[0;36m8\u001b[0m\u001b[0;34m,\u001b[0m\u001b[0;36m8\u001b[0m\u001b[0;34m,\u001b[0m\u001b[0;36m1\u001b[0m\u001b[0;34m]\u001b[0m\u001b[0;34m)\u001b[0m\u001b[0;34m\u001b[0m\u001b[0;34m\u001b[0m\u001b[0m\n\u001b[0;32m----> 3\u001b[0;31m \u001b[0ms\u001b[0m\u001b[0;34m[\u001b[0m\u001b[0;36m0\u001b[0m\u001b[0;34m]\u001b[0m \u001b[0;34m=\u001b[0m \u001b[0;36m3\u001b[0m   \u001b[0;31m# ERROR: 'set' object does not support item assignment\u001b[0m\u001b[0;34m\u001b[0m\u001b[0;34m\u001b[0m\u001b[0m\n\u001b[0m",
            "\u001b[0;31mTypeError\u001b[0m: 'set' object does not support item assignment"
          ]
        }
      ]
    },
    {
      "cell_type": "code",
      "source": [
        "# 4. ❌ ERROR: No se puede meter una lista dentro de un set (las listas no son hashables)\n",
        "Lista = [\"Peru\",\"Argentina\"]\n",
        "s = set([\"mexico\",\"España\", Lista])  # ERROR: unhashable type: 'list'"
      ],
      "metadata": {
        "colab": {
          "base_uri": "https://localhost:8080/",
          "height": 176
        },
        "id": "HBHf6JVNkOtD",
        "outputId": "982ec5b3-8387-483b-aafb-58189c61eb32"
      },
      "execution_count": 50,
      "outputs": [
        {
          "output_type": "error",
          "ename": "TypeError",
          "evalue": "unhashable type: 'list'",
          "traceback": [
            "\u001b[0;31m---------------------------------------------------------------------------\u001b[0m",
            "\u001b[0;31mTypeError\u001b[0m                                 Traceback (most recent call last)",
            "\u001b[0;32m/tmp/ipython-input-428740781.py\u001b[0m in \u001b[0;36m<cell line: 0>\u001b[0;34m()\u001b[0m\n\u001b[1;32m      1\u001b[0m \u001b[0;31m# 4. ❌ ERROR: No se puede meter una lista dentro de un set (las listas no son hashables)\u001b[0m\u001b[0;34m\u001b[0m\u001b[0;34m\u001b[0m\u001b[0m\n\u001b[1;32m      2\u001b[0m \u001b[0mLista\u001b[0m \u001b[0;34m=\u001b[0m \u001b[0;34m[\u001b[0m\u001b[0;34m\"Peru\"\u001b[0m\u001b[0;34m,\u001b[0m\u001b[0;34m\"Argentina\"\u001b[0m\u001b[0;34m]\u001b[0m\u001b[0;34m\u001b[0m\u001b[0;34m\u001b[0m\u001b[0m\n\u001b[0;32m----> 3\u001b[0;31m \u001b[0ms\u001b[0m \u001b[0;34m=\u001b[0m \u001b[0mset\u001b[0m\u001b[0;34m(\u001b[0m\u001b[0;34m[\u001b[0m\u001b[0;34m\"mexico\"\u001b[0m\u001b[0;34m,\u001b[0m\u001b[0;34m\"España\"\u001b[0m\u001b[0;34m,\u001b[0m \u001b[0mLista\u001b[0m\u001b[0;34m]\u001b[0m\u001b[0;34m)\u001b[0m  \u001b[0;31m# ERROR: unhashable type: 'list'\u001b[0m\u001b[0;34m\u001b[0m\u001b[0;34m\u001b[0m\u001b[0m\n\u001b[0m",
            "\u001b[0;31mTypeError\u001b[0m: unhashable type: 'list'"
          ]
        }
      ]
    },
    {
      "cell_type": "code",
      "source": [
        "# 5. Uso de listas y append()\n",
        "Lista = [\"Peru\",\"Argentina\"]\n",
        "Lista.append(\"Mexico\")   # Agrega un elemento al final\n",
        "Lista.append(\"España\")\n",
        "print(Lista)             # ['Peru', 'Argentina', 'Mexico', 'España']"
      ],
      "metadata": {
        "colab": {
          "base_uri": "https://localhost:8080/"
        },
        "id": "1Ex6nXoXkswM",
        "outputId": "b150baed-f552-4cfc-d5b0-4ff0209c6e70"
      },
      "execution_count": 51,
      "outputs": [
        {
          "output_type": "stream",
          "name": "stdout",
          "text": [
            "['Peru', 'Argentina', 'Mexico', 'España']\n"
          ]
        }
      ]
    },
    {
      "cell_type": "code",
      "source": [
        "# 6. Recorrer un set con un for\n",
        "s = {5,6,7,8}\n",
        "for ss in s:\n",
        "  print(ss)              # Muestra los elementos (el orden no está garantizado)"
      ],
      "metadata": {
        "colab": {
          "base_uri": "https://localhost:8080/"
        },
        "id": "tb7LvZ-1kxos",
        "outputId": "0ee3e6a9-6687-49de-df19-8c929a8d06c4"
      },
      "execution_count": 52,
      "outputs": [
        {
          "output_type": "stream",
          "name": "stdout",
          "text": [
            "8\n",
            "5\n",
            "6\n",
            "7\n"
          ]
        }
      ]
    },
    {
      "cell_type": "code",
      "source": [
        "# 7. Los sets eliminan duplicados automáticamente\n",
        "s = {2,2,2,4,4,4,2,6,6,6,7}\n",
        "print(len(s))            # 3 (elementos únicos: 2,4,6,7 → en total 4 elementos)\n",
        "print(type(s))"
      ],
      "metadata": {
        "colab": {
          "base_uri": "https://localhost:8080/"
        },
        "id": "F-RSBowQlsmF",
        "outputId": "115cae2e-c3dd-4220-a5dd-2871d7393412"
      },
      "execution_count": 53,
      "outputs": [
        {
          "output_type": "stream",
          "name": "stdout",
          "text": [
            "4\n",
            "<class 'set'>\n"
          ]
        }
      ]
    },
    {
      "cell_type": "code",
      "source": [
        "# 8. Verificar si un elemento existe en el set\n",
        "s = {\"hello\",\"hola\",\"bye\",\"adios\"}\n",
        "print(\"hello\" in s)      # True"
      ],
      "metadata": {
        "colab": {
          "base_uri": "https://localhost:8080/"
        },
        "id": "p7wQBA1smpo8",
        "outputId": "46b14dfe-b175-448c-a4e7-ff1b38f598b5"
      },
      "execution_count": 54,
      "outputs": [
        {
          "output_type": "stream",
          "name": "stdout",
          "text": [
            "True\n"
          ]
        }
      ]
    },
    {
      "cell_type": "code",
      "source": [
        "# 9. Verificar si un elemento NO está en el set\n",
        "s = {\"hello\",\"hola\",\"bye\",\"adios\"}\n",
        "print(\"chao\" in s)       # False"
      ],
      "metadata": {
        "colab": {
          "base_uri": "https://localhost:8080/"
        },
        "id": "jwyGhIYcnwMU",
        "outputId": "e1721d93-1b6c-4cb0-b601-fd7821aa4fb0"
      },
      "execution_count": 55,
      "outputs": [
        {
          "output_type": "stream",
          "name": "stdout",
          "text": [
            "False\n"
          ]
        }
      ]
    },
    {
      "cell_type": "code",
      "source": [
        "# 10. Unión de dos sets con operador |\n",
        "s1 = {1,2,3}\n",
        "s2 = {3,4,5}\n",
        "print(s1 | s2)           # {1,2,3,4,5}"
      ],
      "metadata": {
        "colab": {
          "base_uri": "https://localhost:8080/"
        },
        "id": "JlUbv0r0n60k",
        "outputId": "8e628648-e25a-4618-9af6-a67cc4ffdb45"
      },
      "execution_count": 56,
      "outputs": [
        {
          "output_type": "stream",
          "name": "stdout",
          "text": [
            "{1, 2, 3, 4, 5}\n"
          ]
        }
      ]
    },
    {
      "cell_type": "code",
      "source": [
        "# 11. Agregar un elemento al set\n",
        "s = {1,2}\n",
        "s.add(3)\n",
        "print(s)                 # {1,2,3}"
      ],
      "metadata": {
        "colab": {
          "base_uri": "https://localhost:8080/"
        },
        "id": "1qUPdoeXowS8",
        "outputId": "df5a0e2f-37ed-4b80-b96a-f434fe51f619"
      },
      "execution_count": 57,
      "outputs": [
        {
          "output_type": "stream",
          "name": "stdout",
          "text": [
            "{1, 2, 3}\n"
          ]
        }
      ]
    },
    {
      "cell_type": "code",
      "source": [
        "# 12. Eliminar un elemento existente con remove()\n",
        "s = {1,2,3}\n",
        "s.remove(3)\n",
        "print(s)                 # {1,2}"
      ],
      "metadata": {
        "colab": {
          "base_uri": "https://localhost:8080/"
        },
        "id": "sOqIb61npYat",
        "outputId": "de7811b3-6b81-46f4-a124-9c4d9a9aba0f"
      },
      "execution_count": 58,
      "outputs": [
        {
          "output_type": "stream",
          "name": "stdout",
          "text": [
            "{1, 2}\n"
          ]
        }
      ]
    },
    {
      "cell_type": "code",
      "source": [
        "# 13. ❌ ERROR: remove() de un elemento que no existe da error\n",
        "s = {1,2,3}\n",
        "s.remove(4)              # KeyError: 4"
      ],
      "metadata": {
        "colab": {
          "base_uri": "https://localhost:8080/",
          "height": 176
        },
        "id": "sfYsfMwtph1U",
        "outputId": "f86bdaac-aad3-41ca-e7e8-60bb58f1ca56"
      },
      "execution_count": 59,
      "outputs": [
        {
          "output_type": "error",
          "ename": "KeyError",
          "evalue": "4",
          "traceback": [
            "\u001b[0;31m---------------------------------------------------------------------------\u001b[0m",
            "\u001b[0;31mKeyError\u001b[0m                                  Traceback (most recent call last)",
            "\u001b[0;32m/tmp/ipython-input-3850551190.py\u001b[0m in \u001b[0;36m<cell line: 0>\u001b[0;34m()\u001b[0m\n\u001b[1;32m      1\u001b[0m \u001b[0;31m# 13. ❌ ERROR: remove() de un elemento que no existe da error\u001b[0m\u001b[0;34m\u001b[0m\u001b[0;34m\u001b[0m\u001b[0m\n\u001b[1;32m      2\u001b[0m \u001b[0ms\u001b[0m \u001b[0;34m=\u001b[0m \u001b[0;34m{\u001b[0m\u001b[0;36m1\u001b[0m\u001b[0;34m,\u001b[0m\u001b[0;36m2\u001b[0m\u001b[0;34m,\u001b[0m\u001b[0;36m3\u001b[0m\u001b[0;34m}\u001b[0m\u001b[0;34m\u001b[0m\u001b[0;34m\u001b[0m\u001b[0m\n\u001b[0;32m----> 3\u001b[0;31m \u001b[0ms\u001b[0m\u001b[0;34m.\u001b[0m\u001b[0mremove\u001b[0m\u001b[0;34m(\u001b[0m\u001b[0;36m4\u001b[0m\u001b[0;34m)\u001b[0m              \u001b[0;31m# KeyError: 4\u001b[0m\u001b[0;34m\u001b[0m\u001b[0;34m\u001b[0m\u001b[0m\n\u001b[0m",
            "\u001b[0;31mKeyError\u001b[0m: 4"
          ]
        }
      ]
    },
    {
      "cell_type": "code",
      "source": [
        "# 14. discard() elimina un elemento si existe, pero no da error si no está\n",
        "s = {1,2,3}\n",
        "s.discard(4)             # No pasa nada\n",
        "print(s)                 # {1,2,3}"
      ],
      "metadata": {
        "colab": {
          "base_uri": "https://localhost:8080/"
        },
        "id": "P6Cx0dHeqsRU",
        "outputId": "ecbe6b9d-a9a2-403f-df26-985ca1f4545b"
      },
      "execution_count": 60,
      "outputs": [
        {
          "output_type": "stream",
          "name": "stdout",
          "text": [
            "{1, 2, 3}\n"
          ]
        }
      ]
    },
    {
      "cell_type": "code",
      "source": [
        "# 15. pop() elimina un elemento aleatorio del set\n",
        "s = {1,2,3}\n",
        "s.pop()\n",
        "print(s)                 # Puede quedar {2,3} o {1,3} según cuál elimine"
      ],
      "metadata": {
        "colab": {
          "base_uri": "https://localhost:8080/"
        },
        "id": "W5EvchAxq3AT",
        "outputId": "4f1266b5-4dae-4aa3-b986-2ad14e653c2f"
      },
      "execution_count": 61,
      "outputs": [
        {
          "output_type": "stream",
          "name": "stdout",
          "text": [
            "{2, 3}\n"
          ]
        }
      ]
    },
    {
      "cell_type": "code",
      "source": [
        "\n",
        "# 16. clear() elimina todos los elementos del set\n",
        "s = {1,2,3}\n",
        "s.clear()\n",
        "print(s)                 # set()"
      ],
      "metadata": {
        "colab": {
          "base_uri": "https://localhost:8080/"
        },
        "id": "FUwk6nm2rqvL",
        "outputId": "cc32f72a-c8bb-4c72-9e52-e6d7429e21f6"
      },
      "execution_count": 62,
      "outputs": [
        {
          "output_type": "stream",
          "name": "stdout",
          "text": [
            "set()\n"
          ]
        }
      ]
    },
    {
      "cell_type": "code",
      "source": [
        "\n",
        "# 17. Unión de sets con .union()\n",
        "s1 = {1,2,3}\n",
        "s2 = {3,4,5}\n",
        "print(s1.union(s2))      # {1,2,3,4,5}"
      ],
      "metadata": {
        "colab": {
          "base_uri": "https://localhost:8080/"
        },
        "id": "eiHHfUpKsB6M",
        "outputId": "32df4278-1acb-45ec-cff5-ad8ee505acaa"
      },
      "execution_count": 63,
      "outputs": [
        {
          "output_type": "stream",
          "name": "stdout",
          "text": [
            "{1, 2, 3, 4, 5}\n"
          ]
        }
      ]
    },
    {
      "cell_type": "code",
      "source": [
        "\n",
        "# 18. Intersección de sets\n",
        "s1 = {1,2,3}\n",
        "s2 = {3,4,5}\n",
        "print(s1.intersection(s2))  # {3}"
      ],
      "metadata": {
        "colab": {
          "base_uri": "https://localhost:8080/"
        },
        "id": "MBM5a3fCsSPV",
        "outputId": "63a37d3c-3c8d-4b84-f07a-f4bbf5374a6a"
      },
      "execution_count": 64,
      "outputs": [
        {
          "output_type": "stream",
          "name": "stdout",
          "text": [
            "{3}\n"
          ]
        }
      ]
    },
    {
      "cell_type": "code",
      "source": [
        "# 19. Ejemplo más completo\n",
        "fronted = {\"html\",\"css\",\"javascript\"}\n",
        "backend = {\"sql\",\"javascript\",\"python\",\"django\"}\n",
        "\n",
        "fronted.add(\"vue.js\")          # Agregar un elemento al set\n",
        "backend.remove(\"django\")       # Eliminar un elemento existente\n",
        "\n",
        "print(\"fronted: \",fronted)\n",
        "print(\"backend: \",backend)\n",
        "print(\"union Fronted y Backend: \",fronted.union(backend))\n",
        "print(\"Interseccion Fronted y Backend: \",fronted.intersection(backend))"
      ],
      "metadata": {
        "colab": {
          "base_uri": "https://localhost:8080/"
        },
        "id": "7QZUopxRsZtE",
        "outputId": "5b576f0e-319f-492e-92ed-a0939a8ba4b3"
      },
      "execution_count": 65,
      "outputs": [
        {
          "output_type": "stream",
          "name": "stdout",
          "text": [
            "fronted:  {'vue.js', 'javascript', 'html', 'css'}\n",
            "backend:  {'javascript', 'python', 'sql'}\n",
            "union Fronted y Backend:  {'css', 'sql', 'vue.js', 'javascript', 'python', 'html'}\n",
            "Interseccion Fronted y Backend:  {'javascript'}\n"
          ]
        }
      ]
    }
  ]
}