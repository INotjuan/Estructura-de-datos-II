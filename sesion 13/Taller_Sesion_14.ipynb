{
  "nbformat": 4,
  "nbformat_minor": 0,
  "metadata": {
    "colab": {
      "provenance": []
    },
    "kernelspec": {
      "name": "python3",
      "display_name": "Python 3"
    },
    "language_info": {
      "name": "python"
    }
  },
  "cells": [
    {
      "cell_type": "code",
      "source": [
        "# Lista inicial de compras\n",
        "compras = [\"leche\", \"pan\"]\n",
        "\n",
        "# Eliminar el elemento en la posición 1 (en este caso \"pan\")\n",
        "compras.pop(1)\n",
        "\n",
        "# Agregar \"huevos\" al final de la lista\n",
        "compras.append(\"huevos\")\n",
        "\n",
        "# Mostrar la lista actualizada de compras\n",
        "print(compras)"
      ],
      "metadata": {
        "colab": {
          "base_uri": "https://localhost:8080/"
        },
        "id": "hf1P3af76_Fh",
        "outputId": "597eb46b-3293-4740-d157-c5455a7957a4"
      },
      "execution_count": null,
      "outputs": [
        {
          "output_type": "stream",
          "name": "stdout",
          "text": [
            "['leche', 'huevos']\n"
          ]
        }
      ]
    },
    {
      "cell_type": "code",
      "source": [
        "# Solicitar los datos al usuario\n",
        "nombre = input(\"Introduce tu nombre: \")\n",
        "edad = int(input(\"Introduce tu edad: \"))  # Convertimos a entero porque la edad es un número\n",
        "ciudad = input(\"Introduce tu ciudad: \")\n",
        "\n",
        "# Crear el diccionario con el perfil del usuario\n",
        "perfil_usuario = {\n",
        "    \"nombre\": nombre,\n",
        "    \"edad\": edad,\n",
        "    \"ciudad\": ciudad\n",
        "}\n",
        "\n",
        "# Mostrar el diccionario final\n",
        "for x in perfil_usuario:\n",
        "    print(perfil_usuario[x])"
      ],
      "metadata": {
        "colab": {
          "base_uri": "https://localhost:8080/"
        },
        "id": "X_OPyAeq7XBy",
        "outputId": "356835ef-c37b-4f92-a07b-aa23db4d6c28"
      },
      "execution_count": null,
      "outputs": [
        {
          "output_type": "stream",
          "name": "stdout",
          "text": [
            "Introduce tu nombre: a\n",
            "Introduce tu edad: 1\n",
            "Introduce tu ciudad: b\n",
            "a\n",
            "1\n",
            "b\n"
          ]
        }
      ]
    },
    {
      "cell_type": "code",
      "source": [
        "# Almacenar las coordenadas en una tupla\n",
        "coordenadas = (40.7128, -74.0060)  # Ejemplo: Nueva York (latitud, longitud)\n",
        "\n",
        "# Desempaquetar la tupla en dos variables\n",
        "latitud, longitud = coordenadas\n",
        "\n",
        "# Imprimir las variables\n",
        "print(f\"Latitud: {latitud}\")\n",
        "print(f\"Longitud: {longitud}\")"
      ],
      "metadata": {
        "id": "DBn7ok949ODi"
      },
      "execution_count": null,
      "outputs": []
    },
    {
      "cell_type": "code",
      "source": [
        "temperaturas = [22.5, 24.0, 21.8, 25.1, 23.9, 22.7, 21.5]\n",
        "\n",
        "# Calcular el promedio sumando todos los valores y dividiendo entre el número de elementos\n",
        "promedio = sum(temperaturas) / len(temperaturas)\n",
        "\n",
        "print(f\"Temperaturas: {temperaturas}\")\n",
        "print(f\"Promedio: {promedio}\")"
      ],
      "metadata": {
        "id": "dycF8Eze9hcP",
        "colab": {
          "base_uri": "https://localhost:8080/"
        },
        "outputId": "95ba32ec-cb90-4700-e2a2-d710a40eae76"
      },
      "execution_count": 12,
      "outputs": [
        {
          "output_type": "stream",
          "name": "stdout",
          "text": [
            "Temperaturas: [22.5, 24.0, 21.8, 25.1, 23.9, 22.7, 21.5]\n",
            "Promedio: 23.071428571428573\n"
          ]
        }
      ]
    },
    {
      "cell_type": "code",
      "source": [
        "# Diccionario inglés -> español\n",
        "traductor = {\n",
        "    \"hello\": \"hola\",\n",
        "    \"world\": \"mundo\",\n",
        "    \"cat\": \"gato\",\n",
        "    \"dog\": \"perro\",\n",
        "    \"food\": \"comida\",\n",
        "    \"water\": \"agua\",\n",
        "    \"book\": \"libro\"\n",
        "}\n",
        "\n",
        "# Pedir al usuario una palabra en inglés\n",
        "palabra = input(\"Introduce una palabra en inglés: \").lower()  # .lower() para ignorar mayúsculas/minúsculas\n",
        "\n",
        "# Buscar la palabra en el diccionario y mostrar la traducción si existe\n",
        "if palabra in traductor:\n",
        "    print(f\"La traducción de '{palabra}' es '{traductor[palabra]}'.\")\n",
        "else:\n",
        "    print(f\"Lo siento, no tengo la traducción para '{palabra}'.\")"
      ],
      "metadata": {
        "colab": {
          "base_uri": "https://localhost:8080/"
        },
        "id": "5DVzfSOtHAvh",
        "outputId": "ea17401e-d7bb-4968-fb18-a0463bdc28a2"
      },
      "execution_count": 38,
      "outputs": [
        {
          "output_type": "stream",
          "name": "stdout",
          "text": [
            "Introduce una palabra en inglés: hello\n",
            "La traducción de 'hello' es 'hola'.\n"
          ]
        }
      ]
    },
    {
      "cell_type": "code",
      "source": [
        "# Horario: (materia, hora)\n",
        "horario = (\n",
        "    (\"Matemáticas\", \"08:00\"),\n",
        "    (\"Historia\", \"10:00\"),\n",
        "    (\"Ciencias\", \"12:00\"),\n",
        ")\n",
        "\n",
        "# Recorrer e imprimir horario\n",
        "for materia, hora in horario:\n",
        "    print(f\"Clase de {materia} a las {hora}\")"
      ],
      "metadata": {
        "colab": {
          "base_uri": "https://localhost:8080/"
        },
        "id": "G_KrG9UjIqUw",
        "outputId": "a68a36b5-9157-4553-e81f-e47256e3efa0"
      },
      "execution_count": 37,
      "outputs": [
        {
          "output_type": "stream",
          "name": "stdout",
          "text": [
            "Clase de Matemáticas a las 08:00\n",
            "Clase de Historia a las 10:00\n",
            "Clase de Ciencias a las 12:00\n"
          ]
        }
      ]
    },
    {
      "cell_type": "code",
      "source": [
        "invitados_dia = [\"Ana\", \"Luis\", \"Marta\", \"Pedro\"]\n",
        "invitados_noche = [\"Luis\", \"Sofía\", \"Ana\", \"Juan\"]\n",
        "\n",
        "# Unir listas y eliminar duplicados usando set\n",
        "lista_final = list(set(invitados_dia + invitados_noche))\n",
        "\n",
        "print(lista_final)"
      ],
      "metadata": {
        "colab": {
          "base_uri": "https://localhost:8080/"
        },
        "id": "zjeNjV80HPpf",
        "outputId": "eef8cce7-fdac-400f-ef50-9ef92645be78"
      },
      "execution_count": 35,
      "outputs": [
        {
          "output_type": "stream",
          "name": "stdout",
          "text": [
            "['Pedro', 'Sofía', 'Juan', 'Marta', 'Luis', 'Ana']\n"
          ]
        }
      ]
    },
    {
      "cell_type": "code",
      "source": [
        "# Lista de diccionarios que representan productos\n",
        "inventario = [\n",
        "    {\"nombre\": \"Leche\", \"precio\": 1500, \"stock\": 20},\n",
        "    {\"nombre\": \"Pan\", \"precio\": 800, \"stock\": 15},\n",
        "    {\"nombre\": \"Huevos\", \"precio\": 2000, \"stock\": 30}\n",
        "]\n",
        "\n",
        "# Función para buscar producto por nombre\n",
        "def buscar_producto(nombre):\n",
        "    for producto in inventario:\n",
        "        if producto[\"nombre\"].lower() == nombre.lower():\n",
        "            return producto\n",
        "    return None\n",
        "\n",
        "# Ejemplo de búsqueda\n",
        "resultado = buscar_producto(\"pan\")\n",
        "print(resultado)"
      ],
      "metadata": {
        "id": "ZxB6JAZEHfPn"
      },
      "execution_count": null,
      "outputs": []
    },
    {
      "cell_type": "code",
      "source": [
        "#ejercio 8\n",
        "\n",
        "# Diccionario con estudiantes y sus listas de notas\n",
        "notas_estudiantes = {\n",
        "    \"Ana\": [8.5, 9.0, 7.5],\n",
        "    \"Luis\": [7.0, 6.5, 8.0, 7.8],\n",
        "    \"Maria\": [9.5, 8.0, 9.0]\n",
        "}\n",
        "\n",
        "# Imprimir cada estudiante y sus notas, uno debajo del otro\n",
        "for estudiante, notas in notas_estudiantes.items():\n",
        "    print(f\"{estudiante}: {notas}\")"
      ],
      "metadata": {
        "colab": {
          "base_uri": "https://localhost:8080/"
        },
        "id": "9_lrBCYK_Cvd",
        "outputId": "488b9791-ef5a-44fa-b36f-7bc7ab1dfff7"
      },
      "execution_count": 23,
      "outputs": [
        {
          "output_type": "stream",
          "name": "stdout",
          "text": [
            "Ana: [8.5, 9.0, 7.5]\n",
            "Luis: [7.0, 6.5, 8.0, 7.8]\n",
            "Maria: [9.5, 8.0, 9.0]\n"
          ]
        }
      ]
    },
    {
      "cell_type": "code",
      "source": [
        "# Lista original de números\n",
        "numeros = [1, 2, 3, 4, 5, 6, 7, 8, 9, 10]\n",
        "\n",
        "# Crear una nueva lista con solo los números pares usando lista por comprensión\n",
        "pares = [num for num in numeros if num % 2 == 0]\n",
        "\n",
        "# Mostrar la nueva lista de números pares\n",
        "print(pares)"
      ],
      "metadata": {
        "colab": {
          "base_uri": "https://localhost:8080/"
        },
        "id": "1F8DJUzHDLTw",
        "outputId": "9363c3e0-9f93-4ad0-cb99-b4c1493c0c53"
      },
      "execution_count": 24,
      "outputs": [
        {
          "output_type": "stream",
          "name": "stdout",
          "text": [
            "[2, 4, 6, 8, 10]\n"
          ]
        }
      ]
    },
    {
      "cell_type": "code",
      "source": [
        "# Lista de diccionarios con estudiantes\n",
        "estudiantes = [\n",
        "    {\"nombre\": \"Ana\", \"promedio\": 4.5, \"curso\": \"10A\"},\n",
        "    {\"nombre\": \"Luis\", \"promedio\": 3.8, \"curso\": \"10B\"},\n",
        "    {\"nombre\": \"Marta\", \"promedio\": 4.8, \"curso\": \"10A\"},\n",
        "    {\"nombre\": \"Pedro\", \"promedio\": 3.9, \"curso\": \"10C\"},\n",
        "    {\"nombre\": \"Sofía\", \"promedio\": 4.2, \"curso\": \"10B\"}\n",
        "]\n",
        "\n",
        "# Crear una lista con los nombres de estudiantes que tienen promedio mayor a 4.0\n",
        "estudiantes_aprobados = [est[\"nombre\"] for est in estudiantes if est[\"promedio\"] > 4.0]\n",
        "\n",
        "# Mostrar la lista resultante\n",
        "print(\"Estudiantes con promedio superior a 4.0:\")\n",
        "print(estudiantes_aprobados)"
      ],
      "metadata": {
        "colab": {
          "base_uri": "https://localhost:8080/"
        },
        "id": "dtIeX26TD2_0",
        "outputId": "efe1fa38-9ace-41d7-808c-e76eb3d4ada7"
      },
      "execution_count": 27,
      "outputs": [
        {
          "output_type": "stream",
          "name": "stdout",
          "text": [
            "Estudiantes con promedio superior a 4.0:\n",
            "['Ana', 'Marta', 'Sofía']\n"
          ]
        }
      ]
    },
    {
      "cell_type": "code",
      "source": [
        "# Lista de tuplas con ventas: (producto, categoría, monto)\n",
        "ventas = [\n",
        "    (\"Laptop\", \"Electrónica\", 1500),\n",
        "    (\"Camisa\", \"Ropa\", 80),\n",
        "    (\"Mouse\", \"Electrónica\", 50),\n",
        "    (\"Pantalón\", \"Ropa\", 120),\n",
        "    (\"Teclado\", \"Electrónica\", 70)\n",
        "]\n",
        "\n",
        "# Diccionario para almacenar el total de ventas por categoría\n",
        "totales_por_categoria = {}\n",
        "\n",
        "# Recorrer cada venta\n",
        "for producto, categoria, monto in ventas:\n",
        "    # Si la categoría no está en el diccionario, la inicializamos con 0\n",
        "    if categoria not in totales_por_categoria:\n",
        "        totales_por_categoria[categoria] = 0\n",
        "    # Sumamos el monto de la venta a la categoría correspondiente\n",
        "    totales_por_categoria[categoria] += monto\n",
        "\n",
        "# Mostrar el resultado\n",
        "print(\"Total de ventas por categoría:\")\n",
        "for categoria, total in totales_por_categoria.items():\n",
        "    print(f\"{categoria}: ${total}\")\n"
      ],
      "metadata": {
        "colab": {
          "base_uri": "https://localhost:8080/"
        },
        "id": "UG0EQ31MEKYd",
        "outputId": "a39f3d1a-d84a-474e-dba4-6db16fd0dbfa"
      },
      "execution_count": 28,
      "outputs": [
        {
          "output_type": "stream",
          "name": "stdout",
          "text": [
            "Total de ventas por categoría:\n",
            "Electrónica: $1620\n",
            "Ropa: $200\n"
          ]
        }
      ]
    },
    {
      "cell_type": "code",
      "source": [
        "libro = {\n",
        "    \"titulo\": \"Python para Todos\",\n",
        "    \"año\": 2024,\n",
        "    \"autores\": [\n",
        "        {\"nombre\": \"Raúl\", \"nacionalidad\": \"Española\"},\n",
        "        {\"nombre\": \"Laura\", \"nacionalidad\": \"Mexicana\"}\n",
        "    ],\n",
        "    \"editorial\": \"Ediciones Código\"\n",
        "}\n",
        "\n",
        "# Extraer lista de nombres de autores\n",
        "nombres_autores = [autor[\"nombre\"] for autor in libro[\"autores\"]]\n",
        "\n",
        "print(nombres_autores)"
      ],
      "metadata": {
        "colab": {
          "base_uri": "https://localhost:8080/"
        },
        "id": "TW7lh54wII1r",
        "outputId": "56d7ab10-ff01-43ad-a5ba-c9e14b55b4ba"
      },
      "execution_count": 36,
      "outputs": [
        {
          "output_type": "stream",
          "name": "stdout",
          "text": [
            "['Raúl', 'Laura']\n"
          ]
        }
      ]
    },
    {
      "cell_type": "code",
      "source": [
        "productos = {\n",
        "    101: \"Leche\",\n",
        "    102: \"Pan\",\n",
        "    103: \"Huevos\"\n",
        "}\n",
        "\n",
        "precios = {\n",
        "    101: 4500,\n",
        "    102: 2500,\n",
        "    103: 8000\n",
        "}\n",
        "\n",
        "ventas_del_dia = [\n",
        "    (101, 5),  # Se vendieron 5 unidades de Leche\n",
        "    (102, 10), # Se vendieron 10 unidades de Pan\n",
        "    (101, 3),  # Se vendieron otras 3 unidades de Leche\n",
        "    (103, 2)   # Se vendieron 2 unidades de Huevos\n",
        "]\n",
        "\n",
        "# Variable para acumular el ingreso total\n",
        "ingreso_total = 0\n",
        "\n",
        "# Recorrer cada venta\n",
        "for producto_id, cantidad in ventas_del_dia:\n",
        "    precio_unitario = precios.get(producto_id, 0)  # Obtener precio o 0 si no existe\n",
        "    ingreso_total += precio_unitario * cantidad\n",
        "\n",
        "print(f\"Ingreso total del día: ${ingreso_total}\")\n"
      ],
      "metadata": {
        "colab": {
          "base_uri": "https://localhost:8080/"
        },
        "id": "YATxnuUfFXhx",
        "outputId": "20a894a8-e1c8-4c24-9fe7-c8aab9b1dc8a"
      },
      "execution_count": 30,
      "outputs": [
        {
          "output_type": "stream",
          "name": "stdout",
          "text": [
            "Ingreso total del día: $77000\n"
          ]
        }
      ]
    }
  ]
}