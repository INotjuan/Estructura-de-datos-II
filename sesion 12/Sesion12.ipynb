{
  "nbformat": 4,
  "nbformat_minor": 0,
  "metadata": {
    "colab": {
      "provenance": []
    },
    "kernelspec": {
      "name": "python3",
      "display_name": "Python 3"
    },
    "language_info": {
      "name": "python"
    }
  },
  "cells": [
    {
      "cell_type": "code",
      "execution_count": 1,
      "metadata": {
        "colab": {
          "base_uri": "https://localhost:8080/"
        },
        "id": "wY1i0Nj9TrUE",
        "outputId": "4b49256f-35df-4460-b0d5-876a59012207"
      },
      "outputs": [
        {
          "output_type": "stream",
          "name": "stdout",
          "text": [
            "(1, 2, 3, 'hola', True)\n"
          ]
        }
      ],
      "source": [
        "# Creación de una tupla con diferentes tipos de datos\n",
        "mi_tupla = (1,2,3,\"hola\", True)\n",
        "print(mi_tupla)  # Imprime la tupla completa"
      ]
    },
    {
      "cell_type": "code",
      "source": [
        "# Tupla con elementos repetidos\n",
        "t = (1,1,2,3,3,3)\n",
        "print(t)"
      ],
      "metadata": {
        "colab": {
          "base_uri": "https://localhost:8080/"
        },
        "id": "hE5gjQKUTwjF",
        "outputId": "dded442e-becc-413c-a72f-b7c3e5472a0a"
      },
      "execution_count": 2,
      "outputs": [
        {
          "output_type": "stream",
          "name": "stdout",
          "text": [
            "(1, 1, 2, 3, 3, 3)\n"
          ]
        }
      ]
    },
    {
      "cell_type": "code",
      "source": [
        "# Las listas son mutables, se pueden modificar\n",
        "lista = [1,2,3]\n",
        "lista[0] = 10   # Cambia el primer elemento de 1 a 10\n",
        "print(lista)"
      ],
      "metadata": {
        "colab": {
          "base_uri": "https://localhost:8080/"
        },
        "id": "3PuURGuGTzA8",
        "outputId": "e83961f4-8b6b-4099-c3cc-a72b2d53e406"
      },
      "execution_count": 3,
      "outputs": [
        {
          "output_type": "stream",
          "name": "stdout",
          "text": [
            "[10, 2, 3]\n"
          ]
        }
      ]
    },
    {
      "cell_type": "code",
      "source": [
        "# Las tuplas son inmutables, no se pueden modificar\n",
        "tupla=(1,2,3)\n",
        "tupla[0] = 10   # ❌ ERROR: No se puede reasignar un valor en una tupla\n",
        "print(tupla)"
      ],
      "metadata": {
        "colab": {
          "base_uri": "https://localhost:8080/",
          "height": 193
        },
        "id": "SbxwWZ5GT1I0",
        "outputId": "f961c258-ff2b-422b-f2db-96486b554c15"
      },
      "execution_count": 4,
      "outputs": [
        {
          "output_type": "error",
          "ename": "TypeError",
          "evalue": "'tuple' object does not support item assignment",
          "traceback": [
            "\u001b[0;31m---------------------------------------------------------------------------\u001b[0m",
            "\u001b[0;31mTypeError\u001b[0m                                 Traceback (most recent call last)",
            "\u001b[0;32m/tmp/ipython-input-2206996850.py\u001b[0m in \u001b[0;36m<cell line: 0>\u001b[0;34m()\u001b[0m\n\u001b[1;32m      1\u001b[0m \u001b[0;31m# Las tuplas son inmutables, no se pueden modificar\u001b[0m\u001b[0;34m\u001b[0m\u001b[0;34m\u001b[0m\u001b[0m\n\u001b[1;32m      2\u001b[0m \u001b[0mtupla\u001b[0m\u001b[0;34m=\u001b[0m\u001b[0;34m(\u001b[0m\u001b[0;36m1\u001b[0m\u001b[0;34m,\u001b[0m\u001b[0;36m2\u001b[0m\u001b[0;34m,\u001b[0m\u001b[0;36m3\u001b[0m\u001b[0;34m)\u001b[0m\u001b[0;34m\u001b[0m\u001b[0;34m\u001b[0m\u001b[0m\n\u001b[0;32m----> 3\u001b[0;31m \u001b[0mtupla\u001b[0m\u001b[0;34m[\u001b[0m\u001b[0;36m0\u001b[0m\u001b[0;34m]\u001b[0m \u001b[0;34m=\u001b[0m \u001b[0;36m10\u001b[0m   \u001b[0;31m# ❌ ERROR: No se puede reasignar un valor en una tupla\u001b[0m\u001b[0;34m\u001b[0m\u001b[0;34m\u001b[0m\u001b[0m\n\u001b[0m\u001b[1;32m      4\u001b[0m \u001b[0mprint\u001b[0m\u001b[0;34m(\u001b[0m\u001b[0mtupla\u001b[0m\u001b[0;34m)\u001b[0m\u001b[0;34m\u001b[0m\u001b[0;34m\u001b[0m\u001b[0m\n",
            "\u001b[0;31mTypeError\u001b[0m: 'tuple' object does not support item assignment"
          ]
        }
      ]
    },
    {
      "cell_type": "code",
      "source": [
        "# Otro ejemplo con tuplas inmutables\n",
        "cordenadas = (20.7128, -74.0060)\n",
        "cordenadas[0] = 41.1  # ❌ ERROR: No se puede cambiar un valor en una tupla"
      ],
      "metadata": {
        "colab": {
          "base_uri": "https://localhost:8080/",
          "height": 176
        },
        "id": "EgvxZlB7T2hT",
        "outputId": "3b4b876b-0eb2-49a4-baa5-7a317cbc4e20"
      },
      "execution_count": 19,
      "outputs": [
        {
          "output_type": "error",
          "ename": "TypeError",
          "evalue": "'tuple' object does not support item assignment",
          "traceback": [
            "\u001b[0;31m---------------------------------------------------------------------------\u001b[0m",
            "\u001b[0;31mTypeError\u001b[0m                                 Traceback (most recent call last)",
            "\u001b[0;32m/tmp/ipython-input-2287399913.py\u001b[0m in \u001b[0;36m<cell line: 0>\u001b[0;34m()\u001b[0m\n\u001b[1;32m      1\u001b[0m \u001b[0;31m# Otro ejemplo con tuplas inmutables\u001b[0m\u001b[0;34m\u001b[0m\u001b[0;34m\u001b[0m\u001b[0m\n\u001b[1;32m      2\u001b[0m \u001b[0mcordenadas\u001b[0m \u001b[0;34m=\u001b[0m \u001b[0;34m(\u001b[0m\u001b[0;36m20.7128\u001b[0m\u001b[0;34m,\u001b[0m \u001b[0;34m-\u001b[0m\u001b[0;36m74.0060\u001b[0m\u001b[0;34m)\u001b[0m\u001b[0;34m\u001b[0m\u001b[0;34m\u001b[0m\u001b[0m\n\u001b[0;32m----> 3\u001b[0;31m \u001b[0mcordenadas\u001b[0m\u001b[0;34m[\u001b[0m\u001b[0;36m0\u001b[0m\u001b[0;34m]\u001b[0m \u001b[0;34m=\u001b[0m \u001b[0;36m41.1\u001b[0m  \u001b[0;31m# ❌ ERROR: No se puede cambiar un valor en una tupla\u001b[0m\u001b[0;34m\u001b[0m\u001b[0;34m\u001b[0m\u001b[0m\n\u001b[0m",
            "\u001b[0;31mTypeError\u001b[0m: 'tuple' object does not support item assignment"
          ]
        }
      ]
    },
    {
      "cell_type": "code",
      "source": [
        "# Diferentes formas de crear tuplas\n",
        "tupla = (1,2,3)\n",
        "tupla2 = (\"a\",\"b\",\"c\")\n",
        "tupla3 = (1,\"hola\", 3, 5)\n",
        "tupla4 = ()       # Tupla vacía\n",
        "tupla5 = (5,)     # Tupla con un solo elemento (necesita la coma)\n",
        "\n",
        "print(tupla)\n",
        "print(tupla2)\n",
        "print(tupla3)\n",
        "print(tupla4)\n",
        "print(tupla5)"
      ],
      "metadata": {
        "colab": {
          "base_uri": "https://localhost:8080/"
        },
        "id": "4qNYM3dqT4wz",
        "outputId": "00da07f1-38b3-4fe3-e3e1-d48875c20bd7"
      },
      "execution_count": 20,
      "outputs": [
        {
          "output_type": "stream",
          "name": "stdout",
          "text": [
            "(1, 2, 3)\n",
            "('a', 'b', 'c')\n",
            "(1, 'hola', 3, 5)\n",
            "()\n",
            "(5,)\n"
          ]
        }
      ]
    },
    {
      "cell_type": "code",
      "source": [
        "# Acceso a elementos de una tupla\n",
        "tupla = (\"python\", 2025, True)\n",
        "print(tupla[0])   # python\n",
        "print(tupla[1])   # 2025\n",
        "print(tupla[-1])  # True (último elemento)"
      ],
      "metadata": {
        "colab": {
          "base_uri": "https://localhost:8080/"
        },
        "id": "T3d8VepqT5mr",
        "outputId": "5e2f6560-9193-4a48-d76b-64d6e036ea38"
      },
      "execution_count": 21,
      "outputs": [
        {
          "output_type": "stream",
          "name": "stdout",
          "text": [
            "python\n",
            "2025\n",
            "True\n"
          ]
        }
      ]
    },
    {
      "cell_type": "code",
      "source": [
        "# Slicing en tuplas\n",
        "tupla = (10,20,30,40,50)\n",
        "print(tupla[1:4])   # (20, 30, 40)\n",
        "print(tupla[:3])    # (10, 20, 30)\n",
        "print(tupla[::2])   # (10, 30, 50)"
      ],
      "metadata": {
        "colab": {
          "base_uri": "https://localhost:8080/"
        },
        "id": "9mFSsYQhT8NT",
        "outputId": "466445f8-0f69-410f-e773-a04f11dfabbf"
      },
      "execution_count": 22,
      "outputs": [
        {
          "output_type": "stream",
          "name": "stdout",
          "text": [
            "(20, 30, 40)\n",
            "(10, 20, 30)\n",
            "(10, 30, 50)\n"
          ]
        }
      ]
    },
    {
      "cell_type": "code",
      "source": [
        "# Iteración con tuplas\n",
        "colores = (\"rojo\", \"verde\", \"azul\")\n",
        "for color in colores:\n",
        "    print(color)"
      ],
      "metadata": {
        "colab": {
          "base_uri": "https://localhost:8080/"
        },
        "id": "98R6cRNMT8ui",
        "outputId": "6e2c3526-8281-4f84-9070-ed14aef86993"
      },
      "execution_count": 23,
      "outputs": [
        {
          "output_type": "stream",
          "name": "stdout",
          "text": [
            "rojo\n",
            "verde\n",
            "azul\n"
          ]
        }
      ]
    },
    {
      "cell_type": "code",
      "source": [
        "# Tuplas anidadas\n",
        "t = ((1,2),(3,4),(5,6))\n",
        "print(t[0])     # (1,2)\n",
        "print(t[0][1])  # 2"
      ],
      "metadata": {
        "colab": {
          "base_uri": "https://localhost:8080/"
        },
        "id": "krWUf-E-T_WT",
        "outputId": "86b5b1a2-f48d-461f-d817-1ae7300e9864"
      },
      "execution_count": 24,
      "outputs": [
        {
          "output_type": "stream",
          "name": "stdout",
          "text": [
            "(1, 2)\n",
            "2\n"
          ]
        }
      ]
    },
    {
      "cell_type": "code",
      "source": [
        "# Concatenación de tuplas\n",
        "t1 =(1,2,3)\n",
        "t2 =(4,5,6)\n",
        "resultado = t1 + t2\n",
        "print(resultado)   # (1,2,3,4,5,6)"
      ],
      "metadata": {
        "colab": {
          "base_uri": "https://localhost:8080/"
        },
        "id": "H52uGNmxUAzr",
        "outputId": "a4845431-997b-4d96-d077-af4643c9b400"
      },
      "execution_count": 25,
      "outputs": [
        {
          "output_type": "stream",
          "name": "stdout",
          "text": [
            "(1, 2, 3, 4, 5, 6)\n"
          ]
        }
      ]
    },
    {
      "cell_type": "code",
      "source": [
        "# Repetición de elementos en tuplas\n",
        "t1 = (\"python\",) *3\n",
        "print(t1)   # ('python', 'python', 'python')"
      ],
      "metadata": {
        "colab": {
          "base_uri": "https://localhost:8080/"
        },
        "id": "EjBwIIrEUCLS",
        "outputId": "c4b355e1-8898-4de4-ae30-e8bad41de3a3"
      },
      "execution_count": 26,
      "outputs": [
        {
          "output_type": "stream",
          "name": "stdout",
          "text": [
            "('python', 'python', 'python')\n"
          ]
        }
      ]
    },
    {
      "cell_type": "code",
      "source": [
        "# Verificar pertenencia\n",
        "t = (10,20,30,40)\n",
        "print(20 in t)       # True\n",
        "print(5 not in t)    # True"
      ],
      "metadata": {
        "colab": {
          "base_uri": "https://localhost:8080/"
        },
        "id": "VS7BqIq0UDer",
        "outputId": "02060db7-c5ad-4d73-ae08-87c83c505a99"
      },
      "execution_count": 27,
      "outputs": [
        {
          "output_type": "stream",
          "name": "stdout",
          "text": [
            "True\n",
            "True\n"
          ]
        }
      ]
    },
    {
      "cell_type": "code",
      "source": [
        "# Desempaquetar tuplas\n",
        "persona = (\"nicolas\", 22, \"colombia\")\n",
        "nombre, edad, pais= persona\n",
        "print(nombre)\n",
        "print(edad)\n",
        "print(pais)"
      ],
      "metadata": {
        "colab": {
          "base_uri": "https://localhost:8080/"
        },
        "id": "9yodis_EUE06",
        "outputId": "6c51d1b5-6b2d-4eb9-cfa0-6a1725a29225"
      },
      "execution_count": 28,
      "outputs": [
        {
          "output_type": "stream",
          "name": "stdout",
          "text": [
            "nicolas\n",
            "22\n",
            "colombia\n"
          ]
        }
      ]
    },
    {
      "cell_type": "code",
      "source": [
        "\n",
        "# Métodos count() e index()\n",
        "t = (1,2,2,3,4,5)\n",
        "print(t.count(2))  # Cuenta cuántas veces aparece el 2\n",
        "print(t.index(3))  # Devuelve la posición de 3"
      ],
      "metadata": {
        "colab": {
          "base_uri": "https://localhost:8080/"
        },
        "id": "4Nbj28TYUGWZ",
        "outputId": "48331e8b-9677-495c-a92e-820d45af486a"
      },
      "execution_count": 29,
      "outputs": [
        {
          "output_type": "stream",
          "name": "stdout",
          "text": [
            "2\n",
            "3\n"
          ]
        }
      ]
    },
    {
      "cell_type": "code",
      "source": [
        "# Funciones integradas con tuplas\n",
        "t = (5,1,7,3)\n",
        "print(len(t))       # Longitud de la tupla\n",
        "print(max(t))       # Máximo\n",
        "print(min(t))       # Mínimo\n",
        "print(sum(t))       # Suma de elementos\n",
        "print(sorted(t))    # Lista ordenada de la tupla"
      ],
      "metadata": {
        "colab": {
          "base_uri": "https://localhost:8080/"
        },
        "id": "HeaREz7IUH3B",
        "outputId": "c200a6a1-e089-4a9f-e81f-eaf3d0e4ecfc"
      },
      "execution_count": 30,
      "outputs": [
        {
          "output_type": "stream",
          "name": "stdout",
          "text": [
            "4\n",
            "7\n",
            "1\n",
            "16\n",
            "[1, 3, 5, 7]\n"
          ]
        }
      ]
    },
    {
      "cell_type": "code",
      "source": [
        "# Convertir lista en tupla\n",
        "lista = [1,2,3]\n",
        "tupla = tuple(lista)\n",
        "print(tupla)"
      ],
      "metadata": {
        "colab": {
          "base_uri": "https://localhost:8080/"
        },
        "id": "AMrLznDZUJTB",
        "outputId": "5641e3fe-9638-4ae5-b92b-767d75259532"
      },
      "execution_count": 31,
      "outputs": [
        {
          "output_type": "stream",
          "name": "stdout",
          "text": [
            "(1, 2, 3)\n"
          ]
        }
      ]
    },
    {
      "cell_type": "code",
      "source": [
        "# Convertir tupla en lista\n",
        "nueva_lista = list(tupla)\n",
        "print(nueva_lista)"
      ],
      "metadata": {
        "colab": {
          "base_uri": "https://localhost:8080/"
        },
        "id": "sKjIWFd6ULG5",
        "outputId": "e3d59f02-c45e-41ae-ce00-4fcafcc95449"
      },
      "execution_count": 32,
      "outputs": [
        {
          "output_type": "stream",
          "name": "stdout",
          "text": [
            "[1, 2, 3]\n"
          ]
        }
      ]
    },
    {
      "cell_type": "code",
      "source": [
        "# Ejemplo práctico: acceso por índice\n",
        "persona = (\"Nicolas\",22,\"Colombia\")\n",
        "print(\"Nombre:\",persona[0])\n",
        "print(\"Edad:\",persona[1])\n",
        "print(\"Pais:\",persona[2])"
      ],
      "metadata": {
        "colab": {
          "base_uri": "https://localhost:8080/"
        },
        "id": "TiUIglYoUMR6",
        "outputId": "a9cdaf76-913e-4b8a-adac-5d112af661b0"
      },
      "execution_count": 33,
      "outputs": [
        {
          "output_type": "stream",
          "name": "stdout",
          "text": [
            "Nombre: Nicolas\n",
            "Edad: 22\n",
            "Pais: Colombia\n"
          ]
        }
      ]
    },
    {
      "cell_type": "code",
      "source": [
        "# Uso de tuplas como clave en diccionarios\n",
        "cordenadas = {}\n",
        "punto = (10,20)\n",
        "cordenadas[punto] = \"Ubicacion A\"\n",
        "print(cordenadas)"
      ],
      "metadata": {
        "colab": {
          "base_uri": "https://localhost:8080/"
        },
        "id": "T_upbF1FUNli",
        "outputId": "8b13d235-1655-442a-d951-6f7d144510ba"
      },
      "execution_count": 34,
      "outputs": [
        {
          "output_type": "stream",
          "name": "stdout",
          "text": [
            "{(10, 20): 'Ubicacion A'}\n"
          ]
        }
      ]
    },
    {
      "cell_type": "code",
      "source": [
        "# Función que devuelve múltiples resultados usando tuplas\n",
        "def operacion (a,b):\n",
        "  return a + b, a - b, a * b\n",
        "\n",
        "suma,resta,producto = operacion(5,3)\n",
        "print(suma,resta,producto)"
      ],
      "metadata": {
        "colab": {
          "base_uri": "https://localhost:8080/"
        },
        "id": "FOO85kQiUQ1J",
        "outputId": "d55087cf-efbf-4638-d2a9-cba0f56b47da"
      },
      "execution_count": 35,
      "outputs": [
        {
          "output_type": "stream",
          "name": "stdout",
          "text": [
            "8 2 15\n"
          ]
        }
      ]
    },
    {
      "cell_type": "code",
      "source": [
        "# Uso de enumerate con tuplas\n",
        "frutas = (\"manzana\", \"banana\", \"cereza\")\n",
        "for i, fruta in enumerate(frutas):\n",
        "  print(i, fruta)"
      ],
      "metadata": {
        "colab": {
          "base_uri": "https://localhost:8080/"
        },
        "id": "EFcvOEz6USYB",
        "outputId": "88ded2ce-e5c7-4a41-ed24-2538feeeae86"
      },
      "execution_count": 36,
      "outputs": [
        {
          "output_type": "stream",
          "name": "stdout",
          "text": [
            "0 manzana\n",
            "1 banana\n",
            "2 cereza\n"
          ]
        }
      ]
    },
    {
      "cell_type": "code",
      "source": [
        "# Intercambio de valores con tuplas\n",
        "a, b = 10,20\n",
        "a, b = b, a\n",
        "print(a,b)"
      ],
      "metadata": {
        "colab": {
          "base_uri": "https://localhost:8080/"
        },
        "id": "4jb2M4NWUUUA",
        "outputId": "3bdf004b-fffa-410f-f2ad-2cce0b1c87d7"
      },
      "execution_count": 37,
      "outputs": [
        {
          "output_type": "stream",
          "name": "stdout",
          "text": [
            "20 10\n"
          ]
        }
      ]
    },
    {
      "cell_type": "markdown",
      "source": [
        "\n",
        "# ===============================\n",
        "# EJERCICIOS\n",
        "# ==============================="
      ],
      "metadata": {
        "id": "frAnrXkTUWmI"
      }
    },
    {
      "cell_type": "code",
      "source": [
        "# Ejercicio 1 – Crear una tupla\n",
        "t = (1, 2, 3, 4, 5)\n",
        "print(t) # (1, 2, 3, 4, 5)"
      ],
      "metadata": {
        "colab": {
          "base_uri": "https://localhost:8080/"
        },
        "id": "9ii8_SwzUXlH",
        "outputId": "b7143d54-0f53-4d1e-8fa0-7a1ade615cbd"
      },
      "execution_count": 39,
      "outputs": [
        {
          "output_type": "stream",
          "name": "stdout",
          "text": [
            "(1, 2, 3, 4, 5)\n"
          ]
        }
      ]
    },
    {
      "cell_type": "code",
      "source": [
        "\n",
        "# Ejercicio 2 – Acceder al tercer elemento\n",
        "t = (10, 20, 30, 40, 50)\n",
        "print(t[2]) # 30"
      ],
      "metadata": {
        "colab": {
          "base_uri": "https://localhost:8080/"
        },
        "id": "XgpIAdxkUZWv",
        "outputId": "ed6e1577-a764-4a2b-99da-cf0050e1b0ae"
      },
      "execution_count": 40,
      "outputs": [
        {
          "output_type": "stream",
          "name": "stdout",
          "text": [
            "30\n"
          ]
        }
      ]
    },
    {
      "cell_type": "code",
      "source": [
        "# Ejercicio 3 – Tupla con nombre y edad\n",
        "info = (\"Nicolás\", 22)\n",
        "print(\"Nombre:\", info[0], \"Edad:\", info[1])"
      ],
      "metadata": {
        "colab": {
          "base_uri": "https://localhost:8080/"
        },
        "id": "uKVdVZrEUbrP",
        "outputId": "ee4f9a5a-799e-4141-dd21-9a9bf0955fc2"
      },
      "execution_count": 41,
      "outputs": [
        {
          "output_type": "stream",
          "name": "stdout",
          "text": [
            "Nombre: Nicolás Edad: 22\n"
          ]
        }
      ]
    },
    {
      "cell_type": "code",
      "source": [
        "\n",
        "# Ejercicio 4 – Concatenar tuplas\n",
        "t1 = (1, 2, 3)\n",
        "t2 = (4, 5, 6)\n",
        "print(t1 + t2) # (1, 2, 3, 4, 5, 6)"
      ],
      "metadata": {
        "colab": {
          "base_uri": "https://localhost:8080/"
        },
        "id": "3pRZqMIIUdAH",
        "outputId": "0292d08f-db37-4ac8-908d-3029d1362fff"
      },
      "execution_count": 42,
      "outputs": [
        {
          "output_type": "stream",
          "name": "stdout",
          "text": [
            "(1, 2, 3, 4, 5, 6)\n"
          ]
        }
      ]
    },
    {
      "cell_type": "code",
      "source": [
        "# Ejercicio 5 – Repetir una tupla\n",
        "t = (\"Python\",) * 3\n",
        "print(t) # ('Python', 'Python', 'Python')"
      ],
      "metadata": {
        "colab": {
          "base_uri": "https://localhost:8080/"
        },
        "id": "mJDD7bbqUeMw",
        "outputId": "36a61207-43af-4332-a123-8b222bae3ae7"
      },
      "execution_count": 43,
      "outputs": [
        {
          "output_type": "stream",
          "name": "stdout",
          "text": [
            "('Python', 'Python', 'Python')\n"
          ]
        }
      ]
    },
    {
      "cell_type": "code",
      "source": [
        "# Ejercicio 6 – Verificar pertenencia\n",
        "t = (5, 10, 15, 20, 25)\n",
        "print(20 in t) # True"
      ],
      "metadata": {
        "colab": {
          "base_uri": "https://localhost:8080/"
        },
        "id": "-QjawCMMUfaY",
        "outputId": "30b6937e-422e-400a-d78b-7a2263627211"
      },
      "execution_count": 44,
      "outputs": [
        {
          "output_type": "stream",
          "name": "stdout",
          "text": [
            "True\n"
          ]
        }
      ]
    },
    {
      "cell_type": "code",
      "source": [
        "# Ejercicio 7 – Desempaquetar tupla\n",
        "paises = (\"Colombia\", \"México\", \"Argentina\")\n",
        "a, b, c = paises\n",
        "print(a, b, c) # Colombia México Argentina"
      ],
      "metadata": {
        "colab": {
          "base_uri": "https://localhost:8080/"
        },
        "id": "B9Kdmc0XUhr4",
        "outputId": "9dec999b-67ee-41a0-e038-ccbe7781a010"
      },
      "execution_count": 45,
      "outputs": [
        {
          "output_type": "stream",
          "name": "stdout",
          "text": [
            "Colombia México Argentina\n"
          ]
        }
      ]
    },
    {
      "cell_type": "code",
      "source": [
        "# Ejercicio 8 – Tupla anidada\n",
        "t = ((1, 2), (3, 4))\n",
        "print(t[1][1]) # 4"
      ],
      "metadata": {
        "colab": {
          "base_uri": "https://localhost:8080/"
        },
        "id": "BwveX8ZyUi62",
        "outputId": "bba3be44-3f4a-406a-88e6-39ba3a51e452"
      },
      "execution_count": 46,
      "outputs": [
        {
          "output_type": "stream",
          "name": "stdout",
          "text": [
            "4\n"
          ]
        }
      ]
    },
    {
      "cell_type": "code",
      "source": [
        "# Ejercicio 9 – Función con suma y producto\n",
        "def operaciones(a, b):\n",
        "    return a+b, a*b\n",
        "print(operaciones(3, 5)) # (8, 15)"
      ],
      "metadata": {
        "colab": {
          "base_uri": "https://localhost:8080/"
        },
        "id": "YMSkBdQfUlBW",
        "outputId": "7572f867-9eba-4ad7-d308-4b890ef197dc"
      },
      "execution_count": 47,
      "outputs": [
        {
          "output_type": "stream",
          "name": "stdout",
          "text": [
            "(8, 15)\n"
          ]
        }
      ]
    },
    {
      "cell_type": "code",
      "source": [
        "# Ejercicio 10 – Intercambio de valores\n",
        "a, b = 7, 9\n",
        "a, b = b, a\n",
        "print(a, b) # 9 7"
      ],
      "metadata": {
        "colab": {
          "base_uri": "https://localhost:8080/"
        },
        "id": "bva4KEhQUnXH",
        "outputId": "844182da-a463-4d2c-8802-9a1e62b7272e"
      },
      "execution_count": 48,
      "outputs": [
        {
          "output_type": "stream",
          "name": "stdout",
          "text": [
            "9 7\n"
          ]
        }
      ]
    },
    {
      "cell_type": "code",
      "source": [
        "# Ejercicio 11 – Contar apariciones\n",
        "t = (2, 4, 6, 2, 8, 2)\n",
        "print(t.count(2)) # 3"
      ],
      "metadata": {
        "colab": {
          "base_uri": "https://localhost:8080/"
        },
        "id": "sdpynXn8Upje",
        "outputId": "b9128060-6105-4193-f72e-a20638d73d89"
      },
      "execution_count": 49,
      "outputs": [
        {
          "output_type": "stream",
          "name": "stdout",
          "text": [
            "3\n"
          ]
        }
      ]
    },
    {
      "cell_type": "code",
      "source": [
        "# Ejercicio 12 – Índice de un valor\n",
        "t = (10, 20, 30, 40, 50)\n",
        "print(t.index(50)) # 4"
      ],
      "metadata": {
        "colab": {
          "base_uri": "https://localhost:8080/"
        },
        "id": "GP9-rOMuUq7e",
        "outputId": "01144d2f-8079-4fee-e1aa-0cdd2ccbe1e3"
      },
      "execution_count": 50,
      "outputs": [
        {
          "output_type": "stream",
          "name": "stdout",
          "text": [
            "4\n"
          ]
        }
      ]
    },
    {
      "cell_type": "code",
      "source": [
        "# Ejercicio 13 – Funciones integradas\n",
        "t = (4, 7, 1, 9, 3)\n",
        "print(max(t)) # 9\n",
        "print(min(t)) # 1\n",
        "print(sum(t)) # 24"
      ],
      "metadata": {
        "colab": {
          "base_uri": "https://localhost:8080/"
        },
        "id": "Su9PmJfLUsgo",
        "outputId": "8e68f791-3f5a-4e38-961d-d29acffe4624"
      },
      "execution_count": 51,
      "outputs": [
        {
          "output_type": "stream",
          "name": "stdout",
          "text": [
            "9\n",
            "1\n",
            "24\n"
          ]
        }
      ]
    },
    {
      "cell_type": "code",
      "source": [
        "# Ejercicio 14 – Convertir lista a tupla\n",
        "lista = [10, 20, 30]\n",
        "t = tuple(lista)\n",
        "print(t) # (10, 20, 30)"
      ],
      "metadata": {
        "colab": {
          "base_uri": "https://localhost:8080/"
        },
        "id": "bhiP_cSKUt2d",
        "outputId": "264dce64-8af3-4a86-db4e-6d5684110e96"
      },
      "execution_count": 52,
      "outputs": [
        {
          "output_type": "stream",
          "name": "stdout",
          "text": [
            "(10, 20, 30)\n"
          ]
        }
      ]
    },
    {
      "cell_type": "code",
      "source": [
        "# Ejercicio 15 – Enumerate con tuplas\n",
        "colores = (\"rojo\", \"verde\", \"azul\")\n",
        "for i, color in enumerate(colores):\n",
        "    print(i, color)"
      ],
      "metadata": {
        "colab": {
          "base_uri": "https://localhost:8080/"
        },
        "id": "WZ7KJFrXUvqW",
        "outputId": "d4fa22e3-5636-4bc1-c993-7f5029130945"
      },
      "execution_count": 53,
      "outputs": [
        {
          "output_type": "stream",
          "name": "stdout",
          "text": [
            "0 rojo\n",
            "1 verde\n",
            "2 azul\n"
          ]
        }
      ]
    }
  ]
}