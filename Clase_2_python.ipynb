{
  "nbformat": 4,
  "nbformat_minor": 0,
  "metadata": {
    "colab": {
      "provenance": []
    },
    "kernelspec": {
      "name": "python3",
      "display_name": "Python 3"
    },
    "language_info": {
      "name": "python"
    }
  },
  "cells": [
    {
      "cell_type": "code",
      "source": [
        "lst1 = [10, 20, 30, 40, 50]\n",
        "lst2 = [2, 2, 2, 2, 2]\n",
        "\n",
        "\n",
        "vctr1 = np.array(lst1)\n",
        "vctr2 = np.array(lst2)\n",
        "\n",
        "print(\"Vector creado: \")\n",
        "print(vctr1)\n",
        "print(vctr2)\n",
        "\n",
        "vctr_dot = vctr1.dot(vctr2)\n",
        "\n",
        "print(\"Resultado: \")\n",
        "print(vctr_dot)"
      ],
      "metadata": {
        "colab": {
          "base_uri": "https://localhost:8080/"
        },
        "id": "ErQEu3p_DDgA",
        "outputId": "962ab7ab-e3bc-417b-b710-41352bff8012"
      },
      "execution_count": 53,
      "outputs": [
        {
          "output_type": "stream",
          "name": "stdout",
          "text": [
            "Vector creado: \n",
            "[10 20 30 40 50]\n",
            "[2 2 2 2 2]\n",
            "Resultado: \n",
            "300\n"
          ]
        }
      ]
    },
    {
      "cell_type": "code",
      "source": [
        "lst1 = [10, 20, 30, 40, 50]\n",
        "lst2 = [1, 1, 1, 1, 1]\n",
        "\n",
        "\n",
        "vctr1 = np.array(lst1)\n",
        "vctr2 = np.array(lst2)\n",
        "\n",
        "print(\"Vector creado: \")\n",
        "print(vctr1)\n",
        "print(vctr2)\n",
        "\n",
        "vctr_dot = vctr1.dot(vctr2)\n",
        "\n",
        "print(\"Resultado: \")\n",
        "print(vctr_dot)"
      ],
      "metadata": {
        "colab": {
          "base_uri": "https://localhost:8080/"
        },
        "id": "sTMpE2xcCtKi",
        "outputId": "b9e5e42a-dd3e-4f22-cef2-25604acb7610"
      },
      "execution_count": 52,
      "outputs": [
        {
          "output_type": "stream",
          "name": "stdout",
          "text": [
            "Vector creado: \n",
            "[10 20 30 40 50]\n",
            "[1 1 1 1 1]\n",
            "Resultado: \n",
            "150\n"
          ]
        }
      ]
    },
    {
      "cell_type": "code",
      "source": [
        "lst1 = [10, 20, 30, 40, 50]\n",
        "lst2 = [1, 2, 3, 4, 5]\n",
        "\n",
        "\n",
        "vctr1 = np.array(lst1)\n",
        "vctr2 = np.array(lst2)\n",
        "\n",
        "print(\"Vector creado: \")\n",
        "print(vctr1)\n",
        "print(vctr2)\n",
        "\n",
        "vctr_add = vctr1 - vctr2\n",
        "vctr_add2 = vctr1 * vctr2\n",
        "vctr_add3 = vctr1 / vctr2\n",
        "\n",
        "print(\"Resultado: \")\n",
        "print(vctr_add)\n",
        "print(vctr_add2)\n",
        "print(vctr_add3)"
      ],
      "metadata": {
        "colab": {
          "base_uri": "https://localhost:8080/"
        },
        "id": "eiimG_LgBeIQ",
        "outputId": "e3564896-d9e1-4391-c865-f2fed40a7afb"
      },
      "execution_count": 51,
      "outputs": [
        {
          "output_type": "stream",
          "name": "stdout",
          "text": [
            "Vector creado: \n",
            "[10 20 30 40 50]\n",
            "[1 2 3 4 5]\n",
            "Resultado: \n",
            "[ 9 18 27 36 45]\n",
            "[ 10  40  90 160 250]\n",
            "[10. 10. 10. 10. 10.]\n"
          ]
        }
      ]
    },
    {
      "cell_type": "code",
      "source": [
        "lst1 = [1, 2, 3, 4, 5]\n",
        "lst2 = [10, 20, 30, 40, 50, 60, 70]\n",
        "\n",
        "\n",
        "vctr1 = np.array(lst1)\n",
        "vctr2 = np.array(lst2)\n",
        "\n",
        "print(\"Vector creado: \")\n",
        "print(vctr1)\n",
        "print(vctr2)\n",
        "\n",
        "vctr_add = vctr1 + vctr2\n",
        "\n",
        "print(\"Resultado: \")\n",
        "print(vctr_add)"
      ],
      "metadata": {
        "colab": {
          "base_uri": "https://localhost:8080/",
          "height": 263
        },
        "id": "LntKkuhgBPo_",
        "outputId": "d0ba8d9a-ac26-40f2-db44-c80cad12af82"
      },
      "execution_count": 45,
      "outputs": [
        {
          "output_type": "stream",
          "name": "stdout",
          "text": [
            "Vector creado: \n",
            "[1 2 3 4 5]\n",
            "[10 20 30 40 50 60 70]\n"
          ]
        },
        {
          "output_type": "error",
          "ename": "ValueError",
          "evalue": "operands could not be broadcast together with shapes (5,) (7,) ",
          "traceback": [
            "\u001b[0;31m---------------------------------------------------------------------------\u001b[0m",
            "\u001b[0;31mValueError\u001b[0m                                Traceback (most recent call last)",
            "\u001b[0;32m/tmp/ipython-input-3901968168.py\u001b[0m in \u001b[0;36m<cell line: 0>\u001b[0;34m()\u001b[0m\n\u001b[1;32m     10\u001b[0m \u001b[0mprint\u001b[0m\u001b[0;34m(\u001b[0m\u001b[0mvctr2\u001b[0m\u001b[0;34m)\u001b[0m\u001b[0;34m\u001b[0m\u001b[0;34m\u001b[0m\u001b[0m\n\u001b[1;32m     11\u001b[0m \u001b[0;34m\u001b[0m\u001b[0m\n\u001b[0;32m---> 12\u001b[0;31m \u001b[0mvctr_add\u001b[0m \u001b[0;34m=\u001b[0m \u001b[0mvctr1\u001b[0m \u001b[0;34m+\u001b[0m \u001b[0mvctr2\u001b[0m\u001b[0;34m\u001b[0m\u001b[0;34m\u001b[0m\u001b[0m\n\u001b[0m\u001b[1;32m     13\u001b[0m \u001b[0;34m\u001b[0m\u001b[0m\n\u001b[1;32m     14\u001b[0m \u001b[0mprint\u001b[0m\u001b[0;34m(\u001b[0m\u001b[0;34m\"Resultado: \"\u001b[0m\u001b[0;34m)\u001b[0m\u001b[0;34m\u001b[0m\u001b[0;34m\u001b[0m\u001b[0m\n",
            "\u001b[0;31mValueError\u001b[0m: operands could not be broadcast together with shapes (5,) (7,) "
          ]
        }
      ]
    },
    {
      "cell_type": "code",
      "source": [
        "lst1 = [1, 2, 3, 4, 5]\n",
        "lst2 = [10, 20, 30, 40, 50]\n",
        "\n",
        "\n",
        "vctr1 = np.array(lst1)\n",
        "vctr2 = np.array(lst2)\n",
        "\n",
        "print(\"Vector creado: \")\n",
        "print(vctr1)\n",
        "print(vctr2)\n",
        "\n",
        "vctr_add = vctr1 + vctr2\n",
        "\n",
        "print(\"Resultado: \")\n",
        "print(vctr_add)"
      ],
      "metadata": {
        "colab": {
          "base_uri": "https://localhost:8080/"
        },
        "id": "5oKToaFBAVGl",
        "outputId": "3794bfa5-8ef8-49a2-e42e-2ccfe1c2bbee"
      },
      "execution_count": 46,
      "outputs": [
        {
          "output_type": "stream",
          "name": "stdout",
          "text": [
            "Vector creado: \n",
            "[1 2 3 4 5]\n",
            "[10 20 30 40 50]\n",
            "Resultado: \n",
            "[11 22 33 44 55]\n"
          ]
        }
      ]
    },
    {
      "cell_type": "code",
      "source": [
        "import numpy as np\n",
        "\n",
        "lst = [[1], [2], [3]]\n",
        "Nomb = [[\"Juan\"], [\"Carolina\"], [\"Andres\"]]\n",
        "cedu = [[\"111111\"], [\"222222\"], [\"333333\"]]\n",
        "\n",
        "vctr = np.array(lst)\n",
        "vctr2 = np.array(Nomb)\n",
        "vctr3 = np.array(cedu)\n",
        "\n",
        "print(\"Vector creado: \")\n",
        "print(vctr)\n",
        "print(vctr2)\n",
        "print(vctr3)"
      ],
      "metadata": {
        "colab": {
          "base_uri": "https://localhost:8080/"
        },
        "id": "aNkwvoh3-9HY",
        "outputId": "7ea358b9-2194-4f51-cc0f-6b1d98e6900a"
      },
      "execution_count": 39,
      "outputs": [
        {
          "output_type": "stream",
          "name": "stdout",
          "text": [
            "Vector creado: \n",
            "[[1]\n",
            " [2]\n",
            " [3]]\n",
            "[['Juan']\n",
            " ['Carolina']\n",
            " ['Andres']]\n",
            "[['111111']\n",
            " ['222222']\n",
            " ['333333']]\n"
          ]
        }
      ]
    },
    {
      "cell_type": "code",
      "source": [
        "import numpy as np\n",
        "\n",
        "lst = [1,2,3,4,5]\n",
        "Nomb = [\"Juan\", \"Carolina\", \"Andres\", \"Laura\", \"Jefry\"]\n",
        "cedu = [\"111111\", \"222222\", \"333333\", \"444444\", \"555555\"]\n",
        "\n",
        "vctr = np.array(lst)\n",
        "vctr2 = np.array(Nomb)\n",
        "vctr3 = np.array(cedu)\n",
        "\n",
        "print(\"Vector creado: \")\n",
        "print(vctr)\n",
        "print(vctr2)\n",
        "print(vctr3)"
      ],
      "metadata": {
        "colab": {
          "base_uri": "https://localhost:8080/"
        },
        "id": "umKRE7Gy9S3O",
        "outputId": "58cf4f7d-ede7-405e-c9fe-0ca9a84f769d"
      },
      "execution_count": 35,
      "outputs": [
        {
          "output_type": "stream",
          "name": "stdout",
          "text": [
            "Vector creado: \n",
            "[1 2 3 4 5]\n",
            "['Juan' 'Carolina' 'Andres' 'Laura' 'Jefry']\n",
            "['111111' '222222' '333333' '444444' '555555']\n"
          ]
        }
      ]
    },
    {
      "cell_type": "code",
      "source": [
        "# Asignación Lista\n",
        "Nombres = []\n",
        "Cedulas = []\n",
        "Direcciones = []\n",
        "Tamaño = 3\n",
        "\n",
        "for i in range(Tamaño):\n",
        "    print(\"Registro número:\", i+1)\n",
        "    nombre = input(\"Nombre: \")\n",
        "    cedula = input(\"Cédula: \")\n",
        "    direccion = input(\"Dirección: \")\n",
        "\n",
        "    # Agregar a las listas\n",
        "    Nombres.append(nombre)\n",
        "    Cedulas.append(cedula)\n",
        "    Direcciones.append(direccion)\n",
        "\n",
        "print(\"\\n--- Resultados ---\")\n",
        "print(\"Nombres:\", Nombres)\n",
        "print(\"Cédulas:\", Cedulas)\n",
        "print(\"Direcciones:\", Direcciones)\n"
      ],
      "metadata": {
        "colab": {
          "base_uri": "https://localhost:8080/",
          "height": 373
        },
        "id": "aTynJ_i44Fe6",
        "outputId": "d5f08353-d633-4e3b-ea7c-f530a1babe2b"
      },
      "execution_count": 36,
      "outputs": [
        {
          "output_type": "stream",
          "name": "stdout",
          "text": [
            "Registro número: 1\n"
          ]
        },
        {
          "output_type": "error",
          "ename": "KeyboardInterrupt",
          "evalue": "Interrupted by user",
          "traceback": [
            "\u001b[0;31m---------------------------------------------------------------------------\u001b[0m",
            "\u001b[0;31mKeyboardInterrupt\u001b[0m                         Traceback (most recent call last)",
            "\u001b[0;32m/tmp/ipython-input-1748771285.py\u001b[0m in \u001b[0;36m<cell line: 0>\u001b[0;34m()\u001b[0m\n\u001b[1;32m      7\u001b[0m \u001b[0;32mfor\u001b[0m \u001b[0mi\u001b[0m \u001b[0;32min\u001b[0m \u001b[0mrange\u001b[0m\u001b[0;34m(\u001b[0m\u001b[0mTamaño\u001b[0m\u001b[0;34m)\u001b[0m\u001b[0;34m:\u001b[0m\u001b[0;34m\u001b[0m\u001b[0;34m\u001b[0m\u001b[0m\n\u001b[1;32m      8\u001b[0m     \u001b[0mprint\u001b[0m\u001b[0;34m(\u001b[0m\u001b[0;34m\"Registro número:\"\u001b[0m\u001b[0;34m,\u001b[0m \u001b[0mi\u001b[0m\u001b[0;34m+\u001b[0m\u001b[0;36m1\u001b[0m\u001b[0;34m)\u001b[0m\u001b[0;34m\u001b[0m\u001b[0;34m\u001b[0m\u001b[0m\n\u001b[0;32m----> 9\u001b[0;31m     \u001b[0mnombre\u001b[0m \u001b[0;34m=\u001b[0m \u001b[0minput\u001b[0m\u001b[0;34m(\u001b[0m\u001b[0;34m\"Nombre: \"\u001b[0m\u001b[0;34m)\u001b[0m\u001b[0;34m\u001b[0m\u001b[0;34m\u001b[0m\u001b[0m\n\u001b[0m\u001b[1;32m     10\u001b[0m     \u001b[0mcedula\u001b[0m \u001b[0;34m=\u001b[0m \u001b[0minput\u001b[0m\u001b[0;34m(\u001b[0m\u001b[0;34m\"Cédula: \"\u001b[0m\u001b[0;34m)\u001b[0m\u001b[0;34m\u001b[0m\u001b[0;34m\u001b[0m\u001b[0m\n\u001b[1;32m     11\u001b[0m     \u001b[0mdireccion\u001b[0m \u001b[0;34m=\u001b[0m \u001b[0minput\u001b[0m\u001b[0;34m(\u001b[0m\u001b[0;34m\"Dirección: \"\u001b[0m\u001b[0;34m)\u001b[0m\u001b[0;34m\u001b[0m\u001b[0;34m\u001b[0m\u001b[0m\n",
            "\u001b[0;32m/usr/local/lib/python3.12/dist-packages/ipykernel/kernelbase.py\u001b[0m in \u001b[0;36mraw_input\u001b[0;34m(self, prompt)\u001b[0m\n\u001b[1;32m   1175\u001b[0m                 \u001b[0;34m\"raw_input was called, but this frontend does not support input requests.\"\u001b[0m\u001b[0;34m\u001b[0m\u001b[0;34m\u001b[0m\u001b[0m\n\u001b[1;32m   1176\u001b[0m             )\n\u001b[0;32m-> 1177\u001b[0;31m         return self._input_request(\n\u001b[0m\u001b[1;32m   1178\u001b[0m             \u001b[0mstr\u001b[0m\u001b[0;34m(\u001b[0m\u001b[0mprompt\u001b[0m\u001b[0;34m)\u001b[0m\u001b[0;34m,\u001b[0m\u001b[0;34m\u001b[0m\u001b[0;34m\u001b[0m\u001b[0m\n\u001b[1;32m   1179\u001b[0m             \u001b[0mself\u001b[0m\u001b[0;34m.\u001b[0m\u001b[0m_parent_ident\u001b[0m\u001b[0;34m[\u001b[0m\u001b[0;34m\"shell\"\u001b[0m\u001b[0;34m]\u001b[0m\u001b[0;34m,\u001b[0m\u001b[0;34m\u001b[0m\u001b[0;34m\u001b[0m\u001b[0m\n",
            "\u001b[0;32m/usr/local/lib/python3.12/dist-packages/ipykernel/kernelbase.py\u001b[0m in \u001b[0;36m_input_request\u001b[0;34m(self, prompt, ident, parent, password)\u001b[0m\n\u001b[1;32m   1217\u001b[0m             \u001b[0;32mexcept\u001b[0m \u001b[0mKeyboardInterrupt\u001b[0m\u001b[0;34m:\u001b[0m\u001b[0;34m\u001b[0m\u001b[0;34m\u001b[0m\u001b[0m\n\u001b[1;32m   1218\u001b[0m                 \u001b[0;31m# re-raise KeyboardInterrupt, to truncate traceback\u001b[0m\u001b[0;34m\u001b[0m\u001b[0;34m\u001b[0m\u001b[0m\n\u001b[0;32m-> 1219\u001b[0;31m                 \u001b[0;32mraise\u001b[0m \u001b[0mKeyboardInterrupt\u001b[0m\u001b[0;34m(\u001b[0m\u001b[0;34m\"Interrupted by user\"\u001b[0m\u001b[0;34m)\u001b[0m \u001b[0;32mfrom\u001b[0m \u001b[0;32mNone\u001b[0m\u001b[0;34m\u001b[0m\u001b[0;34m\u001b[0m\u001b[0m\n\u001b[0m\u001b[1;32m   1220\u001b[0m             \u001b[0;32mexcept\u001b[0m \u001b[0mException\u001b[0m\u001b[0;34m:\u001b[0m\u001b[0;34m\u001b[0m\u001b[0;34m\u001b[0m\u001b[0m\n\u001b[1;32m   1221\u001b[0m                 \u001b[0mself\u001b[0m\u001b[0;34m.\u001b[0m\u001b[0mlog\u001b[0m\u001b[0;34m.\u001b[0m\u001b[0mwarning\u001b[0m\u001b[0;34m(\u001b[0m\u001b[0;34m\"Invalid Message:\"\u001b[0m\u001b[0;34m,\u001b[0m \u001b[0mexc_info\u001b[0m\u001b[0;34m=\u001b[0m\u001b[0;32mTrue\u001b[0m\u001b[0;34m)\u001b[0m\u001b[0;34m\u001b[0m\u001b[0;34m\u001b[0m\u001b[0m\n",
            "\u001b[0;31mKeyboardInterrupt\u001b[0m: Interrupted by user"
          ]
        }
      ]
    },
    {
      "cell_type": "code",
      "source": [
        "#Asiganacion Lista\n",
        "Nombres = [\"Juan\", \"Carolina\", \"Andres\", \"Laura\", \"Jefry\"]\n",
        "\n",
        "#Lista 2 Cedulas\n",
        "Cedulas = [\"111111\", \"222222\", \"333333\", \"444444\", \"555555\"]\n",
        "\n",
        "#Imprimir Valor\n",
        "indice = 0\n",
        "\n",
        "while indice < len(Nombres):\n",
        "    print(Nombres[indice] , Cedulas [indice])\n",
        "    indice += 1"
      ],
      "metadata": {
        "colab": {
          "base_uri": "https://localhost:8080/"
        },
        "id": "rgeMo24-2B0j",
        "outputId": "5e0edbca-3d07-4436-a9ab-7fd37723ad4e"
      },
      "execution_count": 13,
      "outputs": [
        {
          "output_type": "stream",
          "name": "stdout",
          "text": [
            "Juan 111111\n",
            "Carolina 222222\n",
            "Andres 333333\n",
            "Laura 444444\n",
            "Jefry 555555\n"
          ]
        }
      ]
    },
    {
      "cell_type": "code",
      "source": [
        "#Asiganacion Lista\n",
        "Nombres = [\"Juan\", \"Carolina\", \"Andres\", \"Laura\", \"Jefry\"]\n",
        "\n",
        "#Remueve Variable de Lista\n",
        "Nombres.remove(\"Juan\")\n",
        "Nombres.remove(\"Jefry\")\n",
        "\n",
        "#Imprimir\n",
        "print(Nombres)"
      ],
      "metadata": {
        "colab": {
          "base_uri": "https://localhost:8080/"
        },
        "id": "ibzC8J1907fx",
        "outputId": "13a56e1b-9bc8-46cb-c5d0-5b4934c591e1"
      },
      "execution_count": 8,
      "outputs": [
        {
          "output_type": "stream",
          "name": "stdout",
          "text": [
            "['Carolina', 'Andres', 'Laura']\n"
          ]
        }
      ]
    },
    {
      "cell_type": "code",
      "source": [
        "Nombres = [\"Juan\", \"Carolina\", \"Andres\", \"Laura\", \"Jefry\"]\n",
        "\n",
        "Nombres.pop(1)\n",
        "Nombres.pop(-1)\n",
        "\n",
        "print(Nombres)"
      ],
      "metadata": {
        "colab": {
          "base_uri": "https://localhost:8080/"
        },
        "id": "gcAOrhbvz7e6",
        "outputId": "6a6aae38-3fd7-4648-9fd9-fcc3d15b8291"
      },
      "execution_count": null,
      "outputs": [
        {
          "output_type": "stream",
          "name": "stdout",
          "text": [
            "['Juan', 'Andres', 'Laura']\n"
          ]
        }
      ]
    },
    {
      "cell_type": "code",
      "source": [
        "Lista=[\"ejemplo1\",\"ejemplo2\",\"ejemplo3\"]\n",
        "Print(\"1\"())"
      ],
      "metadata": {
        "colab": {
          "base_uri": "https://localhost:8080/"
        },
        "id": "bt-W08wWt_nH",
        "outputId": "bab5ecf4-3bf6-43d4-8247-454c89c1fd3e"
      },
      "execution_count": null,
      "outputs": [
        {
          "output_type": "stream",
          "name": "stdout",
          "text": [
            "(1, 'ejemplo', 2, 3, 2, 1)\n"
          ]
        }
      ]
    },
    {
      "cell_type": "code",
      "execution_count": null,
      "metadata": {
        "colab": {
          "base_uri": "https://localhost:8080/"
        },
        "id": "TKwuFni6q37f",
        "outputId": "2776c4d6-d757-42a9-87c3-9e9c32333dde"
      },
      "outputs": [
        {
          "output_type": "stream",
          "name": "stdout",
          "text": [
            "Mis Cosas Favoritas ['Familia', 'Furbol']\n"
          ]
        }
      ],
      "source": [
        "mylist = [\"Familia\",\"Furbol\"]\n",
        "print(\"Mis Cosas Favoritas\", mylist)"
      ]
    },
    {
      "cell_type": "code",
      "source": [
        "print(\"mis cosas Favoritas\")\n",
        "for Item in mylist:\n",
        "    print(Item)"
      ],
      "metadata": {
        "colab": {
          "base_uri": "https://localhost:8080/"
        },
        "id": "VqU0j7IZtlyf",
        "outputId": "81dfcf41-2477-4b27-9764-0cd71eefb946"
      },
      "execution_count": null,
      "outputs": [
        {
          "output_type": "stream",
          "name": "stdout",
          "text": [
            "mis cosas Favoritas\n",
            "Familia\n",
            "Furbol\n"
          ]
        }
      ]
    }
  ]
}